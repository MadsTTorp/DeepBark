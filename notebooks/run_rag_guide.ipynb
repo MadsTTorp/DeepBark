{
 "cells": [
  {
   "cell_type": "markdown",
   "metadata": {},
   "source": [
    "### Notebook to run RAG setup"
   ]
  },
  {
   "cell_type": "code",
   "execution_count": 34,
   "metadata": {},
   "outputs": [],
   "source": [
    "import os\n",
    "import json\n",
    "import getpass\n",
    "from dotenv import load_dotenv, find_dotenv\n",
    "load_dotenv(find_dotenv())\n",
    "\n",
    "from langchain_openai import ChatOpenAI\n",
    "from langchain_openai import OpenAIEmbeddings\n",
    "from langchain_core.vectorstores import InMemoryVectorStore\n",
    "\n",
    "import bs4 \n",
    "from langchain import hub\n",
    "from langchain_community.document_loaders import WebBaseLoader\n",
    "from langchain_core.documents import Document\n",
    "from langchain_text_splitters import RecursiveCharacterTextSplitter\n",
    "from langgraph.graph import START, StateGraph\n",
    "from typing_extensions import List, Annotated, TypedDict\n",
    "from langchain_core.prompts import PromptTemplate\n",
    "\n",
    "# from typing import List\n"
   ]
  },
  {
   "cell_type": "code",
   "execution_count": 35,
   "metadata": {},
   "outputs": [],
   "source": [
    "if not os.environ.get(\"OPENAI_API_KEY\"):\n",
    "  os.environ[\"OPENAI_API_KEY\"] = getpass.getpass(\"Enter API key for OpenAI: \")"
   ]
  },
  {
   "cell_type": "code",
   "execution_count": 36,
   "metadata": {},
   "outputs": [],
   "source": [
    "llm = ChatOpenAI(model=\"gpt-4o-mini\")"
   ]
  },
  {
   "cell_type": "code",
   "execution_count": 37,
   "metadata": {},
   "outputs": [],
   "source": [
    "embeddings = OpenAIEmbeddings(model=\"text-embedding-3-large\")"
   ]
  },
  {
   "cell_type": "code",
   "execution_count": 38,
   "metadata": {},
   "outputs": [],
   "source": [
    "vector_store = InMemoryVectorStore(embeddings)"
   ]
  },
  {
   "cell_type": "code",
   "execution_count": 39,
   "metadata": {},
   "outputs": [],
   "source": [
    "# # Load and chunk contents of the blog\n",
    "# loader = WebBaseLoader(\n",
    "#     web_paths=(\"https://lilianweng.github.io/posts/2023-06-23-agent/\",),\n",
    "#     bs_kwargs=dict(\n",
    "#         parse_only=bs4.SoupStrainer(\n",
    "#             class_=(\"post-content\", \"post-title\", \"post-header\")\n",
    "#         )\n",
    "#     ),\n",
    "# )\n",
    "# docs = loader.load()"
   ]
  },
  {
   "cell_type": "code",
   "execution_count": 40,
   "metadata": {},
   "outputs": [],
   "source": [
    "# Load and chunk contents of the blog\n",
    "loader = WebBaseLoader(\n",
    "    web_paths=(\"https://petguide.dk/hundefoder-maerker/\",),\n",
    "    bs_kwargs=dict(\n",
    "        parse_only=bs4.SoupStrainer(\n",
    "            class_=(\"entry-content single-page\", \"entry-title\", \"entry-meta uppercase is-xsmall\")\n",
    "        )\n",
    "    ),\n",
    ")\n",
    "docs = loader.load()"
   ]
  },
  {
   "cell_type": "code",
   "execution_count": 41,
   "metadata": {},
   "outputs": [
    {
     "name": "stdout",
     "output_type": "stream",
     "text": [
      "Split blog post into 31 sub-documents.\n"
     ]
    }
   ],
   "source": [
    "# initiate the text splitter \n",
    "text_splitter = RecursiveCharacterTextSplitter(\n",
    "    chunk_size=1000,  # chunk size (characters)\n",
    "    chunk_overlap=200,  # chunk overlap (characters)\n",
    "    add_start_index=True,  # track index in original document\n",
    ")\n",
    "# split the documents into chunks \n",
    "all_splits = text_splitter.split_documents(docs)\n",
    "\n",
    "print(f\"Split blog post into {len(all_splits)} sub-documents.\")"
   ]
  },
  {
   "cell_type": "code",
   "execution_count": 42,
   "metadata": {},
   "outputs": [],
   "source": [
    "# add all sub-documents to the vector store\n",
    "# document_ids = vector_store.add_documents(documents=all_splits)\n",
    "import numpy as np\n",
    "import faiss\n",
    "# Create embeddings for each chunk\n",
    "embeddings_list = [embeddings.embed_query(doc.page_content) for doc in all_splits]\n",
    "embeddings_array = np.array(embeddings_list)\n",
    "\n",
    "# Create a FAISS index\n",
    "dimension = embeddings_array.shape[1]\n",
    "index = faiss.IndexFlatL2(dimension)\n",
    "index.add(embeddings_array)\n"
   ]
  },
  {
   "cell_type": "code",
   "execution_count": 43,
   "metadata": {},
   "outputs": [],
   "source": [
    "# collect prompt (template) from the hub\n",
    "prompt = hub.pull(\"rlm/rag-prompt\")\n",
    "\n",
    "prompt_template = \"\"\"Brug følgende stykker kontekst til at besvare spørgsmålet i slutningen. \n",
    "Hvis du ikke kender svaret, så sig bare, at du ikke ved det, og prøv ikke at opdigte et svar.\n",
    "Svar med maksimalt tre sætninger og hold svaret så kortfattet men præcist som muligt.\n",
    "Vær høflig i dit svar.\n",
    "\n",
    "{context} \n",
    "\n",
    "Spørgsmål: {question} \n",
    "\n",
    "Hjælpsomt svar:\"\"\"\n",
    "\n",
    "custom_rag_prompt = PromptTemplate.from_template(prompt_template)"
   ]
  },
  {
   "cell_type": "code",
   "execution_count": 44,
   "metadata": {},
   "outputs": [],
   "source": [
    "# Define state for application\n",
    "class State(TypedDict):\n",
    "    question: str\n",
    "    context: List[Document]\n",
    "    answer: str"
   ]
  },
  {
   "cell_type": "code",
   "execution_count": 29,
   "metadata": {},
   "outputs": [],
   "source": [
    "# define retriever to retrieve documents from the vector store\n",
    "def retrieve(state: State):\n",
    "    retrieved_docs = vector_store.similarity_search(state[\"question\"])\n",
    "    return {\"context\": retrieved_docs}\n",
    "\n",
    "\n",
    "def generate(state: State):\n",
    "    docs_content = \"\\n\\n\".join(doc.page_content for doc in state[\"context\"])\n",
    "    messages = custom_rag_prompt.invoke({\"question\": state[\"question\"], \"context\": docs_content})\n",
    "    response = llm.invoke(messages)\n",
    "    return {\"answer\": response.content}"
   ]
  },
  {
   "cell_type": "code",
   "execution_count": 47,
   "metadata": {},
   "outputs": [],
   "source": [
    "def retrieve(state: State):\n",
    "    # Create embeddings for the query\n",
    "    query_embedding = embeddings.embed_query(state[\"question\"])\n",
    "    query_embedding = np.array([query_embedding])\n",
    "    \n",
    "    # Perform similarity search\n",
    "    distances, indices = index.search(query_embedding, k=5)\n",
    "    retrieved_docs = [all_splits[i] for i in indices[0]]\n",
    "    print(f\"Retrieved {len(retrieved_docs)} documents for the question: {state['question']}\")\n",
    "    return {\"context\": retrieved_docs}\n",
    "\n",
    "def generate(state: State):\n",
    "    docs_content = \"\\n\\n\".join(doc.page_content for doc in state[\"context\"])\n",
    "    messages = custom_rag_prompt.invoke({\"question\": state[\"question\"], \"context\": docs_content})\n",
    "    response = llm.invoke(messages)\n",
    "    return {\"answer\": response.content, \"source\": state[\"context\"]}\n",
    "\n"
   ]
  },
  {
   "cell_type": "code",
   "execution_count": 48,
   "metadata": {},
   "outputs": [],
   "source": [
    "# Compile application and test\n",
    "graph_builder = StateGraph(State).add_sequence([retrieve, generate])\n",
    "graph_builder.add_edge(START, \"retrieve\")\n",
    "graph = graph_builder.compile()"
   ]
  },
  {
   "cell_type": "code",
   "execution_count": 49,
   "metadata": {},
   "outputs": [
    {
     "name": "stdout",
     "output_type": "stream",
     "text": [
      "Retrieved 5 documents for the question: Hvilket fodermærke er rig på protein, fedt, er kornfrit og produceres i Canada?\n",
      "Context: [Document(metadata={'source': 'https://petguide.dk/hundefoder-maerker/', 'start_index': 12524}, page_content='Pronature Holistic\\nPronature Holistic stammer fra Canada, som har verdens strengeste krav til dyreernæring. Derfor indeholder foderet heller ingen kunstige farvestoffer eller smagsstoffer. Det er foder, der er produceret med bæredygtighed og 100% naturlige og økologiske ingredienser. Pronature Holistic tilbyder en bred vifte af perfekt sammensatte og velbalancerede opskrifter tilpasset din hund, og desuden så er det velegnet til hunde med hud- og pelsproblemer. Ingredienserne sikrer en god fordøjelse og at foderet er velsmagende og frisk. Deres mål er, at tilbyde de ingredienser, der på bedste vis holder dit kæledyr sundt og velfungerende.'), Document(metadata={'source': 'https://petguide.dk/hundefoder-maerker/', 'start_index': 11187}, page_content='Orijen\\nOrijen er canadisk og de tilbereder selv foderet i deres køkken i Alberta, Canada. Deres foder er rig på protein og fedt, og er kornfrit. Størstedelen af kød indholdet i foderet er frisk, hvilket betyder at det er fyldt med protein, fedt, vitaminer og mineraler. Resten er tørret, hvilket resulterer i en mere koncentreret form for protein. De råvarer, som bruges i foderet, er godkendt til også at kunne bruges af mennesker, og de bliver leveret frisk til køkkenet i Alberta hver dag. Med Orijen får du foder, som kommer tæt på hundens naturlige føde. Det giver den ultimative madoplevelse for hunde.'), Document(metadata={'source': 'https://petguide.dk/hundefoder-maerker/', 'start_index': 3099}, page_content='ACANA\\nACANA laver foder ud fra et biologisk perspektiv. Med udgangspunkt i grå ulven, faderen af alle hunderacer, forsøger de at tilbyde et produkt, der imiterer den næring hunde ville finde i naturen. Dette gør de på bedst mulig vis ved at sørge for samme mængde, friskhed og variation i kød som hunde ville spise i naturen. Foderet indeholder heller ingen animalske biprodukter. Råvarerne leveres friske fra lokale producenter i Canada, hvor mærket kommer fra. Foderet bliver produceret i deres køkkener, der også har ført til deres prisvindende foder.\\xa0ACANAs foder er rigt på kød og protein, har et højt indhold af frisk kød med variation i kødet, udnyttelse af hele byttet og smart på kulhydrater.'), Document(metadata={'source': 'https://petguide.dk/hundefoder-maerker/', 'start_index': 2355}, page_content='1st Choice\\n1st Choice er kvalitetsfoder lavet i Canada, af gode lokale råvarer skabt med det formål, at sikre at hunde får den rigtige ernæring gennem hele deres liv. Med special udviklede formler, sørger de for at hundens behov bliver opfyldt gennem hundens forskellige livsfaser. Velsmag er i højsæde, men der er samtidigt gjort ekstra ud af at sikre at hunden får ekstra energi, kontrolleret sin vægt, sund hud og pels. 1st Choices vigtigste formål er, at sikre at din bedste ven får det bedste af det bedste. Derudover får du også meget foder for pengene. Med foder fra 1st Choice får du kun kvalitets ingredienser, ingen animalske biprodukter, ingen majs, hvede eller soja, kun naturlige konserveringsmidler og velsmagende smagsvarianter.\\nACANA'), Document(metadata={'source': 'https://petguide.dk/hundefoder-maerker/', 'start_index': 9810}, page_content='NOW FRESH\\nFoder fra Petcureans mærke Now Fresh er både korn- og glutenfri, og lavet med 100% frisk kød. De producerer foder til alle livsfaser og størrelser. Foderet indeholder fordøjelsesfremmende pre- og probiotika, Omega olier for en sund hund og pels, antioxidanter for øget immunitet, komplekse kulhydrater for hurtig energi og sunde bær, frugt og grøntsager. Med dette foder sikrer du din hund en nærende kost, og de bedste betingelser for en sund krop med masser af energi i det daglige. Lider din hund af allergi, har den mave-tarmproblemer eller skal den bare have det bedste af det bedste? Så er NOW FRESH et godt valg. Det er ikke for ingenting, at deres motto er “It could only be fresher if you made it from scratch” (“Det kunne kun være friskere, hvis du lavede det fra bunden.”)')]\n",
      "\n",
      "\n",
      "Answer: Det fodermærke, der er rig på protein, fedt, er kornfrit og produceres i Canada, er Orijen.\n"
     ]
    }
   ],
   "source": [
    "result = graph.invoke({\"question\": \"Hvilket fodermærke er rig på protein, fedt, er kornfrit og produceres i Canada?\"})\n",
    "\n",
    "print(f'Context: {result[\"context\"]}\\n\\n')\n",
    "print(f'Answer: {result[\"answer\"]}')"
   ]
  }
 ],
 "metadata": {
  "kernelspec": {
   "display_name": "woofwisdom-gpt",
   "language": "python",
   "name": "python3"
  },
  "language_info": {
   "codemirror_mode": {
    "name": "ipython",
    "version": 3
   },
   "file_extension": ".py",
   "mimetype": "text/x-python",
   "name": "python",
   "nbconvert_exporter": "python",
   "pygments_lexer": "ipython3",
   "version": "3.11.9"
  }
 },
 "nbformat": 4,
 "nbformat_minor": 2
}
