{
 "cells": [
  {
   "cell_type": "markdown",
   "metadata": {},
   "source": [
    "### Notebook to run RAG setup"
   ]
  },
  {
   "cell_type": "code",
   "execution_count": 1,
   "metadata": {},
   "outputs": [
    {
     "name": "stderr",
     "output_type": "stream",
     "text": [
      "USER_AGENT environment variable not set, consider setting it to identify your requests.\n"
     ]
    }
   ],
   "source": [
    "import os\n",
    "import json\n",
    "import getpass\n",
    "from dotenv import load_dotenv, find_dotenv\n",
    "load_dotenv(find_dotenv())\n",
    "\n",
    "from langchain_openai import ChatOpenAI\n",
    "from langchain_openai import OpenAIEmbeddings\n",
    "from langchain_core.vectorstores import InMemoryVectorStore\n",
    "\n",
    "import bs4 \n",
    "from langchain import hub\n",
    "from langchain_community.document_loaders import WebBaseLoader\n",
    "from langchain_core.documents import Document\n",
    "from langchain_text_splitters import RecursiveCharacterTextSplitter\n",
    "from langgraph.graph import START, StateGraph\n",
    "from typing_extensions import List, Annotated, TypedDict\n",
    "from langchain_core.prompts import PromptTemplate\n",
    "\n",
    "# from typing import List\n"
   ]
  },
  {
   "cell_type": "code",
   "execution_count": 2,
   "metadata": {},
   "outputs": [],
   "source": [
    "if not os.environ.get(\"OPENAI_API_KEY\"):\n",
    "  os.environ[\"OPENAI_API_KEY\"] = getpass.getpass(\"Enter API key for OpenAI: \")"
   ]
  },
  {
   "cell_type": "code",
   "execution_count": 3,
   "metadata": {},
   "outputs": [],
   "source": [
    "llm = ChatOpenAI(model=\"gpt-4o-mini\")"
   ]
  },
  {
   "cell_type": "code",
   "execution_count": 4,
   "metadata": {},
   "outputs": [],
   "source": [
    "embeddings = OpenAIEmbeddings(model=\"text-embedding-3-large\")"
   ]
  },
  {
   "cell_type": "code",
   "execution_count": 5,
   "metadata": {},
   "outputs": [],
   "source": [
    "vector_store = InMemoryVectorStore(embeddings)"
   ]
  },
  {
   "cell_type": "code",
   "execution_count": 6,
   "metadata": {},
   "outputs": [],
   "source": [
    "# # Load and chunk contents of the blog\n",
    "# loader = WebBaseLoader(\n",
    "#     web_paths=(\"https://lilianweng.github.io/posts/2023-06-23-agent/\",),\n",
    "#     bs_kwargs=dict(\n",
    "#         parse_only=bs4.SoupStrainer(\n",
    "#             class_=(\"post-content\", \"post-title\", \"post-header\")\n",
    "#         )\n",
    "#     ),\n",
    "# )\n",
    "# docs = loader.load()"
   ]
  },
  {
   "cell_type": "code",
   "execution_count": 7,
   "metadata": {},
   "outputs": [],
   "source": [
    "# Load and chunk contents of the blog\n",
    "loader = WebBaseLoader(\n",
    "    web_paths=(\"https://petguide.dk/hundefoder-maerker/\",),\n",
    "    bs_kwargs=dict(\n",
    "        parse_only=bs4.SoupStrainer(\n",
    "            class_=(\"entry-content single-page\", \"entry-title\", \"entry-meta uppercase is-xsmall\")\n",
    "        )\n",
    "    ),\n",
    ")\n",
    "docs = loader.load()"
   ]
  },
  {
   "cell_type": "code",
   "execution_count": 8,
   "metadata": {},
   "outputs": [
    {
     "name": "stdout",
     "output_type": "stream",
     "text": [
      "Split blog post into 31 sub-documents.\n"
     ]
    }
   ],
   "source": [
    "# initiate the text splitter \n",
    "text_splitter = RecursiveCharacterTextSplitter(\n",
    "    chunk_size=1000,  # chunk size (characters)\n",
    "    chunk_overlap=200,  # chunk overlap (characters)\n",
    "    add_start_index=True,  # track index in original document\n",
    ")\n",
    "# split the documents into chunks \n",
    "all_splits = text_splitter.split_documents(docs)\n",
    "\n",
    "print(f\"Split blog post into {len(all_splits)} sub-documents.\")"
   ]
  },
  {
   "cell_type": "code",
   "execution_count": 21,
   "metadata": {},
   "outputs": [
    {
     "data": {
      "text/plain": [
       "'Hundefoder mærker – Dit overblik over de forskellige mærker!\\nUdgivet den 22. juli 20201. august 2023 af Cecile A \\nDer findes alverdens hundefoder mærker, og det kan være svært at vælge imellem dem alle sammen. Det er forskelligt, hvad mærkerne har fokus på, og noget er bedre til f.eks. allergiske hunde end andet. Skifter du fra et andet mærke, er det vigtigt at du gør det i løbet af en periode på 7 dage.\\n Det skal foregå langsomt, så din hund kan vænne sig til det nye foder. Laver du blandinger med det gamle foder og det nye foder, burde din hund ikke reagere voldsomt på skiftet. Der er mange meninger om, hvilken hundefoder, der er bedst, men det er meget forskelligt, hvad de individuelle hunde er til. De har også forskellige smagsløg, som vi mennesker, og nogle hunde kan også være kræsne.\\nNår vi taler om foder til hunde, så skelnes der mellem tørfoder og vådfoder. \\n\\nGodbidsforslag til din hund\\n\\n\\n\\n\\n\\n\\n\\n\\n\\n\\n \\n\\n\\n\\n\\n\\n\\n\\n\\n\\nCrunchy Snack m. Struds & Brombær 200 g\\n29,00\\xa0kr.\\nTilføj til Kurv \\n\\n\\n\\n\\n\\n\\n\\n\\n\\n\\n \\n\\n\\n\\n\\n\\n\\n\\n\\n\\nCrunchy Snack m. Vildsvin & Hyben 200 g\\n29,00\\xa0kr.\\nTilføj til Kurv \\n\\n\\n\\n\\n\\n\\n\\n\\n\\n\\n \\n\\n\\n\\n\\n\\n\\n\\n\\n\\nCompanion Mini Kylling cubes til hvalpe, 50g\\n19,00\\xa0kr.\\nTilføj til Kurv \\n\\n\\n\\n\\n\\n\\n\\n\\n\\n\\n \\n\\n\\n\\n\\n\\n\\n\\n\\n\\nAlpha Spirit – 6 forskellige Ristra Sticks\\n79,00\\xa0kr.\\nTilføj til Kurv \\n\\n\\n\\n\\n\\n-50%\\n\\n\\n\\n\\n\\n \\n\\n\\n\\n\\n\\n\\n\\n\\n\\nCompanion Cubes m. and 50 g\\n Original price was: 35,00\\xa0kr..35,00\\xa0kr.Current price is: 35,00\\xa0kr..\\xa017,50\\xa0kr.\\nTilføj til Kurv \\n\\n\\n\\n\\n\\n\\n\\n\\n\\n\\n \\n\\n\\n\\n\\n\\n\\n\\n\\n\\nCompanion Beef Fillet 80g\\n39,00\\xa0kr.\\nTilføj til Kurv \\n\\n\\n\\n\\n\\n-50%\\n\\n\\n\\n\\n\\n \\n\\n\\n\\n\\n\\n\\n\\n\\n\\nCompanion Short Duck Sticks 1,5cm 80g\\n Original price was: 39,00\\xa0kr..39,00\\xa0kr.Current price is: 39,00\\xa0kr..\\xa019,50\\xa0kr.\\nTilføj til Kurv \\n\\n\\n\\n\\n\\n\\n\\n\\n\\n\\n \\n\\n\\n\\n\\n\\n\\n\\n\\n\\nBrit Træningsgodbidder til Hvalpe 200 g\\n29,00\\xa0kr.\\nTilføj til Kurv \\n\\n\\n\\n\\n\\n\\n\\t\\t\\t\\t\\t\\t\\tI Denne Artikel\\t\\t\\t\\t\\t\\t\\t\\t\\t\\t\\t\\t\\t\\n\\n\\nGodbidsforslag til din hundTørfoder1st ChoiceACANAArkwrightsARIONBrit CareDr. JohnEssential FoodsFirst BuddyFour FriendsFromm FamilyGilpaMÆTNOW FRESHNaturea NaturalsOrijenProBiotic LIVEPronature HolisticSportsman’s PrideTaste of the Wild og Taste of the Wild PREYValhalla PetfoodsZiwiPeakVådfoderAlpha SpiritApplawsCalibraNatures:MenuPurbelloSådan finder du det bedste hundefoder mærke til din hund \\n\\n\\nTørfoder\\nNedenfor har vi listet nogle eksempler op på hundefoder mærker af tørfoder. Her kan du læse mere om fordelene ved de forskellige mærker, og hvad de tilbyder.\\xa0\\n\\n1st Choice\\n1st Choice er kvalitetsfoder lavet i Canada, af gode lokale råvarer skabt med det formål, at sikre at hunde får den rigtige ernæring gennem hele deres liv. Med special udviklede formler, sørger de for at hundens behov bliver opfyldt gennem hundens forskellige livsfaser. Velsmag er i højsæde, men der er samtidigt gjort ekstra ud af at sikre at hunden får ekstra energi, kontrolleret sin vægt, sund hud og pels. 1st Choices vigtigste formål er, at sikre at din bedste ven får det bedste af det bedste. Derudover får du også meget foder for pengene. Med foder fra 1st Choice får du kun kvalitets ingredienser, ingen animalske biprodukter, ingen majs, hvede eller soja, kun naturlige konserveringsmidler og velsmagende smagsvarianter.\\nACANA\\nACANA laver foder ud fra et biologisk perspektiv. Med udgangspunkt i grå ulven, faderen af alle hunderacer, forsøger de at tilbyde et produkt, der imiterer den næring hunde ville finde i naturen. Dette gør de på bedst mulig vis ved at sørge for samme mængde, friskhed og variation i kød som hunde ville spise i naturen. Foderet indeholder heller ingen animalske biprodukter. Råvarerne leveres friske fra lokale producenter i Canada, hvor mærket kommer fra. Foderet bliver produceret i deres køkkener, der også har ført til deres prisvindende foder.\\xa0ACANAs foder er rigt på kød og protein, har et højt indhold af frisk kød med variation i kødet, udnyttelse af hele byttet og smart på kulhydrater.\\n\\nArkwrights\\nArkwrights er et mærke lavet af engelske Gilbertson & Page, og har meget fokus på gamle engelske traditioner. Det er det helt rigtige til dig, som gerne vil spare på prisen, men stadig gerne vil have god og ordentlig kvalitet. Arkwrights er skabt til voksne hunde og særligt arbejdende eller meget aktive hunde. Foderet er udviklet til at sikre, at hunden har sunde og stærke muskler, dog med tanke for at hunden holder en sund vægt. Foderet har et mindre proteinindhold, end man finder i mange andre mærker, men har derudover også et lavt fedt indhold. Der er kun de essentielle olier i, og det er rigt på vitaminer og mineraler.\\n\\nARION\\nARION hundefoder har været på markedet i over 40 år, og det medfører selvfølgelig mange års ekspertise. Det har gjort at foderet i dag har udviklet sig til den høje kvalitet man finder i dag. ARION bestræber sig efter at hunde og ejere skal nyde hinanden, og det mener de kun sker ved at du giver din hund den allerbedste ernæring. Det primære mål er, at glæde din bedste ven. ARION foder er 100% glutenfrit og 100% naturligt, hvilket betyder at der ikke er nogle tilsætningsstoffer, konserveringsmidler eller farve- og smagsstoffer. Filosofien er at holde det simpelt med førsteklasses kvalitetsråvarer for, at minimere risikoen for allergi, og sikre en høj optagelighed.\\n\\nBrit Care\\nBrit Care er, modsat hvad navnet måske ville antyde, en tjekkisk familieejet foderproducent. Virksomheden har eksisteret siden 1994, og du kan finde deres foder i over 70 lande verden over.\\xa0Brit Cares foder er kornfrit for, at holde det fri for tomme kalorier. Derudover er der ikke kylling i nogen af deres opskrifter, da der har været en stigning i allergier forårsaget af kylling de seneste år. I foderet er der tilføjet probiotika, der er et tilskud, der er særligt godt for hundens fordøjelsessystem. Brit Care foder er også særligt rigt på Omega-3, DHA og EPA, som har vigtige anti-inflammatoriske egenskaber og holder hundens hud og pels sund. Alt foder er glutenfrit.\\n\\nDr. John\\nDr. John er et andet fodermærke af engelske Gilbertson & Page. Dr. John er tiltænkt hunde med særligt sarte maver, og har en speciel hypoallergisk ingrediensliste. De henvender sig til voksne hunde, og prisen er meget konkurrencedygtig. De tilbyder foder til hunde med allergi eller følsomme maver, samt til hunde med ledproblemer. Derudover er Dr. John fuldkostfoder dvs. at foderet indeholder alle råvarer der skal til for at en hund trives.\\n\\nEssential Foods\\nEssential Foods er et dansk firma med britiske rødder, der laver højkvalitets hundefoder. De har flere prisvindende produkter, og deres filosofi er, at de vil gøre en forskel og bidrage til hundens velvære. Deres foder opskrifter er skabt til at følge deres BOF-princip. BOF står for ‘Behaviorial Optimizing Foods’. Deres foder er fyldt med ernæring, der holder blodsukkeret stabilt, og som kun indeholder ingredienser, der er gode for din hund. Et stabilt blodsukker vil samtidig også have en positiv påvirkning af din hunds mentale balance. Dette skulle resultere i en hund, der opfører sig pænere, er gladere, og at hunden vil leve længere og have det bedre i løbet af sin levetid.\\n\\nFirst Buddy\\nMed First Buddy får man foder til både hvalpe, voksne og senior hunde i en utrolig høj kvalitet og 100% glutenfri. Foderet er specialproduceret af Gilpa efter mange henvendelser fra hundeejere, der oplevede problemer med deres foder. Disse problemer kan være kløe, grim pels og dårlig mave, som denne foder løser. Foderet er særligt egnet til hunde med sensitive maver, der ikke kan tåle hvad som helst. Foderet er fyldt med kvalitetsprodukter, som gør at hunden udnytter stortset alt den indtager, hvilket betyder mere energi og mindre afføring. Derudover er foderet også 100% fri for genmodificering, og kun fyldt med nøje udvalgte højkvalitets ingredienser.\\n\\nFour Friends\\nFoder fra Four Friends udmærker sig ved at have aloe vera ekstrakt i. Aloe veraen har et højt indhold af aminosyrer, vitaminer og mineraler, der er rigtig gode for hundens tarme, og sørger for et sundt miljø heri. Planten øger også hundens energiniveau samtidig med at den stimulerer appetitten. Derudover virker planten anti-inflammatorisk, som er godt for hundens led og muskler. Det høje indhold af calcium, potassium, magnesium, zink, selenium og jern bidrager til at holde hundens pels og hud pæn og nydelig.\\nFor at undgå mulige allergiske reaktioner, så er foderet også glutenfri, da mange hunde ikke kan tåle planteprotein. Derimod er foderet fyldt med protein fra vildsvin, kalkun, and, lam og kylling.\\n\\nFromm Family\\nFromm Family er et af verdens ældste familieforetagende inden for produktion af hundefoder og kattemad. De producerer en række Super Premium foder produkter til både hunde og katte. Siden 1904 har familien i generationer videreudviklet foderet uden brug af biprodukter og kunstige konserveringsmidler. Deres hovedingredienser er frisk kød som kylling og and, og så indeholder foderet også et optimalt forhold mellem Omega 3 og 6 fedtsyrer.\\xa0\\nDr. Willard Roberts stod bag opfindelsen af det vi i dag kender som tørfoder, og familien baserer fortsat deres foder på hans oprindelige opskrifter.\\n\\nGilpa\\nFirmaet bag Gilpa hedder Gilbertson & Page, som også er producenten bag Dr. John og Arkwrights. De har produceret kvalitetsfoder i over 140 år, og tilbyder foder til voksne og senior hunde samt til hunde i alderen 6 måneder og op under navnet Gilpa. Foderet indeholder blandt andet fiskeolier, ris, Yucca ekstrakt og naturligt glucosamin fra new zealandsk grønlæbet musling. Ønsker du foder i økonomisk topklasse til konkurrencedygtig pris og kvalitet, så er dette mærke et godt bud.\\n\\nMÆT\\nMÆT er kendetegnet af frisk hundemad, som er lavet og opbygget omkring nordiske råvarer. De går op i, at foderet er sundt og gavner din hund bedst muligt med rigeligt af proteiner og ingen unødvendige tilsatte konserveringsmidler. Foderet er alt sammen baseret på mad, som vi mennesker ville kunne spise og så er det tilberedt via sous vide.\\n\\nNOW FRESH\\nFoder fra Petcureans mærke Now Fresh er både korn- og glutenfri, og lavet med 100% frisk kød. De producerer foder til alle livsfaser og størrelser. Foderet indeholder fordøjelsesfremmende pre- og probiotika, Omega olier for en sund hund og pels, antioxidanter for øget immunitet, komplekse kulhydrater for hurtig energi og sunde bær, frugt og grøntsager. Med dette foder sikrer du din hund en nærende kost, og de bedste betingelser for en sund krop med masser af energi i det daglige. Lider din hund af allergi, har den mave-tarmproblemer eller skal den bare have det bedste af det bedste? Så er NOW FRESH et godt valg. Det er ikke for ingenting, at deres motto er “It could only be fresher if you made it from scratch” (“Det kunne kun være friskere, hvis du lavede det fra bunden.”)\\n\\nNaturea Naturals\\nNaturea Naturals er et portugisisk firma grundlagt i 2010, som producerer naturligt og lækkert foder til hunde. Foderet indeholder alle de ingredienser, som din hund har brug for, for at have det godt. Naturea Naturals er fri for hormoner, hvede, majs, soja og gluten. Desuden er det kornfrit, og fyldt med friske råvarer som kød, fisk, søde kartofler, frugt, grøntsager og tang. Dette betyder, at der er et lavt indhold af kulhydrater. Det giver din hund et afbalanceret og sundt liv. Naturea Naturals tilbyder foder til voksne hunde, hvalpe, store og små hunde.\\n\\nOrijen\\nOrijen er canadisk og de tilbereder selv foderet i deres køkken i Alberta, Canada. Deres foder er rig på protein og fedt, og er kornfrit. Størstedelen af kød indholdet i foderet er frisk, hvilket betyder at det er fyldt med protein, fedt, vitaminer og mineraler. Resten er tørret, hvilket resulterer i en mere koncentreret form for protein. De råvarer, som bruges i foderet, er godkendt til også at kunne bruges af mennesker, og de bliver leveret frisk til køkkenet i Alberta hver dag. Med Orijen får du foder, som kommer tæt på hundens naturlige føde. Det giver den ultimative madoplevelse for hunde.\\n\\nProBiotic LIVE\\nDenne hundefoder fra Tyskland, er fyldt med probiotiske bakterier. Denne form for bakterier forekommer allerede i hundes tarmsystem. De betegnes som “de gode bakterier” pga. deres gavnlige egenskaber, som styrker immunforsvaret og tarmfloraen, samt giver bedre fordøjelse og udnyttelse af næringsstofferne. Udover de probiotiske bakterier, så indeholder foderet også naturlige ingredienser, som er af høj kvalitet. Foderet indeholder ingen kunstige smagsstoffer, farvestoffer eller konserveringsmidler. Alle råvarer har gennemgået den strenge godkendelse til menneskeføde. F.eks. så bliver risene vasket, så man er sikker på, at der ikke er lagermider i foderet, hvilket nogle hunde også er allergiske overfor.\\n\\nPronature Holistic\\nPronature Holistic stammer fra Canada, som har verdens strengeste krav til dyreernæring. Derfor indeholder foderet heller ingen kunstige farvestoffer eller smagsstoffer. Det er foder, der er produceret med bæredygtighed og 100% naturlige og økologiske ingredienser. Pronature Holistic tilbyder en bred vifte af perfekt sammensatte og velbalancerede opskrifter tilpasset din hund, og desuden så er det velegnet til hunde med hud- og pelsproblemer. Ingredienserne sikrer en god fordøjelse og at foderet er velsmagende og frisk. Deres mål er, at tilbyde de ingredienser, der på bedste vis holder dit kæledyr sundt og velfungerende.\\xa0\\n\\nSportsman’s Pride\\nSportsman’s Pride er prisvenligt amerikansk hundefoder, som bliver produceret i Sydtyskland efter deres originale amerikanske opskrifter. Dog er det justeret, så det lever op til de europæiske krav til kvalitet. Foderet er fri for GMO, kunstige tilsætningsstoffer og anvendelse af biprodukter. Hovedingrediensen er enten kylling eller lam. Derudover indeholder foderet glucosamin fra naturlige kilder, der medvirker til sundere led samt Omega 3 og 6 fedtsyrer, som bidrager til en blank pels og hud samt har en positiv betydning for immunsystemet.\\n\\nTaste of the Wild og Taste of the Wild PREY\\nTaste of the Wild tilbyder en velsammensat kost til din hund. Der bruges unikke animalske proteinkilder, frugt og grønt, naturlige antioxidanter og probiotiske bakterier. Der bliver ikke gået på kompromis med kvaliteten, selvom prisen er rigtig god. Kødet i foderet er fra fritgående dyr og friskfanget fisk. De tilbyder både foder med korn og uden korn. Er der korn i foderet er det korn såsom durra, hirse, quinoa og chiafrø, som alle indeholder gode fibre, antioxidanter og protein. Det er moderne foder, der er inspireret af naturen, så din hund får en afbalanceret og naturlig kost.\\xa0\\n\\nValhalla Petfoods\\nValhalla Petfoods er et dansk produkt produceret i Danmark. De tilbyder to slags hundefoder, som minder om hinanden. Den ene er mere økonomisk og er derfor blevet justeret lidt i ingredienserne. Valhalla Economy Thor+ indeholder 40% ægte kød, hvor Valhalla Fresh Thor indeholder op til 52% ægte kød. Begge er kornfri og mange af ingredienserne er økologisk og bæredygtigt fremstillet. Derudover er der ingen konserveringsmidler, GMO eller kunstige tilsætningsstoffer. Foderet kan spises af alle hunde uanset race, alder, størrelse og aktivitetsniveau.\\n\\nZiwiPeak\\nDette foder fra New Zealand er lufttørret, hvilket gør at kødet bliver bevaret naturligt med alle de gode egenskaber uden brug af kunstige konserveringsmidler, sukker eller glycerin. Foderet kan holde op til 21 måneder pga. lufttørringen. ZiwiPeak er uden korn og består af 96% frisk kød, fisk, organer og knogler. Kødet er fra fritgående dyr, som ikke er blevet fyldt med antibiotika og væksthormoner. De sidste 4% består af essentielle vitaminer og mineraler, søgræs, inulin fra cikorierod og lecithin, som er sunde fedtsyrer. Derudover indeholder foderet glucosamin fra grønlæbet muslinger, som medvirker til sunde led, og grøn kallun, som giver en sund fordøjelse. De bruger kun råvarer fra humane, etiske og bæredygtige gårde, som lever op til de strikse new zealandske regler. ZiwiPeak forsøger i sin fodersammensætning at kopiere den føde, som hunden selv ville opsøge ude i naturen. Det giver en sund krop med masser af energi.\\n\\nVådfoder\\nNedenfor kan du læse mere om mærker, der tilbyder vådfoder, og indholdet i foderet. Dette er også kun et udpluk af mærker, da der findes mange forskellige. \\n\\nAlpha Spirit\\nMed dette foder er du garanteret, at der er brugt eksklusive, friske ingredienser fra lokale producenter. Alpha Spirit indeholder ingen konserveringsmidler eller tilsætningsstoffer, og består af 92% kød eller fisk, som opfylder hundens naturlige kost behov, og frisk frugt. Derudover er der et balanceret indhold af mineraler og vitaminer, som bidrager til hundens sundhed og generelle trivsel. Hunde med allergi kan også spise dette foder, da det er hypoallergent, og er uden korn, dehydreret kød og er glutenfrit. Kødet i foderet stammer fra rester af produktionen til mennesker, hvilket er bedre for miljøet. Alpha Spirit ønsker at foderet skal minde om det hundens forfædre fik i naturen.\\n\\nApplaws\\nApplaws vådfoder er lavet med naturlige ingredienser inklusiv frisk lever og nyre. Det består af 75% kød, 25% grøntsager og er fremstillet uden korn. Kødet der bruges, er samme kvalitet som det der bruges til mennesker. Foderet har en naturlig kilde af vitaminer, mineraler og omega 3+6. Derudover er det lavet uden konserveringsmidler, tilsætningsstoffer, aromaer, smagsstoffer og kunstige farver.\\n\\nCalibra\\nCalibras foder er lavet med sunde og nærende ingredienser specielt tilpasset hundens behov. Det er skabt i tæt samarbejde med dyrlæger, og indeholder ingen palmeolie, korn, soja, konserveringsmidler eller kunstige farvestoffer. Alt deres vådfoder er med lakseolie og umættede fedtsyrer, som bidrager til sund hud og pels samt reducerer inflammatoriske reaktioner. Calibra tilbyder vådfoder til hunde med allergi og sensitive maver, og hunde som ikke har behov for særlig foder.\\n\\nNatures:Menu\\nSiden 1981 har Natures:Menu fremstillet afbalanceret foder til hunde og katte i højeste kvalitet. Foderet laves med hjælp fra dyrlæger og dyrefoder eksperter, så de er sikre på at foderet indeholder alle de rigtige næringsstoffer. Det er proteinholdigt, da det indeholder 80% kød. Du finder den højeste kvalitet af fisk, kød, frugt og grønt samt vigtige mineraler, vitaminer og olier. Der er ingen kemiske tilsætningsstoffer, tilsat sukker, kød med medicin indhold eller kunstige smags- og farvestoffer. Med Natures:Menu får du komplette, sunde og nærende måltider til alle hunde, fra Europas førende ekspert i rå og naturlig foder.\\n\\nPurbello\\nFoder fra Purbello er baseret på, hvad den moderne hund har brug for, for at få dækket sine ernæringsbehov med hensyn til proteiner, vitaminer og næringsstoffer. Der bruges kun råvarer af den højeste kvalitet, og mange af ingredienserne er økologiske. Det består af højt kødindhold, kun frisk kød, frugt og grøntsager bliver brugt, det er korn- og glutenfrit og fri for syntetiske tilsætningsstoffer. Purbello vådfoder er ikke nær så vådt som andet vådfoder, og er perfekt foder til hunde, der skal have en mere spændende smagsoplevelse!\\n\\nFordelene ved tørfoder, er at du kan give din hund en mindre mængde pga. det høje energiindhold i foderet. Derfor ses tørfoder også som det billigere valg, da det vil holde i længere tid. Tørfoder er også nemmere at håndtere, da det ikke kan gøre gulvet beskidt på samme måde som vådfoder gør, og det er let at gøre rent. \\nFordelene ved vådfoder er, at vandindholdet er højt. Har du en hund, som ikke får nok vand i løbet af dagen, kan det være en god mulighed at give den vådfoder. De fleste hunde vil nok foretrække vådfoder, da det lugter og smager af meget mere end tørfoder gør. Du kan også med fordel give din hund vådfoder, hvis den skal tabe sig, da de kan spise mere uden at overskride deres kalorieindtag.\\nDu kan med fordel også give din hund en blanding af tørfoder og vådfoder. Ved at blande dem, får din hund godt med væske samtidig med at tørfoderet bidrager til renere tænder.\\nVi håber du fik noget ud af, at læse artiklen, og blev lidt klogere på, hvilket mærke din hund skal have eller prøve, og om det skal være tørfoder eller vådfoder. Det er dig, der kender din hund bedst. Nogle af mærkerne har foder garanti, hvor du kan returnere foderet, hvis din hund ikke vil spise det.\\xa0\\nSådan finder du det bedste hundefoder mærke til din hund \\nDet kan føles helt uoverskueligt, når det kommer til at skulle finde det perfekte hundefoder mærke hjem til. For der er så meget og de har alle deres fordele og ulemper. Men det er vigtigt at huske på, at du aldrig bør sammenligne din hund og hvad den får i foder med andre. Vores hunde er nemlig alle meget forskellige og har hver især forskellige behov. Aktivitetsniveauet kan også være forskelligt fra hund til hund og det kan i den grad have indflydelse på, hvad din hund har behov for. Det kan også være, at din hund døjer med sart mave, mat pels eller noget tredje – sådanne ting er oftest også begrundelse for valg af foder. Er du i tvivl, kan det oftest være en god ide at snakke med enten avler eller dyrlægen, da de ofte har noget viden og erfaring inden for netop din race og dens behov. \\nVær obs på at har du en hvalp, skal den have hvalpefoder.Køber du i samme omgang godbidder til din hund, så kan du læse mere om godbidstasker.\\n'"
      ]
     },
     "execution_count": 21,
     "metadata": {},
     "output_type": "execute_result"
    }
   ],
   "source": [
    "docs[0].page_content"
   ]
  },
  {
   "cell_type": "code",
   "execution_count": 9,
   "metadata": {},
   "outputs": [],
   "source": [
    "# add all sub-documents to the vector store\n",
    "document_ids = vector_store.add_documents(documents=all_splits)"
   ]
  },
  {
   "cell_type": "code",
   "execution_count": 26,
   "metadata": {},
   "outputs": [],
   "source": [
    "# collect prompt (template) from the hub\n",
    "prompt = hub.pull(\"rlm/rag-prompt\")\n",
    "\n",
    "\n",
    "prompt_template = \"\"\"Brug følgende stykker kontekst til at besvare spørgsmålet i slutningen. \n",
    "Hvis du ikke kender svaret, så sig bare, at du ikke ved det, og prøv ikke at opdigte et svar.\n",
    "Svar med maksimalt tre sætninger og hold svaret så kortfattet men præcist som muligt.\n",
    "Vær høflig i dit svar.\n",
    "\n",
    "{context} \n",
    "\n",
    "Spørgsmål: {question} \n",
    "\n",
    "Hjælpsomt svar:\"\"\"\n",
    "\n",
    "custom_rag_prompt = PromptTemplate.from_template(prompt_template)"
   ]
  },
  {
   "cell_type": "code",
   "execution_count": 27,
   "metadata": {},
   "outputs": [],
   "source": [
    "# Define state for application\n",
    "class State(TypedDict):\n",
    "    question: str\n",
    "    context: List[Document]\n",
    "    answer: str"
   ]
  },
  {
   "cell_type": "code",
   "execution_count": 29,
   "metadata": {},
   "outputs": [],
   "source": [
    "# define retriever to retrieve documents from the vector store\n",
    "def retrieve(state: State):\n",
    "    retrieved_docs = vector_store.similarity_search(state[\"question\"])\n",
    "    return {\"context\": retrieved_docs}\n",
    "\n",
    "\n",
    "def generate(state: State):\n",
    "    docs_content = \"\\n\\n\".join(doc.page_content for doc in state[\"context\"])\n",
    "    messages = custom_rag_prompt.invoke({\"question\": state[\"question\"], \"context\": docs_content})\n",
    "    response = llm.invoke(messages)\n",
    "    return {\"answer\": response.content}"
   ]
  },
  {
   "cell_type": "code",
   "execution_count": 30,
   "metadata": {},
   "outputs": [],
   "source": [
    "# Compile application and test\n",
    "graph_builder = StateGraph(State).add_sequence([retrieve, generate])\n",
    "graph_builder.add_edge(START, \"retrieve\")\n",
    "graph = graph_builder.compile()"
   ]
  },
  {
   "cell_type": "code",
   "execution_count": 33,
   "metadata": {},
   "outputs": [
    {
     "name": "stdout",
     "output_type": "stream",
     "text": [
      "Context: [Document(id='40329028-f2dd-4395-8272-2eb48b3e8674', metadata={'source': 'https://petguide.dk/hundefoder-maerker/', 'start_index': 12524}, page_content='Pronature Holistic\\nPronature Holistic stammer fra Canada, som har verdens strengeste krav til dyreernæring. Derfor indeholder foderet heller ingen kunstige farvestoffer eller smagsstoffer. Det er foder, der er produceret med bæredygtighed og 100% naturlige og økologiske ingredienser. Pronature Holistic tilbyder en bred vifte af perfekt sammensatte og velbalancerede opskrifter tilpasset din hund, og desuden så er det velegnet til hunde med hud- og pelsproblemer. Ingredienserne sikrer en god fordøjelse og at foderet er velsmagende og frisk. Deres mål er, at tilbyde de ingredienser, der på bedste vis holder dit kæledyr sundt og velfungerende.'), Document(id='fdaeed85-2012-4997-8a02-a80f094e164c', metadata={'source': 'https://petguide.dk/hundefoder-maerker/', 'start_index': 11187}, page_content='Orijen\\nOrijen er canadisk og de tilbereder selv foderet i deres køkken i Alberta, Canada. Deres foder er rig på protein og fedt, og er kornfrit. Størstedelen af kød indholdet i foderet er frisk, hvilket betyder at det er fyldt med protein, fedt, vitaminer og mineraler. Resten er tørret, hvilket resulterer i en mere koncentreret form for protein. De råvarer, som bruges i foderet, er godkendt til også at kunne bruges af mennesker, og de bliver leveret frisk til køkkenet i Alberta hver dag. Med Orijen får du foder, som kommer tæt på hundens naturlige føde. Det giver den ultimative madoplevelse for hunde.'), Document(id='8d4da7aa-c417-4c0c-bd2f-551a8ae6a1ea', metadata={'source': 'https://petguide.dk/hundefoder-maerker/', 'start_index': 3099}, page_content='ACANA\\nACANA laver foder ud fra et biologisk perspektiv. Med udgangspunkt i grå ulven, faderen af alle hunderacer, forsøger de at tilbyde et produkt, der imiterer den næring hunde ville finde i naturen. Dette gør de på bedst mulig vis ved at sørge for samme mængde, friskhed og variation i kød som hunde ville spise i naturen. Foderet indeholder heller ingen animalske biprodukter. Råvarerne leveres friske fra lokale producenter i Canada, hvor mærket kommer fra. Foderet bliver produceret i deres køkkener, der også har ført til deres prisvindende foder.\\xa0ACANAs foder er rigt på kød og protein, har et højt indhold af frisk kød med variation i kødet, udnyttelse af hele byttet og smart på kulhydrater.'), Document(id='819607d9-84c6-4ae5-83d3-0badc683a2e7', metadata={'source': 'https://petguide.dk/hundefoder-maerker/', 'start_index': 2355}, page_content='1st Choice\\n1st Choice er kvalitetsfoder lavet i Canada, af gode lokale råvarer skabt med det formål, at sikre at hunde får den rigtige ernæring gennem hele deres liv. Med special udviklede formler, sørger de for at hundens behov bliver opfyldt gennem hundens forskellige livsfaser. Velsmag er i højsæde, men der er samtidigt gjort ekstra ud af at sikre at hunden får ekstra energi, kontrolleret sin vægt, sund hud og pels. 1st Choices vigtigste formål er, at sikre at din bedste ven får det bedste af det bedste. Derudover får du også meget foder for pengene. Med foder fra 1st Choice får du kun kvalitets ingredienser, ingen animalske biprodukter, ingen majs, hvede eller soja, kun naturlige konserveringsmidler og velsmagende smagsvarianter.\\nACANA')]\n",
      "\n",
      "\n",
      "Answer: Fodermærket, der er rig på protein, fedt, kornfrit og produceres i Canada, er Orijen.\n"
     ]
    }
   ],
   "source": [
    "result = graph.invoke({\"question\": \"Hvilket fodermærke er rig på protein, fedt, er kornfrit og produceres i Canada?\"})\n",
    "\n",
    "print(f'Context: {result[\"context\"]}\\n\\n')\n",
    "print(f'Answer: {result[\"answer\"]}')"
   ]
  },
  {
   "cell_type": "code",
   "execution_count": null,
   "metadata": {},
   "outputs": [],
   "source": []
  },
  {
   "cell_type": "code",
   "execution_count": null,
   "metadata": {},
   "outputs": [],
   "source": []
  }
 ],
 "metadata": {
  "kernelspec": {
   "display_name": "woofwisdom-gpt",
   "language": "python",
   "name": "python3"
  },
  "language_info": {
   "codemirror_mode": {
    "name": "ipython",
    "version": 3
   },
   "file_extension": ".py",
   "mimetype": "text/x-python",
   "name": "python",
   "nbconvert_exporter": "python",
   "pygments_lexer": "ipython3",
   "version": "3.11.9"
  }
 },
 "nbformat": 4,
 "nbformat_minor": 2
}
