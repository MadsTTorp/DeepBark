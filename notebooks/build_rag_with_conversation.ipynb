{
 "cells": [
  {
   "cell_type": "markdown",
   "metadata": {},
   "source": [
    "### Notebook to run and test RAG with chat history (v2)\n",
    "\n",
    "to do:\n",
    "````\n",
    "() improve input query / websearch functionality \n",
    "    (divide query into subqueries, make webcall for each subquery, \n",
    "     make subquery response, stitch responses together as external content to answer\n",
    "     main query)\n",
    "     e.g. Is dog A or dog B more active -> Is dog A an active dog? -> A_a/ Is dog B an active dog? A_b\n",
    "          append A_a + A_b to primary prompt...\n",
    "\n",
    " \n",
    "\n",
    "````"
   ]
  },
  {
   "cell_type": "markdown",
   "metadata": {},
   "source": [
    "### Step 1: Initialize notebook"
   ]
  },
  {
   "cell_type": "code",
   "execution_count": null,
   "metadata": {},
   "outputs": [],
   "source": [
    "from typing import Annotated, Sequence, Any, List, Dict, Union\n",
    "from typing_extensions import TypedDict\n",
    "from langchain_core.messages import BaseMessage, HumanMessage, ToolMessage, SystemMessage\n",
    "from langgraph.graph.message import add_messages\n",
    "from langchain_core.tools import Tool\n",
    "from langchain_openai import ChatOpenAI \n",
    "from langgraph.prebuilt import ToolNode\n",
    "from langgraph.graph import END, StateGraph, START\n",
    "from langgraph.prebuilt import tools_condition\n",
    "import requests\n",
    "from IPython.display import Image\n",
    "import trafilatura\n",
    "from langchain.utilities import GoogleSerperAPIWrapper"
   ]
  },
  {
   "cell_type": "markdown",
   "metadata": {},
   "source": [
    "### Initialize RAG"
   ]
  },
  {
   "cell_type": "code",
   "execution_count": 47,
   "metadata": {},
   "outputs": [],
   "source": [
    "class AgentState(TypedDict):\n",
    "    messages: Annotated[Sequence[BaseMessage], add_messages]"
   ]
  },
  {
   "cell_type": "code",
   "execution_count": 48,
   "metadata": {},
   "outputs": [],
   "source": [
    "def search_tool(query: Any) -> dict:\n",
    "    \"\"\"\n",
    "    Udfør et web-søgning med Google Serper og hent indholdet fra den mest relevante hjemmeside.\n",
    "    \n",
    "    Trin:\n",
    "      1. Kald GoogleSerperAPIWrapper.results(query) med de danske sprogparametre (hl=\"da\", gl=\"dk\").\n",
    "      2. Vælg det første (mest relevante) resultat fra de organiske resultater, men undgå eksempelvis ordbogsresultater.\n",
    "      3. Hent siden med requests og udtræk hovedindholdet med trafilatura.\n",
    "      4. Returnér et dictionary med:\n",
    "            - \"query\": den originale søgeforespørgsel,\n",
    "            - \"search_content\": det udtrukne indhold,\n",
    "            - \"source\": metadata (URL, titel og snippet).\n",
    "    \"\"\"\n",
    "    # If query is a dict, extract the string.\n",
    "    if isinstance(query, dict):\n",
    "        query = query.get(\"query\", \"\")\n",
    "    \n",
    "    search_api = GoogleSerperAPIWrapper(hl=\"da\", gl=\"dk\")\n",
    "    results = search_api.results(query)\n",
    "    organic_results = results.get(\"organic\", [])\n",
    "    \n",
    "    # Skip results from known dictionary sites.\n",
    "    valid_result = None\n",
    "    for result in organic_results:\n",
    "        url = result.get(\"link\", \"\").lower()\n",
    "        if \"ordbog\" not in url:\n",
    "            valid_result = result\n",
    "            break\n",
    "\n",
    "    if not valid_result:\n",
    "        return {\n",
    "            \"query\": query,\n",
    "            \"search_content\": \"No results found.\",\n",
    "            \"source\": None\n",
    "        }\n",
    "    \n",
    "    url = valid_result.get(\"link\", \"\")\n",
    "    try:\n",
    "        response = requests.get(url, timeout=10)\n",
    "        html = response.text\n",
    "    except Exception:\n",
    "        html = \"\"\n",
    "    \n",
    "    content = trafilatura.extract(html)\n",
    "    if not content or content.strip() == \"\":\n",
    "        content = \"No content could be extracted from the page.\"\n",
    "    \n",
    "    return {\n",
    "        \"query\": query,\n",
    "        \"search_content\": content,\n",
    "        \"source\": {\n",
    "            \"url\": url,\n",
    "            \"title\": valid_result.get(\"title\", \"No Title\"),\n",
    "            \"snippet\": valid_result.get(\"snippet\", \"No snippet\")\n",
    "        }\n",
    "    }"
   ]
  },
  {
   "cell_type": "code",
   "execution_count": null,
   "metadata": {},
   "outputs": [],
   "source": [
    "def extract_external_content(messages: Sequence[BaseMessage]) -> str:\n",
    "    \"\"\"\n",
    "    Scan the conversation for any ToolMessage that contains external content.\n",
    "    Returns the first valid external content found, or an empty string otherwise.\n",
    "    \"\"\"\n",
    "    for msg in messages:\n",
    "        if isinstance(msg, ToolMessage):\n",
    "            try:\n",
    "                # Assuming msg.content is a stringified dict; in production use json.loads.\n",
    "                result_dict = eval(msg.content)\n",
    "                ext = result_dict.get(\"search_content\", \"\")\n",
    "            except Exception:\n",
    "                ext = msg.content\n",
    "            if ext and ext != \"No results found.\":\n",
    "                return ext\n",
    "    return \"\""
   ]
  },
  {
   "cell_type": "code",
   "execution_count": null,
   "metadata": {},
   "outputs": [],
   "source": [
    "def build_prompt(query: str, external_content: str = \"\") -> str:\n",
    "    base_template = (\n",
    "        \"Du er en ekspert i alt omkring hunde, såsom racer, trivsel og adfærd. \"\n",
    "        \"Du skal besvare følgende spørgsmål:\\n\"\n",
    "        \"----\\n\"\n",
    "        \"{query}\\n\"\n",
    "        \"----\\n\"\n",
    "        \"Dit svar skal være kort og præcist. Du skal være velformuleret, men benytte et flydende og 'casual' sprog. \"\n",
    "        \"Du skal ikke svare på andet end du bliver spurgt om.\"\n",
    "    )\n",
    "    if external_content:\n",
    "        external_template = (\n",
    "            \"Ekstern information hentet fra internettet:\\n\"\n",
    "            \"{external}\\n\\n\"\n",
    "        )\n",
    "        prompt = external_template.format(external=external_content) + base_template.format(query=query)\n",
    "    else:\n",
    "        prompt = base_template.format(query=query)\n",
    "    return prompt"
   ]
  },
  {
   "cell_type": "code",
   "execution_count": null,
   "metadata": {},
   "outputs": [],
   "source": [
    "def build_final_conversation(messages: Sequence[BaseMessage], external_content: str) -> List[BaseMessage]:\n",
    "    \"\"\"\n",
    "    If external content is available, prepend a system message with the external info.\n",
    "    Otherwise, return the original conversation.\n",
    "    \"\"\"\n",
    "    if external_content:\n",
    "        system_prompt = (\n",
    "            \"Ekstern information hentet fra internettet:\\n\"\n",
    "            f\"{external_content}\\n\\n\"\n",
    "            \"Brug denne information til at besvare brugerens spørgsmål.\"\n",
    "        )\n",
    "        sys_msg = SystemMessage(content=system_prompt)\n",
    "        # Only prepend if a SystemMessage is not already at the beginning.\n",
    "        if not messages or not isinstance(messages[0], SystemMessage):\n",
    "            return [sys_msg] + list(messages)\n",
    "    return list(messages)"
   ]
  },
  {
   "cell_type": "code",
   "execution_count": null,
   "metadata": {},
   "outputs": [],
   "source": [
    "def agent(state: AgentState) -> AgentState:\n",
    "    \"\"\"\n",
    "    This node uses the LLM (with the search tool bound) to process the conversation.\n",
    "    It first checks if external information was fetched (via a tool call) and,\n",
    "    if so, injects that information as a system prompt before generating the final answer.\n",
    "    \"\"\"\n",
    "    tools = [search_tool]\n",
    "    model = ChatOpenAI(temperature=0, streaming=True, model=\"gpt-4-turbo\").bind_tools(tools)\n",
    "    \n",
    "    # Extract external content from the conversation.\n",
    "    external_content = extract_external_content(state[\"messages\"])\n",
    "    # Build the final conversation (with or without the injected system message).\n",
    "    final_messages = build_final_conversation(state[\"messages\"], external_content)\n",
    "    # Call the model with the final conversation prompt.\n",
    "    response = model.invoke(final_messages)\n",
    "    updated_messages = state[\"messages\"] + [response]\n",
    "    return {\"messages\": updated_messages}\n"
   ]
  },
  {
   "cell_type": "code",
   "execution_count": 66,
   "metadata": {},
   "outputs": [],
   "source": [
    "def execute_tools(state: AgentState) -> AgentState:\n",
    "    \"\"\"\n",
    "    Check the last message for tool calls, invoke the corresponding tool(s)\n",
    "    with the provided arguments (fixing the argument extraction), and return a ToolMessage.\n",
    "    \"\"\"\n",
    "    tool_calls = state[\"messages\"][-1].tool_calls  # assumed to be a list of dicts\n",
    "    results = []\n",
    "    for t in tool_calls:\n",
    "        if t[\"name\"] != \"search_tool\":\n",
    "            result = \"Error: There's no such tool, please try again\"\n",
    "        else:\n",
    "            # Extract the query string from the tool arguments.\n",
    "            args = t[\"args\"]\n",
    "            q = args.get(\"query\", args) if isinstance(args, dict) else args\n",
    "            result = search_tool(q)\n",
    "            results.append(\n",
    "                ToolMessage(\n",
    "                    tool_call_id=t[\"id\"],\n",
    "                    name=t[\"name\"],\n",
    "                    content=str(result)\n",
    "                )\n",
    "            )\n",
    "    return {\"messages\": results}"
   ]
  },
  {
   "cell_type": "code",
   "execution_count": 67,
   "metadata": {},
   "outputs": [],
   "source": [
    "def tool_exists(state: AgentState) -> bool:\n",
    "    \"\"\"\n",
    "    Returns True if the last message contains any tool calls.\n",
    "    \"\"\"\n",
    "    return len(state[\"messages\"][-1].tool_calls) > 0"
   ]
  },
  {
   "cell_type": "code",
   "execution_count": 68,
   "metadata": {},
   "outputs": [],
   "source": [
    "prompt_template = (\n",
    "    \"Du er en hjælpsom AI assistent, specialiseret i at besvare spørgsmål med et kort, \"\n",
    "    \"konkret og velformuleret svar. Brug følgende information til at besvare spørgsmålet:\\n\"\n",
    "    \"---\\n\"\n",
    "    \"{search_content}\\n\"\n",
    "    \"---\\n\"\n",
    "    \"Spørgsmålet du skal besvare/forholde dig til er:\\n\"\n",
    "    \"---\\n\"\n",
    "    \"{query}\\n\"\n",
    "    \"---\\n\"\n",
    "    \"Din opgave er:\\n\"\n",
    "    \"1. Læs ovenstående information grundigt. Sæt dig godt ind i indholdet.\\n\"\n",
    "    \"2. Læs spørgsmålet grundigt og sikre dig at du forstår det.\\n\"\n",
    "    \"3. Besvar spørgsmålet kort og præcist, på baggrund af den information du har læst.\\n\"\n",
    "    \"Svaret må kun være på baggrund af den information, der er givet ovenfor.\\n\"\n",
    "    \"Hvis du ikke kan finde svaret, skriv venligst: Jeg kan ikke finde svaret.\\n\"\n",
    "    \"Du skal svare i et let forståeligt sprog, og undgå at bruge for teknisk sprog.\\n\"\n",
    "    \"Forklar svaret, så det er let forståeligt for alle.\"\n",
    ")"
   ]
  },
  {
   "cell_type": "code",
   "execution_count": 69,
   "metadata": {},
   "outputs": [],
   "source": [
    "def create_graph():\n",
    "    \"\"\"\n",
    "    Build the LangGraph agent with the following flow:\n",
    "    \"\"\"\n",
    "    workflow = StateGraph(AgentState)\n",
    "    workflow.add_node(\"agent\", agent)\n",
    "    workflow.add_node(\"tools\", execute_tools)\n",
    "    \n",
    "    workflow.add_edge(START, \"agent\")\n",
    "    workflow.add_conditional_edges(\"agent\", tool_exists, {True: \"tools\", False: END})\n",
    "    workflow.add_edge(\"tools\", \"agent\")\n",
    "    \n",
    "    workflow.set_entry_point(\"agent\")\n",
    "    return workflow.compile()"
   ]
  },
  {
   "cell_type": "code",
   "execution_count": 70,
   "metadata": {},
   "outputs": [],
   "source": [
    "graph = create_graph()"
   ]
  },
  {
   "cell_type": "code",
   "execution_count": 71,
   "metadata": {},
   "outputs": [
    {
     "data": {
      "image/png": "[encoded data removed]",
      "text/plain": [
       "<IPython.core.display.Image object>"
      ]
     },
     "metadata": {},
     "output_type": "display_data"
    }
   ],
   "source": [
    "display(Image(graph.get_graph().draw_mermaid_png()))"
   ]
  },
  {
   "cell_type": "markdown",
   "metadata": {},
   "source": [
    "# __"
   ]
  },
  {
   "cell_type": "code",
   "execution_count": 72,
   "metadata": {},
   "outputs": [],
   "source": [
    "def print_stream(stream):\n",
    "    for s in stream:\n",
    "        message = s[\"messages\"][-1]\n",
    "        if isinstance(message, tuple):\n",
    "            print(message)\n",
    "        else:\n",
    "            message.pretty_print()"
   ]
  },
  {
   "cell_type": "code",
   "execution_count": 73,
   "metadata": {},
   "outputs": [],
   "source": [
    "config = {\"configurable\": {\"thread_id\": \"abc123\"}}"
   ]
  },
  {
   "cell_type": "code",
   "execution_count": 74,
   "metadata": {},
   "outputs": [
    {
     "name": "stdout",
     "output_type": "stream",
     "text": [
      "================================\u001b[1m Human Message \u001b[0m=================================\n",
      "\n",
      "Er en Labrador Retriever en aktiv hund?\n",
      "[HumanMessage(content='Er en Labrador Retriever en aktiv hund?', additional_kwargs={}, response_metadata={}, id='bf72f257-028b-4fc9-8b4d-68bfe8ec5bc2')]\n",
      "==================================\u001b[1m Ai Message \u001b[0m==================================\n",
      "Tool Calls:\n",
      "  search_tool (call_etk5o8imOAoVLLemsvJaFqa4)\n",
      " Call ID: call_etk5o8imOAoVLLemsvJaFqa4\n",
      "  Args:\n",
      "    query: Er en Labrador Retriever en aktiv hund\n",
      "=================================\u001b[1m Tool Message \u001b[0m=================================\n",
      "Name: search_tool\n",
      "\n",
      "{'query': 'Er en Labrador Retriever en aktiv hund', 'search_content': 'Oprindelsesland: England\\nLevealder: 12-14 år\\nHøjde: Hanner 56-57 cm, tæver 54-56 cm\\nVægt: Hanner 30-40 kg, tæver 25-35 kg\\nFarve: Sort, gul eller brun\\nFCI-gruppe: 8 (apporterende jagthunde)\\nLabradorens baggrund\\nLabradorens oprindelse er behæftet med en vis usikkerhed, men overordnet er der enighed om, at den stammer fra Newfoundland, en ø i Canada, hvor deres forfædre er blevet brugt som arbejdshunde af lokale fiskere. De blev avlet til at hente fisk, trække fiskenet, finde skadede fugle og apportere vildt under jagt. De blev først anerkendt som en decideret hunderace i England i det 19. århundrede, og de blev senere populære i USA og mange andre dele af verden. Labradoren er avlet til at arbejde, og det er de stadig kendt for i dag, hvor de ofte bruges til jagt, narkohunde, servicehunde og meget andet.\\nTemperament\\nTemperamentet er noget af det, der vinder selv den største modstander over. Labradoren er nemlig kendt for sit venlige og godmodige sind. Den er faktisk danskernes favorit både som jagt- og familiehund, og det er der ikke andre, der kan bryste sig af at kunne. Det er nemlig to meget forskellige discipliner.\\nNøglen til denne bedrift ligger i dens temperament. Labradoren er nemlig en naturligt social hund, som elsker at være en del af en familie og bruge tid med sine mennesker. De er også kendt for deres tålmodighed, hvilket er en essentiel egenskab, hvis man skal være hund omkring børn.\\nDesuden er de intelligente og lærenemme, hvilket gør dem lette at træne. Det er især noget, som jægerne sætter pris på, da en jagthund, der ikke lystrer hver gang, kan blive en rigtig farlig cocktail. Sidste ingrediens er deres energiniveau. De elsker at bevæge sig, lege og udforske nye ting, men er samtidig gode til at slappe af, når der ikke sker det store.\\nSærligt som ung kan labradoren være lidt af en bulderbasse. Den har svært ved at tøjle sin livsglæde, hvilket kan resultere i alt lige fra skuldertakling af andre hunde til voldsomme glædesgnub op ad dine ben. Du må være en ansvarsfuld hundeejer og kalde din labrador til dig, hvis den er typen, som kan være lidt voldsom i mødet med andre (særligt mindre) hunde.\\nPå hjemmebane kan det også gå vildt for sig, særligt når der bydes velkommen hjem. Hav nogle godbidder klar og træn sit eller hav en kurv ved hoveddøren med en dummy eller legetøj, som den kan få i munden. På den måde kan du belønne din labrador for at gøre noget rigtigt frem for at skælde den ud for at vise sin store velkomstglæde.\\nUdseende og størrelse\\nLabradoren er en mellemstor race, med en typisk vægt på mellem 25-40 kg og en højde på omkring 54-57 cm afhængigt af om det er en han eller tæve. De har en stærk, muskuløs krop, der er bygget til arbejde og aktivitet.\\nLabradoren kommer i to udgaver – den klassiske type (også kaldet allround-labrador) og jagtmodellen (der kaldes Formel 1). Jagtmodellen er af lidt lettere bygning og er også mindre i størrelsen, hvor den klassiske er højere og noget kraftigere bygget.\\nHvor gammel bliver en labrador?\\nEn labrador har en forventet levetid på ca. 12-14 år, men det varierer altid fra individ til individ og påvirkes selvfølgelig også at sundhed og livsstil.\\nPelspleje\\nPelsen på en labrador er kort, tæt og vandafvisende, hvilket gør den velegnet til at arbejde udenfor hele året rundt. De elsker at svømme og bistår dig gerne som badepartner, hvis du er vinterbadetypen.\\nStår der labrador på ønskesedlen, så skal der også tilføjes en effektiv støvsuger blandt ønskerne. De fælder nemlig en del – og det er hele året. En god børstning en gang om ugen i den værste fældeperiode kan holde det lidt nede, men støvsugning slipper du ikke udenom. Ellers behøver du ikke gøre så meget andet ved pelsen, men skal naturligvis huske at klippe klør.\\nTræning af labradoren\\nLabradoren er en intelligent race, der elsker at lære nyt og arbejde. De er kendt for at være lette at træne, og at apportere er en naturlig del af deres DNA, som bør inkorporeres både i træning såvel som hverdagen – også selvom de ikke skal bruges til jagt. Det giver dem nemlig en stor glæde at kunne dyrke det, de er avlet til.\\nDesuden er det også vigtigt at stimulere labradoren mentalt. En gåtur rundt i kvarteret er altså ikke nok. Giv den søgeopgaver ude og inde og invitér til samarbejde. Der er ikke noget, labradoren hellere vil end at lave ting sammen med dig og gøre dig tilfreds.\\nSelvom racen er kendt for at være rolig indendørs, så er det kun noget, der sker, hvis du sørger for, at din labrador kommer ud og løbe løs uden snor og gerne flere gange om dagen. En af de største sundhedsudfordringer for racen er overvægt. Derfor har du et stort ansvar for at sikre, at din labrador holdes i god form hele livet, og det indebærer flere lange gåture hver dag i varieret terræn.\\nHvad fejler en labrador?\\nI Agria indsamler vi statistik på alle de hunderacer der er forsikret hos os. Det giver os en helt unik skade- og sygdomsstatistik, der giver indblik i, hvilke sygdomme og skader der rammer specifikke racer. Statistikken, Agria Breed Profiles, bygger på Agrias skadestatistik, og materialet er baseret på over 1.500.000 svenske hunde.\\nLigesom alle andre hunde kan en labrador komme galt afsted eller blive syg. Derfor har vi ikke taget de ting med, som generelt rammer hunde uanset race. Her har vi i stedet fundet de tre hyppigste racespecifikke diagnoser:\\n- Albueleds- og skuldersygdomme\\n- Allergi (hud- og øreproblemer)\\n- Overvægt\\nDerudover kan de vandglade racer, som labradoren jo er, få hotspot og svømmehale (water tail).\\nDet vi elsker labradoren for\\nLabradoren er elskelig på mange områder, så det er svært kun at skulle vælge enkelte aspekter ud, men vi har alligevel lavet en lille liste:\\n- Deres fantastiske sind: De er venlige, sociale og en rigtig god kammerat for alle i familien. De er meget sjældent aggressive og de elsker samværet med både andre hunde og deres familie. Det er simpelthen bare en sand ven, der går gennem ild og vand for dig.\\n- Deres intelligens: Labradoren er en intelligent race, som tager godt imod træning. Det er også en af de ting, der gør dem populære blandt jægere og politifolk, men såmænd også for den almindelige hundeejer. Labradoren bliver hurtigt din yndlingselev.\\n- Deres alsidighed: En labrador kan både være din hårdtarbejdende kollega, men også en rolig ven derhjemme. De kan rumme begge dele, og formår du at aktivere dem korrekt, så har du virkelig en dejlig hund, som du kan bruge til det hele.\\nDet skal du vide, når du vælger en labrador\\nSelvom labradoren er en fantastisk race, så er der (selvfølgelig) også udfordringer ved at have netop den. Vi har samlet nogle af de ting, du skal være forberedt på:\\n- Energiniveauet: Labradoren er en aktiv race, der kræver meget motion og stimulering for at forblive glad og sund. Hvis de ikke får tilstrækkelig motion og mental stimulering, kan de blive kede af det og udvikle uønsket adfærd. Den er også fysisk stærk, så du skal sætte ind med træning fra en ung alder, hvis du skal kunne styre dit energibundt. Det kræver altså noget af dig som ejer, hvis du skal have en labrador i familien.\\n- Madglæde med stort M: Labradoren er en race, som er god til at udnytte sit foder, netop fordi den er lavet til at arbejde meget. Det betyder, at de går langt på literen, og hvis ikke de bliver aktiveret og får nok motion, så kan de hurtigt blive overvægtige. Overvægt kan føre til en række sundhedsproblemer, såsom led- og hjerteproblemer. Du skal derfor holde godt øje med omkredsen på din labrador.\\n- De bærer på alt: Det er en egenskab, der er medfødt, og det er så naturligt for dem, at de ikke kan lade være. Træner du det jævnligt og udfordrer dem mentalt, så finder de ikke selv på helt så mange løjer, men du skal kunne smile af, at du finder dine sofapuder, sko eller andre ting i haven.\\nVil du vide mere om andre populære racer?\\nVi har samlet en liste med de mest populære hunderacer, så du kan blive klogere på racens behov, styrker, udfordringer, og du kan finde din bedste firbenede ven!\\nBeregn din pris!\\nSe, hvad det koster at sygeforsikre din hund.', 'source': {'url': 'https://www.agria.dk/hund/hunderacer/labrador-retriever/', 'title': 'Labrador retriever - Lær om racen og få fordele og ulemper her', 'snippet': 'Energiniveauet: Labradoren er en aktiv race, der kræver meget motion og stimulering for at forblive glad og sund. Hvis de ikke får tilstrækkelig motion og ...'}}\n",
      "[SystemMessage(content='Ekstern information hentet fra internettet:\\nOprindelsesland: England\\nLevealder: 12-14 år\\nHøjde: Hanner 56-57 cm, tæver 54-56 cm\\nVægt: Hanner 30-40 kg, tæver 25-35 kg\\nFarve: Sort, gul eller brun\\nFCI-gruppe: 8 (apporterende jagthunde)\\nLabradorens baggrund\\nLabradorens oprindelse er behæftet med en vis usikkerhed, men overordnet er der enighed om, at den stammer fra Newfoundland, en ø i Canada, hvor deres forfædre er blevet brugt som arbejdshunde af lokale fiskere. De blev avlet til at hente fisk, trække fiskenet, finde skadede fugle og apportere vildt under jagt. De blev først anerkendt som en decideret hunderace i England i det 19. århundrede, og de blev senere populære i USA og mange andre dele af verden. Labradoren er avlet til at arbejde, og det er de stadig kendt for i dag, hvor de ofte bruges til jagt, narkohunde, servicehunde og meget andet.\\nTemperament\\nTemperamentet er noget af det, der vinder selv den største modstander over. Labradoren er nemlig kendt for sit venlige og godmodige sind. Den er faktisk danskernes favorit både som jagt- og familiehund, og det er der ikke andre, der kan bryste sig af at kunne. Det er nemlig to meget forskellige discipliner.\\nNøglen til denne bedrift ligger i dens temperament. Labradoren er nemlig en naturligt social hund, som elsker at være en del af en familie og bruge tid med sine mennesker. De er også kendt for deres tålmodighed, hvilket er en essentiel egenskab, hvis man skal være hund omkring børn.\\nDesuden er de intelligente og lærenemme, hvilket gør dem lette at træne. Det er især noget, som jægerne sætter pris på, da en jagthund, der ikke lystrer hver gang, kan blive en rigtig farlig cocktail. Sidste ingrediens er deres energiniveau. De elsker at bevæge sig, lege og udforske nye ting, men er samtidig gode til at slappe af, når der ikke sker det store.\\nSærligt som ung kan labradoren være lidt af en bulderbasse. Den har svært ved at tøjle sin livsglæde, hvilket kan resultere i alt lige fra skuldertakling af andre hunde til voldsomme glædesgnub op ad dine ben. Du må være en ansvarsfuld hundeejer og kalde din labrador til dig, hvis den er typen, som kan være lidt voldsom i mødet med andre (særligt mindre) hunde.\\nPå hjemmebane kan det også gå vildt for sig, særligt når der bydes velkommen hjem. Hav nogle godbidder klar og træn sit eller hav en kurv ved hoveddøren med en dummy eller legetøj, som den kan få i munden. På den måde kan du belønne din labrador for at gøre noget rigtigt frem for at skælde den ud for at vise sin store velkomstglæde.\\nUdseende og størrelse\\nLabradoren er en mellemstor race, med en typisk vægt på mellem 25-40 kg og en højde på omkring 54-57 cm afhængigt af om det er en han eller tæve. De har en stærk, muskuløs krop, der er bygget til arbejde og aktivitet.\\nLabradoren kommer i to udgaver – den klassiske type (også kaldet allround-labrador) og jagtmodellen (der kaldes Formel 1). Jagtmodellen er af lidt lettere bygning og er også mindre i størrelsen, hvor den klassiske er højere og noget kraftigere bygget.\\nHvor gammel bliver en labrador?\\nEn labrador har en forventet levetid på ca. 12-14 år, men det varierer altid fra individ til individ og påvirkes selvfølgelig også at sundhed og livsstil.\\nPelspleje\\nPelsen på en labrador er kort, tæt og vandafvisende, hvilket gør den velegnet til at arbejde udenfor hele året rundt. De elsker at svømme og bistår dig gerne som badepartner, hvis du er vinterbadetypen.\\nStår der labrador på ønskesedlen, så skal der også tilføjes en effektiv støvsuger blandt ønskerne. De fælder nemlig en del – og det er hele året. En god børstning en gang om ugen i den værste fældeperiode kan holde det lidt nede, men støvsugning slipper du ikke udenom. Ellers behøver du ikke gøre så meget andet ved pelsen, men skal naturligvis huske at klippe klør.\\nTræning af labradoren\\nLabradoren er en intelligent race, der elsker at lære nyt og arbejde. De er kendt for at være lette at træne, og at apportere er en naturlig del af deres DNA, som bør inkorporeres både i træning såvel som hverdagen – også selvom de ikke skal bruges til jagt. Det giver dem nemlig en stor glæde at kunne dyrke det, de er avlet til.\\nDesuden er det også vigtigt at stimulere labradoren mentalt. En gåtur rundt i kvarteret er altså ikke nok. Giv den søgeopgaver ude og inde og invitér til samarbejde. Der er ikke noget, labradoren hellere vil end at lave ting sammen med dig og gøre dig tilfreds.\\nSelvom racen er kendt for at være rolig indendørs, så er det kun noget, der sker, hvis du sørger for, at din labrador kommer ud og løbe løs uden snor og gerne flere gange om dagen. En af de største sundhedsudfordringer for racen er overvægt. Derfor har du et stort ansvar for at sikre, at din labrador holdes i god form hele livet, og det indebærer flere lange gåture hver dag i varieret terræn.\\nHvad fejler en labrador?\\nI Agria indsamler vi statistik på alle de hunderacer der er forsikret hos os. Det giver os en helt unik skade- og sygdomsstatistik, der giver indblik i, hvilke sygdomme og skader der rammer specifikke racer. Statistikken, Agria Breed Profiles, bygger på Agrias skadestatistik, og materialet er baseret på over 1.500.000 svenske hunde.\\nLigesom alle andre hunde kan en labrador komme galt afsted eller blive syg. Derfor har vi ikke taget de ting med, som generelt rammer hunde uanset race. Her har vi i stedet fundet de tre hyppigste racespecifikke diagnoser:\\n- Albueleds- og skuldersygdomme\\n- Allergi (hud- og øreproblemer)\\n- Overvægt\\nDerudover kan de vandglade racer, som labradoren jo er, få hotspot og svømmehale (water tail).\\nDet vi elsker labradoren for\\nLabradoren er elskelig på mange områder, så det er svært kun at skulle vælge enkelte aspekter ud, men vi har alligevel lavet en lille liste:\\n- Deres fantastiske sind: De er venlige, sociale og en rigtig god kammerat for alle i familien. De er meget sjældent aggressive og de elsker samværet med både andre hunde og deres familie. Det er simpelthen bare en sand ven, der går gennem ild og vand for dig.\\n- Deres intelligens: Labradoren er en intelligent race, som tager godt imod træning. Det er også en af de ting, der gør dem populære blandt jægere og politifolk, men såmænd også for den almindelige hundeejer. Labradoren bliver hurtigt din yndlingselev.\\n- Deres alsidighed: En labrador kan både være din hårdtarbejdende kollega, men også en rolig ven derhjemme. De kan rumme begge dele, og formår du at aktivere dem korrekt, så har du virkelig en dejlig hund, som du kan bruge til det hele.\\nDet skal du vide, når du vælger en labrador\\nSelvom labradoren er en fantastisk race, så er der (selvfølgelig) også udfordringer ved at have netop den. Vi har samlet nogle af de ting, du skal være forberedt på:\\n- Energiniveauet: Labradoren er en aktiv race, der kræver meget motion og stimulering for at forblive glad og sund. Hvis de ikke får tilstrækkelig motion og mental stimulering, kan de blive kede af det og udvikle uønsket adfærd. Den er også fysisk stærk, så du skal sætte ind med træning fra en ung alder, hvis du skal kunne styre dit energibundt. Det kræver altså noget af dig som ejer, hvis du skal have en labrador i familien.\\n- Madglæde med stort M: Labradoren er en race, som er god til at udnytte sit foder, netop fordi den er lavet til at arbejde meget. Det betyder, at de går langt på literen, og hvis ikke de bliver aktiveret og får nok motion, så kan de hurtigt blive overvægtige. Overvægt kan føre til en række sundhedsproblemer, såsom led- og hjerteproblemer. Du skal derfor holde godt øje med omkredsen på din labrador.\\n- De bærer på alt: Det er en egenskab, der er medfødt, og det er så naturligt for dem, at de ikke kan lade være. Træner du det jævnligt og udfordrer dem mentalt, så finder de ikke selv på helt så mange løjer, men du skal kunne smile af, at du finder dine sofapuder, sko eller andre ting i haven.\\nVil du vide mere om andre populære racer?\\nVi har samlet en liste med de mest populære hunderacer, så du kan blive klogere på racens behov, styrker, udfordringer, og du kan finde din bedste firbenede ven!\\nBeregn din pris!\\nSe, hvad det koster at sygeforsikre din hund.\\n\\nBrug denne information til at besvare brugerens spørgsmål.', additional_kwargs={}, response_metadata={}), HumanMessage(content='Er en Labrador Retriever en aktiv hund?', additional_kwargs={}, response_metadata={}, id='bf72f257-028b-4fc9-8b4d-68bfe8ec5bc2'), AIMessage(content='', additional_kwargs={'tool_calls': [{'index': 0, 'id': 'call_etk5o8imOAoVLLemsvJaFqa4', 'function': {'arguments': '{\"query\":\"Er en Labrador Retriever en aktiv hund\"}', 'name': 'search_tool'}, 'type': 'function'}]}, response_metadata={'finish_reason': 'tool_calls', 'model_name': 'gpt-4-turbo-2024-04-09', 'system_fingerprint': 'fp_7c63087da1'}, id='run-9de997d3-12c6-4005-ba23-ea5538380941-0', tool_calls=[{'name': 'search_tool', 'args': {'query': 'Er en Labrador Retriever en aktiv hund'}, 'id': 'call_etk5o8imOAoVLLemsvJaFqa4', 'type': 'tool_call'}]), ToolMessage(content=\"{'query': 'Er en Labrador Retriever en aktiv hund', 'search_content': 'Oprindelsesland: England\\\\nLevealder: 12-14 år\\\\nHøjde: Hanner 56-57 cm, tæver 54-56 cm\\\\nVægt: Hanner 30-40 kg, tæver 25-35 kg\\\\nFarve: Sort, gul eller brun\\\\nFCI-gruppe: 8 (apporterende jagthunde)\\\\nLabradorens baggrund\\\\nLabradorens oprindelse er behæftet med en vis usikkerhed, men overordnet er der enighed om, at den stammer fra Newfoundland, en ø i Canada, hvor deres forfædre er blevet brugt som arbejdshunde af lokale fiskere. De blev avlet til at hente fisk, trække fiskenet, finde skadede fugle og apportere vildt under jagt. De blev først anerkendt som en decideret hunderace i England i det 19. århundrede, og de blev senere populære i USA og mange andre dele af verden. Labradoren er avlet til at arbejde, og det er de stadig kendt for i dag, hvor de ofte bruges til jagt, narkohunde, servicehunde og meget andet.\\\\nTemperament\\\\nTemperamentet er noget af det, der vinder selv den største modstander over. Labradoren er nemlig kendt for sit venlige og godmodige sind. Den er faktisk danskernes favorit både som jagt- og familiehund, og det er der ikke andre, der kan bryste sig af at kunne. Det er nemlig to meget forskellige discipliner.\\\\nNøglen til denne bedrift ligger i dens temperament. Labradoren er nemlig en naturligt social hund, som elsker at være en del af en familie og bruge tid med sine mennesker. De er også kendt for deres tålmodighed, hvilket er en essentiel egenskab, hvis man skal være hund omkring børn.\\\\nDesuden er de intelligente og lærenemme, hvilket gør dem lette at træne. Det er især noget, som jægerne sætter pris på, da en jagthund, der ikke lystrer hver gang, kan blive en rigtig farlig cocktail. Sidste ingrediens er deres energiniveau. De elsker at bevæge sig, lege og udforske nye ting, men er samtidig gode til at slappe af, når der ikke sker det store.\\\\nSærligt som ung kan labradoren være lidt af en bulderbasse. Den har svært ved at tøjle sin livsglæde, hvilket kan resultere i alt lige fra skuldertakling af andre hunde til voldsomme glædesgnub op ad dine ben. Du må være en ansvarsfuld hundeejer og kalde din labrador til dig, hvis den er typen, som kan være lidt voldsom i mødet med andre (særligt mindre) hunde.\\\\nPå hjemmebane kan det også gå vildt for sig, særligt når der bydes velkommen hjem. Hav nogle godbidder klar og træn sit eller hav en kurv ved hoveddøren med en dummy eller legetøj, som den kan få i munden. På den måde kan du belønne din labrador for at gøre noget rigtigt frem for at skælde den ud for at vise sin store velkomstglæde.\\\\nUdseende og størrelse\\\\nLabradoren er en mellemstor race, med en typisk vægt på mellem 25-40 kg og en højde på omkring 54-57 cm afhængigt af om det er en han eller tæve. De har en stærk, muskuløs krop, der er bygget til arbejde og aktivitet.\\\\nLabradoren kommer i to udgaver – den klassiske type (også kaldet allround-labrador) og jagtmodellen (der kaldes Formel 1). Jagtmodellen er af lidt lettere bygning og er også mindre i størrelsen, hvor den klassiske er højere og noget kraftigere bygget.\\\\nHvor gammel bliver en labrador?\\\\nEn labrador har en forventet levetid på ca. 12-14 år, men det varierer altid fra individ til individ og påvirkes selvfølgelig også at sundhed og livsstil.\\\\nPelspleje\\\\nPelsen på en labrador er kort, tæt og vandafvisende, hvilket gør den velegnet til at arbejde udenfor hele året rundt. De elsker at svømme og bistår dig gerne som badepartner, hvis du er vinterbadetypen.\\\\nStår der labrador på ønskesedlen, så skal der også tilføjes en effektiv støvsuger blandt ønskerne. De fælder nemlig en del – og det er hele året. En god børstning en gang om ugen i den værste fældeperiode kan holde det lidt nede, men støvsugning slipper du ikke udenom. Ellers behøver du ikke gøre så meget andet ved pelsen, men skal naturligvis huske at klippe klør.\\\\nTræning af labradoren\\\\nLabradoren er en intelligent race, der elsker at lære nyt og arbejde. De er kendt for at være lette at træne, og at apportere er en naturlig del af deres DNA, som bør inkorporeres både i træning såvel som hverdagen – også selvom de ikke skal bruges til jagt. Det giver dem nemlig en stor glæde at kunne dyrke det, de er avlet til.\\\\nDesuden er det også vigtigt at stimulere labradoren mentalt. En gåtur rundt i kvarteret er altså ikke nok. Giv den søgeopgaver ude og inde og invitér til samarbejde. Der er ikke noget, labradoren hellere vil end at lave ting sammen med dig og gøre dig tilfreds.\\\\nSelvom racen er kendt for at være rolig indendørs, så er det kun noget, der sker, hvis du sørger for, at din labrador kommer ud og løbe løs uden snor og gerne flere gange om dagen. En af de største sundhedsudfordringer for racen er overvægt. Derfor har du et stort ansvar for at sikre, at din labrador holdes i god form hele livet, og det indebærer flere lange gåture hver dag i varieret terræn.\\\\nHvad fejler en labrador?\\\\nI Agria indsamler vi statistik på alle de hunderacer der er forsikret hos os. Det giver os en helt unik skade- og sygdomsstatistik, der giver indblik i, hvilke sygdomme og skader der rammer specifikke racer. Statistikken, Agria Breed Profiles, bygger på Agrias skadestatistik, og materialet er baseret på over 1.500.000 svenske hunde.\\\\nLigesom alle andre hunde kan en labrador komme galt afsted eller blive syg. Derfor har vi ikke taget de ting med, som generelt rammer hunde uanset race. Her har vi i stedet fundet de tre hyppigste racespecifikke diagnoser:\\\\n- Albueleds- og skuldersygdomme\\\\n- Allergi (hud- og øreproblemer)\\\\n- Overvægt\\\\nDerudover kan de vandglade racer, som labradoren jo er, få hotspot og svømmehale (water tail).\\\\nDet vi elsker labradoren for\\\\nLabradoren er elskelig på mange områder, så det er svært kun at skulle vælge enkelte aspekter ud, men vi har alligevel lavet en lille liste:\\\\n- Deres fantastiske sind: De er venlige, sociale og en rigtig god kammerat for alle i familien. De er meget sjældent aggressive og de elsker samværet med både andre hunde og deres familie. Det er simpelthen bare en sand ven, der går gennem ild og vand for dig.\\\\n- Deres intelligens: Labradoren er en intelligent race, som tager godt imod træning. Det er også en af de ting, der gør dem populære blandt jægere og politifolk, men såmænd også for den almindelige hundeejer. Labradoren bliver hurtigt din yndlingselev.\\\\n- Deres alsidighed: En labrador kan både være din hårdtarbejdende kollega, men også en rolig ven derhjemme. De kan rumme begge dele, og formår du at aktivere dem korrekt, så har du virkelig en dejlig hund, som du kan bruge til det hele.\\\\nDet skal du vide, når du vælger en labrador\\\\nSelvom labradoren er en fantastisk race, så er der (selvfølgelig) også udfordringer ved at have netop den. Vi har samlet nogle af de ting, du skal være forberedt på:\\\\n- Energiniveauet: Labradoren er en aktiv race, der kræver meget motion og stimulering for at forblive glad og sund. Hvis de ikke får tilstrækkelig motion og mental stimulering, kan de blive kede af det og udvikle uønsket adfærd. Den er også fysisk stærk, så du skal sætte ind med træning fra en ung alder, hvis du skal kunne styre dit energibundt. Det kræver altså noget af dig som ejer, hvis du skal have en labrador i familien.\\\\n- Madglæde med stort M: Labradoren er en race, som er god til at udnytte sit foder, netop fordi den er lavet til at arbejde meget. Det betyder, at de går langt på literen, og hvis ikke de bliver aktiveret og får nok motion, så kan de hurtigt blive overvægtige. Overvægt kan føre til en række sundhedsproblemer, såsom led- og hjerteproblemer. Du skal derfor holde godt øje med omkredsen på din labrador.\\\\n- De bærer på alt: Det er en egenskab, der er medfødt, og det er så naturligt for dem, at de ikke kan lade være. Træner du det jævnligt og udfordrer dem mentalt, så finder de ikke selv på helt så mange løjer, men du skal kunne smile af, at du finder dine sofapuder, sko eller andre ting i haven.\\\\nVil du vide mere om andre populære racer?\\\\nVi har samlet en liste med de mest populære hunderacer, så du kan blive klogere på racens behov, styrker, udfordringer, og du kan finde din bedste firbenede ven!\\\\nBeregn din pris!\\\\nSe, hvad det koster at sygeforsikre din hund.', 'source': {'url': 'https://www.agria.dk/hund/hunderacer/labrador-retriever/', 'title': 'Labrador retriever - Lær om racen og få fordele og ulemper her', 'snippet': 'Energiniveauet: Labradoren er en aktiv race, der kræver meget motion og stimulering for at forblive glad og sund. Hvis de ikke får tilstrækkelig motion og ...'}}\", name='search_tool', id='6dad6676-d292-493e-9a63-d0407d81bba0', tool_call_id='call_etk5o8imOAoVLLemsvJaFqa4')]\n",
      "==================================\u001b[1m Ai Message \u001b[0m==================================\n",
      "\n",
      "Ja, en Labrador Retriever er en meget aktiv hund. De kræver en del motion og mental stimulering for at forblive glade og sunde. Labradoren er kendt for sit høje energiniveau og elsker at bevæge sig, lege og udforske nye ting. Det er vigtigt at give dem tilstrækkelig motion og aktiviteter, der udfordrer dem både fysisk og mentalt. Hvis de ikke får nok motion, kan de udvikle uønsket adfærd og blive kede af det.\n"
     ]
    }
   ],
   "source": [
    "messages = [HumanMessage(content=\"Er en Labrador Retriever en aktiv hund?\")]\n",
    "print_stream(graph.stream({\"messages\": messages}, stream_mode= \"values\"))"
   ]
  },
  {
   "cell_type": "code",
   "execution_count": 12,
   "metadata": {},
   "outputs": [
    {
     "name": "stdout",
     "output_type": "stream",
     "text": [
      "================================\u001b[1m Human Message \u001b[0m=================================\n",
      "\n",
      "Kræver en labrador retriever meget pelspleje?\n",
      "---CALL AGENT---\n",
      "==================================\u001b[1m Ai Message \u001b[0m==================================\n",
      "Tool Calls:\n",
      "  search_tool (call_urIH5wDJZPYa7pFLVzx16AqA)\n",
      " Call ID: call_urIH5wDJZPYa7pFLVzx16AqA\n",
      "  Args:\n",
      "    query: Does a Labrador Retriever require a lot of grooming\n",
      "=================================\u001b[1m Tool Message \u001b[0m=================================\n",
      "Name: search_tool\n",
      "\n",
      "{\"query\": \"Does a Labrador Retriever require a lot of grooming\", \"search_content\": \"No content could be extracted from the page.\", \"source\": {\"url\": \"https://www.reddit.com/r/doggrooming/comments/to7o2b/how_often_should_i_have_my_lab_groomed/\", \"title\": \"How often should I have my lab groomed? : r/doggrooming - Reddit\", \"snippet\": \"Labs don't need trimming. Check the nails at least once a month and then bath when they get stinky, are shedding a lot from weather change, or ...\"}}\n",
      "---GENERATE NODE---\n",
      "==================================\u001b[1m Ai Message \u001b[0m==================================\n",
      "\n",
      "Jeg kan ikke finde svaret.\n"
     ]
    }
   ],
   "source": [
    "input_message = \"Kræver en labrador retriever meget pelspleje?\"\n",
    "\n",
    "for step in graph.stream(\n",
    "    {\"messages\": [{\"role\": \"user\", \"content\": input_message}]},\n",
    "    stream_mode=\"values\",\n",
    "    config=config,\n",
    "):\n",
    "    step[\"messages\"][-1].pretty_print()"
   ]
  }
 ],
 "metadata": {
  "kernelspec": {
   "display_name": "py311_DeepBark",
   "language": "python",
   "name": "python3"
  },
  "language_info": {
   "codemirror_mode": {
    "name": "ipython",
    "version": 3
   },
   "file_extension": ".py",
   "mimetype": "text/x-python",
   "name": "python",
   "nbconvert_exporter": "python",
   "pygments_lexer": "ipython3",
   "version": "3.11.9"
  }
 },
 "nbformat": 4,
 "nbformat_minor": 2
}
