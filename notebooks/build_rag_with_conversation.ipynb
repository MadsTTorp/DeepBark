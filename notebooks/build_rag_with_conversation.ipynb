{
 "cells": [
  {
   "cell_type": "markdown",
   "metadata": {},
   "source": [
    "### Notebook to run and test RAG with chat history (v2)"
   ]
  },
  {
   "cell_type": "markdown",
   "metadata": {},
   "source": [
    "### Step 1: Initialize notebook"
   ]
  },
  {
   "cell_type": "code",
   "execution_count": 1,
   "metadata": {},
   "outputs": [
    {
     "name": "stderr",
     "output_type": "stream",
     "text": [
      "USER_AGENT environment variable not set, consider setting it to identify your requests.\n"
     ]
    },
    {
     "data": {
      "text/plain": [
       "True"
      ]
     },
     "execution_count": 1,
     "metadata": {},
     "output_type": "execute_result"
    }
   ],
   "source": [
    "import os \n",
    "import bs4\n",
    "import getpass \n",
    "import numpy as np\n",
    "import faiss\n",
    "\n",
    "from langchain_openai import ChatOpenAI, OpenAIEmbeddings \n",
    "from langchain_core.tools import tool\n",
    "from langchain_community.document_loaders import WebBaseLoader\n",
    "from langchain_text_splitters import RecursiveCharacterTextSplitter\n",
    "from langchain_core.prompts import PromptTemplate\n",
    "from langchain_core.messages import SystemMessage\n",
    "from langgraph.prebuilt import ToolNode, tools_condition\n",
    "from langgraph.graph import MessagesState, StateGraph\n",
    "from langgraph.graph import END\n",
    "\n",
    "from langgraph.checkpoint.memory import MemorySaver\n",
    "\n",
    "from dotenv import load_dotenv, find_dotenv\n",
    "\n",
    "from utils import *\n",
    "load_dotenv(find_dotenv())"
   ]
  },
  {
   "cell_type": "code",
   "execution_count": 2,
   "metadata": {},
   "outputs": [],
   "source": [
    "if not os.environ.get(\"OPENAI_API_KEY\"):\n",
    "  os.environ[\"OPENAI_API_KEY\"] = getpass.getpass(\"Enter API key for OpenAI: \")"
   ]
  },
  {
   "cell_type": "markdown",
   "metadata": {},
   "source": [
    "### Step 2: Initialize model objects"
   ]
  },
  {
   "cell_type": "code",
   "execution_count": 3,
   "metadata": {},
   "outputs": [],
   "source": [
    "llm = ChatOpenAI(model=\"gpt-4o-mini\")"
   ]
  },
  {
   "cell_type": "code",
   "execution_count": 4,
   "metadata": {},
   "outputs": [],
   "source": [
    "embeddings = OpenAIEmbeddings(model=\"text-embedding-3-large\")"
   ]
  },
  {
   "cell_type": "markdown",
   "metadata": {},
   "source": [
    "### Single document extract "
   ]
  },
  {
   "cell_type": "code",
   "execution_count": 5,
   "metadata": {},
   "outputs": [],
   "source": [
    "# Load and chunk contents of the blog\n",
    "loader = WebBaseLoader(\n",
    "    web_paths=(\"https://petguide.dk/hundefoder-maerker/\",),\n",
    "    bs_kwargs=dict(\n",
    "        parse_only=bs4.SoupStrainer(\n",
    "            class_=(\"entry-content single-page\", \"entry-title\", \"entry-meta uppercase is-xsmall\")\n",
    "        )\n",
    "    ),\n",
    ")\n",
    "docs = loader.load()"
   ]
  },
  {
   "cell_type": "code",
   "execution_count": 6,
   "metadata": {},
   "outputs": [
    {
     "name": "stdout",
     "output_type": "stream",
     "text": [
      "Split blog post into 31 sub-documents.\n"
     ]
    }
   ],
   "source": [
    "# initiate the text splitter \n",
    "text_splitter = RecursiveCharacterTextSplitter(\n",
    "    chunk_size=1000,  # chunk size (characters)\n",
    "    chunk_overlap=200,  # chunk overlap (characters)\n",
    "    add_start_index=True,  # track index in original document\n",
    ")\n",
    "\n",
    "total_documents = len(docs)\n",
    "third = total_documents // 3\n",
    "\n",
    "# Split the documents into chunks\n",
    "all_splits = []\n",
    "for doc in docs:\n",
    "    splits = text_splitter.split_documents([doc])\n",
    "    num_splits = len(splits)\n",
    "    third = num_splits // 3\n",
    "    \n",
    "    for i, split in enumerate(splits):\n",
    "        split.metadata[\"source\"] = doc.metadata.get(\"source\", \"Unknown\")\n",
    "        if i < third:\n",
    "            split.metadata[\"section\"] = \"beginning\"\n",
    "        elif i < 2 * third:\n",
    "            split.metadata[\"section\"] = \"middle\"\n",
    "        else:\n",
    "            split.metadata[\"section\"] = \"end\"\n",
    "    all_splits.extend(splits)\n",
    "    \n",
    "print(f\"Split blog post into {len(all_splits)} sub-documents.\")"
   ]
  },
  {
   "cell_type": "code",
   "execution_count": 7,
   "metadata": {},
   "outputs": [],
   "source": [
    "# Create embeddings for each chunk\n",
    "embeddings_list = [embeddings.embed_query(doc.page_content) for doc in all_splits]\n",
    "embeddings_array = np.array(embeddings_list)\n",
    "\n",
    "# Create a FAISS index\n",
    "dimension = embeddings_array.shape[1]\n",
    "index = faiss.IndexFlatL2(dimension)\n",
    "index.add(embeddings_array)"
   ]
  },
  {
   "cell_type": "markdown",
   "metadata": {},
   "source": [
    "### Multiple documents extract"
   ]
  },
  {
   "cell_type": "code",
   "execution_count": null,
   "metadata": {},
   "outputs": [],
   "source": [
    "main_url = \"https://petguide.dk/bloggen/\"\n",
    "print(f'Getting article links from {main_url}...')\n",
    "article_links = get_article_links(main_url)\n",
    "print(f'Found {len(article_links)} article links...')\n",
    "all_splits, index = load_and_chunk_documents(article_links[:5])"
   ]
  },
  {
   "cell_type": "markdown",
   "metadata": {},
   "source": [
    "### Initialize RAG"
   ]
  },
  {
   "cell_type": "code",
   "execution_count": 184,
   "metadata": {},
   "outputs": [],
   "source": [
    "custom_rag_prompt = PromptTemplate.from_template(prompt_template)"
   ]
  },
  {
   "cell_type": "code",
   "execution_count": 185,
   "metadata": {},
   "outputs": [],
   "source": [
    "graph_builder = StateGraph(MessagesState)"
   ]
  },
  {
   "cell_type": "code",
   "execution_count": 186,
   "metadata": {},
   "outputs": [],
   "source": [
    "memory = MemorySaver()"
   ]
  },
  {
   "cell_type": "code",
   "execution_count": 187,
   "metadata": {},
   "outputs": [],
   "source": [
    "@tool(response_format=\"content_and_artifact\")\n",
    "def retrieve(query: str):\n",
    "    \"\"\"Retrieve information related to a query.\"\"\"\n",
    "    # Create embeddings for the query\n",
    "    query_embedding = embeddings.embed_query(query)\n",
    "    query_embedding = np.array([query_embedding])\n",
    "\n",
    "    distances, indices = index.search(query_embedding, k=3)\n",
    "    retrieved_docs = []\n",
    "    for distance, idx in zip(distances[0], indices[0]):\n",
    "        print(distance)\n",
    "        if distance < 1.0:\n",
    "            retrieved_docs.append(all_splits[idx])\n",
    "    serialized = \"\\n\\n\".join(\n",
    "        (f\"Source: {doc.metadata}\\n\" f\"Content: {doc.page_content}\")\n",
    "        for doc in retrieved_docs\n",
    "    )\n",
    "    return serialized, retrieved_docs\n",
    "\n",
    "# Executre the retrieval tool\n",
    "tools = ToolNode([retrieve])"
   ]
  },
  {
   "cell_type": "code",
   "execution_count": 188,
   "metadata": {},
   "outputs": [],
   "source": [
    "# Generate an AIMessage that may include a tool-call to be sent.\n",
    "def query_or_respond(state: MessagesState):\n",
    "    \"\"\"Generate tool call for retrieval or respond.\"\"\"\n",
    "    llm_with_tools = llm.bind_tools([retrieve])\n",
    "    response = llm_with_tools.invoke(state[\"messages\"])\n",
    "    # MessagesState appends messages to state instead of overwriting\n",
    "    return {\"messages\": [response]}"
   ]
  },
  {
   "cell_type": "code",
   "execution_count": 189,
   "metadata": {},
   "outputs": [],
   "source": [
    "#Generate a response using the retrieved content.\n",
    "def generate(state: MessagesState):\n",
    "    \"\"\"Generate answer.\"\"\"\n",
    "    # Get generated ToolMessages\n",
    "    recent_tool_messages = []\n",
    "    for message in reversed(state[\"messages\"]):\n",
    "        if message.type == \"tool\":\n",
    "            recent_tool_messages.append(message)\n",
    "        else:\n",
    "            break\n",
    "    tool_messages = recent_tool_messages[::-1]\n",
    "    print(type(tool_messages))\n",
    "    display(tool_messages[::-1])\n",
    "    \n",
    "    # Format into prompt\n",
    "    docs_content = \"\\n\\n\".join(doc.content for doc in tool_messages)\n",
    "    system_message_content = (\n",
    "        \"You are an assistant for question-answering tasks. \"\n",
    "        \"Use the following pieces of retrieved context to answer \"\n",
    "        \"the question. If you don't know the answer, say that you \"\n",
    "        \"don't know. Use three sentences maximum and keep the \"\n",
    "        \"answer concise.\"\n",
    "        \"\\n\\n\"\n",
    "        f\"{docs_content}\"\n",
    "    )\n",
    "    conversation_messages = [\n",
    "        message\n",
    "        for message in state[\"messages\"]\n",
    "        if message.type in (\"human\", \"system\")\n",
    "        or (message.type == \"ai\" and not message.tool_calls)\n",
    "    ]\n",
    "    prompt = [SystemMessage(system_message_content)] + conversation_messages\n",
    "\n",
    "    # Run\n",
    "    response = llm.invoke(prompt)\n",
    "    return {\"messages\": [response]}"
   ]
  },
  {
   "cell_type": "code",
   "execution_count": 190,
   "metadata": {},
   "outputs": [],
   "source": [
    "# build the graph\n",
    "graph_builder.add_node(query_or_respond)\n",
    "graph_builder.add_node(tools)\n",
    "graph_builder.add_node(generate)\n",
    "\n",
    "# set the entry point\n",
    "graph_builder.set_entry_point(\"query_or_respond\")\n",
    "# add conditions for passing from one node to another\n",
    "graph_builder.add_conditional_edges(\n",
    "    \"query_or_respond\",\n",
    "    tools_condition,\n",
    "    {\n",
    "    END: END, # if the condition indicates the end of the process, terminate\n",
    "    \"tools\": \"tools\" # else, proceed to the tools node\n",
    "     },\n",
    ")\n",
    "# add edges to the graph that connect the nodes\n",
    "graph_builder.add_edge(\"tools\", \"generate\")\n",
    "graph_builder.add_edge(\"generate\", END)\n",
    "# compile the graph\n",
    "graph = graph_builder.compile()\n",
    "# initiate the memory saver to save the state of the graph\n",
    "graph = graph_builder.compile(checkpointer=memory)\n",
    "\n",
    "# Specify an ID for the thread\n",
    "config = {\"configurable\": {\"thread_id\": \"abc123\"}}\n"
   ]
  },
  {
   "cell_type": "code",
   "execution_count": 191,
   "metadata": {},
   "outputs": [
    {
     "name": "stdout",
     "output_type": "stream",
     "text": [
      "0.99249\n",
      "0.9999153\n",
      "1.091716\n",
      "<class 'list'>\n"
     ]
    },
    {
     "data": {
      "text/plain": [
       "[ToolMessage(content=\"Source: {'source': 'https://petguide.dk/hundefoder-maerker/', 'start_index': 2207, 'section': 'beginning'}\\nContent: 1st Choice\\n1st Choice er kvalitetsfoder lavet i Canada, af gode lokale råvarer skabt med det formål, at sikre at hunde får den rigtige ernæring gennem hele deres liv. Med special udviklede formler, sørger de for at hundens behov bliver opfyldt gennem hundens forskellige livsfaser. Velsmag er i højsæde, men der er samtidigt gjort ekstra ud af at sikre at hunden får ekstra energi, kontrolleret sin vægt, sund hud og pels. 1st Choices vigtigste formål er, at sikre at din bedste ven får det bedste af det bedste. Derudover får du også meget foder for pengene. Med foder fra 1st Choice får du kun kvalitets ingredienser, ingen animalske biprodukter, ingen majs, hvede eller soja, kun naturlige konserveringsmidler og velsmagende smagsvarianter.\\nACANA\\n\\nSource: {'source': 'https://petguide.dk/hundefoder-maerker/', 'start_index': 12376, 'section': 'middle'}\\nContent: Pronature Holistic\\nPronature Holistic stammer fra Canada, som har verdens strengeste krav til dyreernæring. Derfor indeholder foderet heller ingen kunstige farvestoffer eller smagsstoffer. Det er foder, der er produceret med bæredygtighed og 100% naturlige og økologiske ingredienser. Pronature Holistic tilbyder en bred vifte af perfekt sammensatte og velbalancerede opskrifter tilpasset din hund, og desuden så er det velegnet til hunde med hud- og pelsproblemer. Ingredienserne sikrer en god fordøjelse og at foderet er velsmagende og frisk. Deres mål er, at tilbyde de ingredienser, der på bedste vis holder dit kæledyr sundt og velfungerende.\", name='retrieve', id='61854496-1147-438a-936f-b19d08d680fc', tool_call_id='call_G7RGFAMBVn6ZTwpnZJIA5ROG', artifact=[Document(metadata={'source': 'https://petguide.dk/hundefoder-maerker/', 'start_index': 2207, 'section': 'beginning'}, page_content='1st Choice\\n1st Choice er kvalitetsfoder lavet i Canada, af gode lokale råvarer skabt med det formål, at sikre at hunde får den rigtige ernæring gennem hele deres liv. Med special udviklede formler, sørger de for at hundens behov bliver opfyldt gennem hundens forskellige livsfaser. Velsmag er i højsæde, men der er samtidigt gjort ekstra ud af at sikre at hunden får ekstra energi, kontrolleret sin vægt, sund hud og pels. 1st Choices vigtigste formål er, at sikre at din bedste ven får det bedste af det bedste. Derudover får du også meget foder for pengene. Med foder fra 1st Choice får du kun kvalitets ingredienser, ingen animalske biprodukter, ingen majs, hvede eller soja, kun naturlige konserveringsmidler og velsmagende smagsvarianter.\\nACANA'), Document(metadata={'source': 'https://petguide.dk/hundefoder-maerker/', 'start_index': 12376, 'section': 'middle'}, page_content='Pronature Holistic\\nPronature Holistic stammer fra Canada, som har verdens strengeste krav til dyreernæring. Derfor indeholder foderet heller ingen kunstige farvestoffer eller smagsstoffer. Det er foder, der er produceret med bæredygtighed og 100% naturlige og økologiske ingredienser. Pronature Holistic tilbyder en bred vifte af perfekt sammensatte og velbalancerede opskrifter tilpasset din hund, og desuden så er det velegnet til hunde med hud- og pelsproblemer. Ingredienserne sikrer en god fordøjelse og at foderet er velsmagende og frisk. Deres mål er, at tilbyde de ingredienser, der på bedste vis holder dit kæledyr sundt og velfungerende.')])]"
      ]
     },
     "metadata": {},
     "output_type": "display_data"
    }
   ],
   "source": [
    "input_message = \"Hvilke fodermærker kommer fra Canada?\"\n",
    "\n",
    "query = {\"messages\": [{\"role\": \"user\", \"content\": input_message}]}\n",
    "\n",
    "output = graph.stream(query, stream_mode=\"values\", config=config)\n",
    "\n",
    "result = [step[\"messages\"] for step in output][-1]"
   ]
  },
  {
   "cell_type": "code",
   "execution_count": 166,
   "metadata": {},
   "outputs": [
    {
     "data": {
      "text/plain": [
       "[HumanMessage(content='Hvilke fodermærker kommer fra Canada?', additional_kwargs={}, response_metadata={}, id='67ef6b8a-a283-43cd-80ab-6cbb00de950d'),\n",
       " AIMessage(content='', additional_kwargs={'tool_calls': [{'id': 'call_ZQBN1LSrWIXRtdf4DUM4Eldn', 'function': {'arguments': '{\"query\":\"fodermærker fra Canada\"}', 'name': 'retrieve'}, 'type': 'function'}], 'refusal': None}, response_metadata={'token_usage': {'completion_tokens': 19, 'prompt_tokens': 54, 'total_tokens': 73, 'completion_tokens_details': {'accepted_prediction_tokens': 0, 'audio_tokens': 0, 'reasoning_tokens': 0, 'rejected_prediction_tokens': 0}, 'prompt_tokens_details': {'audio_tokens': 0, 'cached_tokens': 0}}, 'model_name': 'gpt-4o-mini-2024-07-18', 'system_fingerprint': 'fp_d02d531b47', 'finish_reason': 'tool_calls', 'logprobs': None}, id='run-594d62e6-d4c4-4adc-a9ce-9365febe0c11-0', tool_calls=[{'name': 'retrieve', 'args': {'query': 'fodermærker fra Canada'}, 'id': 'call_ZQBN1LSrWIXRtdf4DUM4Eldn', 'type': 'tool_call'}], usage_metadata={'input_tokens': 54, 'output_tokens': 19, 'total_tokens': 73, 'input_token_details': {'audio': 0, 'cache_read': 0}, 'output_token_details': {'audio': 0, 'reasoning': 0}}),\n",
       " ToolMessage(content=\"Source: {'source': 'https://petguide.dk/hundefoder-maerker/', 'start_index': 2207, 'section': 'beginning'}\\nContent: 1st Choice\\n1st Choice er kvalitetsfoder lavet i Canada, af gode lokale råvarer skabt med det formål, at sikre at hunde får den rigtige ernæring gennem hele deres liv. Med special udviklede formler, sørger de for at hundens behov bliver opfyldt gennem hundens forskellige livsfaser. Velsmag er i højsæde, men der er samtidigt gjort ekstra ud af at sikre at hunden får ekstra energi, kontrolleret sin vægt, sund hud og pels. 1st Choices vigtigste formål er, at sikre at din bedste ven får det bedste af det bedste. Derudover får du også meget foder for pengene. Med foder fra 1st Choice får du kun kvalitets ingredienser, ingen animalske biprodukter, ingen majs, hvede eller soja, kun naturlige konserveringsmidler og velsmagende smagsvarianter.\\nACANA\\n\\nSource: {'source': 'https://petguide.dk/hundefoder-maerker/', 'start_index': 12376, 'section': 'middle'}\\nContent: Pronature Holistic\\nPronature Holistic stammer fra Canada, som har verdens strengeste krav til dyreernæring. Derfor indeholder foderet heller ingen kunstige farvestoffer eller smagsstoffer. Det er foder, der er produceret med bæredygtighed og 100% naturlige og økologiske ingredienser. Pronature Holistic tilbyder en bred vifte af perfekt sammensatte og velbalancerede opskrifter tilpasset din hund, og desuden så er det velegnet til hunde med hud- og pelsproblemer. Ingredienserne sikrer en god fordøjelse og at foderet er velsmagende og frisk. Deres mål er, at tilbyde de ingredienser, der på bedste vis holder dit kæledyr sundt og velfungerende.\", name='retrieve', id='8b08a2eb-a9f4-401b-b5a3-215236dc8b21', tool_call_id='call_ZQBN1LSrWIXRtdf4DUM4Eldn', artifact=[Document(metadata={'source': 'https://petguide.dk/hundefoder-maerker/', 'start_index': 2207, 'section': 'beginning'}, page_content='1st Choice\\n1st Choice er kvalitetsfoder lavet i Canada, af gode lokale råvarer skabt med det formål, at sikre at hunde får den rigtige ernæring gennem hele deres liv. Med special udviklede formler, sørger de for at hundens behov bliver opfyldt gennem hundens forskellige livsfaser. Velsmag er i højsæde, men der er samtidigt gjort ekstra ud af at sikre at hunden får ekstra energi, kontrolleret sin vægt, sund hud og pels. 1st Choices vigtigste formål er, at sikre at din bedste ven får det bedste af det bedste. Derudover får du også meget foder for pengene. Med foder fra 1st Choice får du kun kvalitets ingredienser, ingen animalske biprodukter, ingen majs, hvede eller soja, kun naturlige konserveringsmidler og velsmagende smagsvarianter.\\nACANA'), Document(metadata={'source': 'https://petguide.dk/hundefoder-maerker/', 'start_index': 12376, 'section': 'middle'}, page_content='Pronature Holistic\\nPronature Holistic stammer fra Canada, som har verdens strengeste krav til dyreernæring. Derfor indeholder foderet heller ingen kunstige farvestoffer eller smagsstoffer. Det er foder, der er produceret med bæredygtighed og 100% naturlige og økologiske ingredienser. Pronature Holistic tilbyder en bred vifte af perfekt sammensatte og velbalancerede opskrifter tilpasset din hund, og desuden så er det velegnet til hunde med hud- og pelsproblemer. Ingredienserne sikrer en god fordøjelse og at foderet er velsmagende og frisk. Deres mål er, at tilbyde de ingredienser, der på bedste vis holder dit kæledyr sundt og velfungerende.')]),\n",
       " AIMessage(content='Fodermærkerne 1st Choice og Pronature Holistic kommer fra Canada. Begge mærker fokuserer på kvalitetsfoder lavet af naturlige og bæredygtige ingredienser.', additional_kwargs={'refusal': None}, response_metadata={'token_usage': {'completion_tokens': 46, 'prompt_tokens': 513, 'total_tokens': 559, 'completion_tokens_details': {'accepted_prediction_tokens': 0, 'audio_tokens': 0, 'reasoning_tokens': 0, 'rejected_prediction_tokens': 0}, 'prompt_tokens_details': {'audio_tokens': 0, 'cached_tokens': 0}}, 'model_name': 'gpt-4o-mini-2024-07-18', 'system_fingerprint': 'fp_d02d531b47', 'finish_reason': 'stop', 'logprobs': None}, id='run-d5b15b5a-8ab7-4260-80d5-3fbe1308088f-0', usage_metadata={'input_tokens': 513, 'output_tokens': 46, 'total_tokens': 559, 'input_token_details': {'audio': 0, 'cache_read': 0}, 'output_token_details': {'audio': 0, 'reasoning': 0}})]"
      ]
     },
     "execution_count": 166,
     "metadata": {},
     "output_type": "execute_result"
    }
   ],
   "source": [
    "result"
   ]
  },
  {
   "cell_type": "code",
   "execution_count": 193,
   "metadata": {},
   "outputs": [
    {
     "data": {
      "text/plain": [
       "\"Source: {'source': 'https://petguide.dk/hundefoder-maerker/', 'start_index': 2207, 'section': 'beginning'}\\nContent: 1st Choice\\n1st Choice er kvalitetsfoder lavet i Canada, af gode lokale råvarer skabt med det formål, at sikre at hunde får den rigtige ernæring gennem hele deres liv. Med special udviklede formler, sørger de for at hundens behov bliver opfyldt gennem hundens forskellige livsfaser. Velsmag er i højsæde, men der er samtidigt gjort ekstra ud af at sikre at hunden får ekstra energi, kontrolleret sin vægt, sund hud og pels. 1st Choices vigtigste formål er, at sikre at din bedste ven får det bedste af det bedste. Derudover får du også meget foder for pengene. Med foder fra 1st Choice får du kun kvalitets ingredienser, ingen animalske biprodukter, ingen majs, hvede eller soja, kun naturlige konserveringsmidler og velsmagende smagsvarianter.\\nACANA\\n\\nSource: {'source': 'https://petguide.dk/hundefoder-maerker/', 'start_index': 12376, 'section': 'middle'}\\nContent: Pronature Holistic\\nPronature Holistic stammer fra Canada, som har verdens strengeste krav til dyreernæring. Derfor indeholder foderet heller ingen kunstige farvestoffer eller smagsstoffer. Det er foder, der er produceret med bæredygtighed og 100% naturlige og økologiske ingredienser. Pronature Holistic tilbyder en bred vifte af perfekt sammensatte og velbalancerede opskrifter tilpasset din hund, og desuden så er det velegnet til hunde med hud- og pelsproblemer. Ingredienserne sikrer en god fordøjelse og at foderet er velsmagende og frisk. Deres mål er, at tilbyde de ingredienser, der på bedste vis holder dit kæledyr sundt og velfungerende.\""
      ]
     },
     "execution_count": 193,
     "metadata": {},
     "output_type": "execute_result"
    }
   ],
   "source": [
    "from langchain_core.messages import ToolMessage\n",
    "\n",
    "last_tool_message = next(\n",
    "        (\n",
    "            tool_msg for tool_msg in reversed(result)\n",
    "            if isinstance(tool_msg, ToolMessage)\n",
    "        )\n",
    "    )\n",
    "\n",
    "\"\\n\\n\".join(doc.content for doc in [last_tool_message])"
   ]
  },
  {
   "cell_type": "code",
   "execution_count": 167,
   "metadata": {},
   "outputs": [
    {
     "name": "stdout",
     "output_type": "stream",
     "text": [
      "1.3796352\n",
      "1.4567018\n",
      "1.4695898\n"
     ]
    }
   ],
   "source": [
    "input_message_2 = \"Hvad spiste Adolf Hitler under krigen?\"\n",
    "\n",
    "query_2 = {\"messages\": [{\"role\": \"user\", \"content\": input_message_2}]}\n",
    "\n",
    "output_2 = graph.stream(query_2, stream_mode=\"values\", config=config)\n",
    "\n",
    "result_2 = [step[\"messages\"] for step in output_2][-1]"
   ]
  },
  {
   "cell_type": "code",
   "execution_count": 120,
   "metadata": {},
   "outputs": [
    {
     "data": {
      "text/plain": [
       "[HumanMessage(content='Hvilke fodermærker kommer fra Canada?', additional_kwargs={}, response_metadata={}, id='9cb7ca1a-62e2-42af-964b-6baf4b15baba'),\n",
       " AIMessage(content='', additional_kwargs={'tool_calls': [{'id': 'call_9p8jbI9xN3ihZi7bPO9A3cvq', 'function': {'arguments': '{\"query\":\"fodermærker fra Canada\"}', 'name': 'retrieve'}, 'type': 'function'}], 'refusal': None}, response_metadata={'token_usage': {'completion_tokens': 19, 'prompt_tokens': 54, 'total_tokens': 73, 'completion_tokens_details': {'accepted_prediction_tokens': 0, 'audio_tokens': 0, 'reasoning_tokens': 0, 'rejected_prediction_tokens': 0}, 'prompt_tokens_details': {'audio_tokens': 0, 'cached_tokens': 0}}, 'model_name': 'gpt-4o-mini-2024-07-18', 'system_fingerprint': 'fp_d02d531b47', 'finish_reason': 'tool_calls', 'logprobs': None}, id='run-b206ef32-ccbb-4967-997b-96a942739033-0', tool_calls=[{'name': 'retrieve', 'args': {'query': 'fodermærker fra Canada'}, 'id': 'call_9p8jbI9xN3ihZi7bPO9A3cvq', 'type': 'tool_call'}], usage_metadata={'input_tokens': 54, 'output_tokens': 19, 'total_tokens': 73, 'input_token_details': {'audio': 0, 'cache_read': 0}, 'output_token_details': {'audio': 0, 'reasoning': 0}}),\n",
       " ToolMessage(content=\"Source: {'source': 'https://petguide.dk/hundefoder-maerker/', 'start_index': 2207, 'section': 'beginning'}\\nContent: 1st Choice\\n1st Choice er kvalitetsfoder lavet i Canada, af gode lokale råvarer skabt med det formål, at sikre at hunde får den rigtige ernæring gennem hele deres liv. Med special udviklede formler, sørger de for at hundens behov bliver opfyldt gennem hundens forskellige livsfaser. Velsmag er i højsæde, men der er samtidigt gjort ekstra ud af at sikre at hunden får ekstra energi, kontrolleret sin vægt, sund hud og pels. 1st Choices vigtigste formål er, at sikre at din bedste ven får det bedste af det bedste. Derudover får du også meget foder for pengene. Med foder fra 1st Choice får du kun kvalitets ingredienser, ingen animalske biprodukter, ingen majs, hvede eller soja, kun naturlige konserveringsmidler og velsmagende smagsvarianter.\\nACANA\\n\\nSource: {'source': 'https://petguide.dk/hundefoder-maerker/', 'start_index': 12376, 'section': 'middle'}\\nContent: Pronature Holistic\\nPronature Holistic stammer fra Canada, som har verdens strengeste krav til dyreernæring. Derfor indeholder foderet heller ingen kunstige farvestoffer eller smagsstoffer. Det er foder, der er produceret med bæredygtighed og 100% naturlige og økologiske ingredienser. Pronature Holistic tilbyder en bred vifte af perfekt sammensatte og velbalancerede opskrifter tilpasset din hund, og desuden så er det velegnet til hunde med hud- og pelsproblemer. Ingredienserne sikrer en god fordøjelse og at foderet er velsmagende og frisk. Deres mål er, at tilbyde de ingredienser, der på bedste vis holder dit kæledyr sundt og velfungerende.\\n\\nSource: {'source': 'https://petguide.dk/hundefoder-maerker/', 'start_index': 2951, 'section': 'beginning'}\\nContent: ACANA\\nACANA laver foder ud fra et biologisk perspektiv. Med udgangspunkt i grå ulven, faderen af alle hunderacer, forsøger de at tilbyde et produkt, der imiterer den næring hunde ville finde i naturen. Dette gør de på bedst mulig vis ved at sørge for samme mængde, friskhed og variation i kød som hunde ville spise i naturen. Foderet indeholder heller ingen animalske biprodukter. Råvarerne leveres friske fra lokale producenter i Canada, hvor mærket kommer fra. Foderet bliver produceret i deres køkkener, der også har ført til deres prisvindende foder.\\xa0ACANAs foder er rigt på kød og protein, har et højt indhold af frisk kød med variation i kødet, udnyttelse af hele byttet og smart på kulhydrater.\\n\\nSource: {'source': 'https://petguide.dk/hundefoder-maerker/', 'start_index': 11039, 'section': 'middle'}\\nContent: Orijen\\nOrijen er canadisk og de tilbereder selv foderet i deres køkken i Alberta, Canada. Deres foder er rig på protein og fedt, og er kornfrit. Størstedelen af kød indholdet i foderet er frisk, hvilket betyder at det er fyldt med protein, fedt, vitaminer og mineraler. Resten er tørret, hvilket resulterer i en mere koncentreret form for protein. De råvarer, som bruges i foderet, er godkendt til også at kunne bruges af mennesker, og de bliver leveret frisk til køkkenet i Alberta hver dag. Med Orijen får du foder, som kommer tæt på hundens naturlige føde. Det giver den ultimative madoplevelse for hunde.\\n\\nSource: {'source': 'https://petguide.dk/hundefoder-maerker/', 'start_index': 9662, 'section': 'middle'}\\nContent: NOW FRESH\\nFoder fra Petcureans mærke Now Fresh er både korn- og glutenfri, og lavet med 100% frisk kød. De producerer foder til alle livsfaser og størrelser. Foderet indeholder fordøjelsesfremmende pre- og probiotika, Omega olier for en sund hund og pels, antioxidanter for øget immunitet, komplekse kulhydrater for hurtig energi og sunde bær, frugt og grøntsager. Med dette foder sikrer du din hund en nærende kost, og de bedste betingelser for en sund krop med masser af energi i det daglige. Lider din hund af allergi, har den mave-tarmproblemer eller skal den bare have det bedste af det bedste? Så er NOW FRESH et godt valg. Det er ikke for ingenting, at deres motto er “It could only be fresher if you made it from scratch” (“Det kunne kun være friskere, hvis du lavede det fra bunden.”)\", name='retrieve', id='51cac7d2-c2bd-4b9a-847d-45a3a5c4c6a1', tool_call_id='call_9p8jbI9xN3ihZi7bPO9A3cvq', artifact=[{'id': None, 'metadata': {'source': 'https://petguide.dk/hundefoder-maerker/', 'start_index': 2207, 'section': 'beginning'}, 'page_content': '1st Choice\\n1st Choice er kvalitetsfoder lavet i Canada, af gode lokale råvarer skabt med det formål, at sikre at hunde får den rigtige ernæring gennem hele deres liv. Med special udviklede formler, sørger de for at hundens behov bliver opfyldt gennem hundens forskellige livsfaser. Velsmag er i højsæde, men der er samtidigt gjort ekstra ud af at sikre at hunden får ekstra energi, kontrolleret sin vægt, sund hud og pels. 1st Choices vigtigste formål er, at sikre at din bedste ven får det bedste af det bedste. Derudover får du også meget foder for pengene. Med foder fra 1st Choice får du kun kvalitets ingredienser, ingen animalske biprodukter, ingen majs, hvede eller soja, kun naturlige konserveringsmidler og velsmagende smagsvarianter.\\nACANA', 'type': 'Document'}, {'id': None, 'metadata': {'source': 'https://petguide.dk/hundefoder-maerker/', 'start_index': 12376, 'section': 'middle'}, 'page_content': 'Pronature Holistic\\nPronature Holistic stammer fra Canada, som har verdens strengeste krav til dyreernæring. Derfor indeholder foderet heller ingen kunstige farvestoffer eller smagsstoffer. Det er foder, der er produceret med bæredygtighed og 100% naturlige og økologiske ingredienser. Pronature Holistic tilbyder en bred vifte af perfekt sammensatte og velbalancerede opskrifter tilpasset din hund, og desuden så er det velegnet til hunde med hud- og pelsproblemer. Ingredienserne sikrer en god fordøjelse og at foderet er velsmagende og frisk. Deres mål er, at tilbyde de ingredienser, der på bedste vis holder dit kæledyr sundt og velfungerende.', 'type': 'Document'}, {'id': None, 'metadata': {'source': 'https://petguide.dk/hundefoder-maerker/', 'start_index': 2951, 'section': 'beginning'}, 'page_content': 'ACANA\\nACANA laver foder ud fra et biologisk perspektiv. Med udgangspunkt i grå ulven, faderen af alle hunderacer, forsøger de at tilbyde et produkt, der imiterer den næring hunde ville finde i naturen. Dette gør de på bedst mulig vis ved at sørge for samme mængde, friskhed og variation i kød som hunde ville spise i naturen. Foderet indeholder heller ingen animalske biprodukter. Råvarerne leveres friske fra lokale producenter i Canada, hvor mærket kommer fra. Foderet bliver produceret i deres køkkener, der også har ført til deres prisvindende foder.\\xa0ACANAs foder er rigt på kød og protein, har et højt indhold af frisk kød med variation i kødet, udnyttelse af hele byttet og smart på kulhydrater.', 'type': 'Document'}, {'id': None, 'metadata': {'source': 'https://petguide.dk/hundefoder-maerker/', 'start_index': 11039, 'section': 'middle'}, 'page_content': 'Orijen\\nOrijen er canadisk og de tilbereder selv foderet i deres køkken i Alberta, Canada. Deres foder er rig på protein og fedt, og er kornfrit. Størstedelen af kød indholdet i foderet er frisk, hvilket betyder at det er fyldt med protein, fedt, vitaminer og mineraler. Resten er tørret, hvilket resulterer i en mere koncentreret form for protein. De råvarer, som bruges i foderet, er godkendt til også at kunne bruges af mennesker, og de bliver leveret frisk til køkkenet i Alberta hver dag. Med Orijen får du foder, som kommer tæt på hundens naturlige føde. Det giver den ultimative madoplevelse for hunde.', 'type': 'Document'}, {'id': None, 'metadata': {'source': 'https://petguide.dk/hundefoder-maerker/', 'start_index': 9662, 'section': 'middle'}, 'page_content': 'NOW FRESH\\nFoder fra Petcureans mærke Now Fresh er både korn- og glutenfri, og lavet med 100% frisk kød. De producerer foder til alle livsfaser og størrelser. Foderet indeholder fordøjelsesfremmende pre- og probiotika, Omega olier for en sund hund og pels, antioxidanter for øget immunitet, komplekse kulhydrater for hurtig energi og sunde bær, frugt og grøntsager. Med dette foder sikrer du din hund en nærende kost, og de bedste betingelser for en sund krop med masser af energi i det daglige. Lider din hund af allergi, har den mave-tarmproblemer eller skal den bare have det bedste af det bedste? Så er NOW FRESH et godt valg. Det er ikke for ingenting, at deres motto er “It could only be fresher if you made it from scratch” (“Det kunne kun være friskere, hvis du lavede det fra bunden.”)', 'type': 'Document'}]),\n",
       " AIMessage(content='De fodermærker, der kommer fra Canada, inkluderer 1st Choice, ACANA, Pronature Holistic, Orijen og NOW FRESH.', additional_kwargs={'refusal': None}, response_metadata={'token_usage': {'completion_tokens': 34, 'prompt_tokens': 1203, 'total_tokens': 1237, 'completion_tokens_details': {'accepted_prediction_tokens': 0, 'audio_tokens': 0, 'reasoning_tokens': 0, 'rejected_prediction_tokens': 0}, 'prompt_tokens_details': {'audio_tokens': 0, 'cached_tokens': 0}}, 'model_name': 'gpt-4o-mini-2024-07-18', 'system_fingerprint': 'fp_0aa8d3e20b', 'finish_reason': 'stop', 'logprobs': None}, id='run-65b92d5f-eeb4-4e2b-ad80-41ddc0ee0c8d-0', usage_metadata={'input_tokens': 1203, 'output_tokens': 34, 'total_tokens': 1237, 'input_token_details': {'audio': 0, 'cache_read': 0}, 'output_token_details': {'audio': 0, 'reasoning': 0}}),\n",
       " HumanMessage(content='Hvor mange mælkesnitter kan der være på Pluto?', additional_kwargs={}, response_metadata={}, id='6495d27c-eed2-4f2b-a895-90e37471af4e'),\n",
       " AIMessage(content='', additional_kwargs={'tool_calls': [{'id': 'call_BAjs3lwWE5U1euYc3he4kbyu', 'function': {'arguments': '{\"query\":\"hvor mange mælkesnitter kan der være på Pluto\"}', 'name': 'retrieve'}, 'type': 'function'}], 'refusal': None}, response_metadata={'token_usage': {'completion_tokens': 26, 'prompt_tokens': 1269, 'total_tokens': 1295, 'completion_tokens_details': {'accepted_prediction_tokens': 0, 'audio_tokens': 0, 'reasoning_tokens': 0, 'rejected_prediction_tokens': 0}, 'prompt_tokens_details': {'audio_tokens': 0, 'cached_tokens': 0}}, 'model_name': 'gpt-4o-mini-2024-07-18', 'system_fingerprint': 'fp_0aa8d3e20b', 'finish_reason': 'tool_calls', 'logprobs': None}, id='run-b5b6d484-e4a2-4706-87b3-95e2da33c8b1-0', tool_calls=[{'name': 'retrieve', 'args': {'query': 'hvor mange mælkesnitter kan der være på Pluto'}, 'id': 'call_BAjs3lwWE5U1euYc3he4kbyu', 'type': 'tool_call'}], usage_metadata={'input_tokens': 1269, 'output_tokens': 26, 'total_tokens': 1295, 'input_token_details': {'audio': 0, 'cache_read': 0}, 'output_token_details': {'audio': 0, 'reasoning': 0}}),\n",
       " ToolMessage(content=\"Source: {'source': 'https://petguide.dk/hundefoder-maerker/', 'start_index': 880, 'section': 'beginning'}\\nContent: Godbidsforslag til din hund\\n\\n\\n\\n\\n\\n\\n\\n\\n\\n\\n \\n\\n\\n\\n\\n\\n\\n\\n\\n\\nCrunchy Snack m. Struds & Brombær 200 g\\n29,00\\xa0kr.\\nTilføj til Kurv \\n\\n\\n\\n\\n\\n\\n\\n\\n\\n\\n \\n\\n\\n\\n\\n\\n\\n\\n\\n\\nCrunchy Snack m. Vildsvin & Hyben 200 g\\n29,00\\xa0kr.\\nTilføj til Kurv \\n\\n\\n\\n\\n\\n\\n\\n\\n\\n\\n \\n\\n\\n\\n\\n\\n\\n\\n\\n\\nCompanion Mini Kylling cubes til hvalpe, 50g\\n19,00\\xa0kr.\\nTilføj til Kurv \\n\\n\\n\\n\\n\\n\\n\\n\\n\\n\\n \\n\\n\\n\\n\\n\\n\\n\\n\\n\\nAlpha Spirit – 6 forskellige Ristra Sticks\\n79,00\\xa0kr.\\nTilføj til Kurv \\n\\n\\n\\n\\n\\n\\n\\n\\n\\n\\n \\n\\n\\n\\n\\n\\n\\n\\n\\n\\nCompanion Cubes m. and 50 g\\n35,00\\xa0kr.\\nTilføj til Kurv \\n\\n\\n\\n\\n\\n\\n\\n\\n\\n\\n \\n\\n\\n\\n\\n\\n\\n\\n\\n\\nCompanion Beef Fillet 80g\\n39,00\\xa0kr.\\nTilføj til Kurv \\n\\n\\n\\n\\n\\n\\n\\n\\n\\n\\n \\n\\n\\n\\n\\n\\n\\n\\n\\n\\nCompanion Short Duck Sticks 1,5cm 80g\\n39,00\\xa0kr.\\nTilføj til Kurv \\n\\n\\n\\n\\n\\n\\n\\n\\n\\n\\n \\n\\n\\n\\n\\n\\n\\n\\n\\n\\nBrit Træningsgodbidder til Hvalpe 200 g\\n29,00\\xa0kr.\\nTilføj til Kurv \\n\\n\\n\\n\\n\\n\\n\\t\\t\\t\\t\\t\\t\\tI Denne Artikel\\n\\nSource: {'source': 'https://petguide.dk/hundefoder-maerker/', 'start_index': 0, 'section': 'beginning'}\\nContent: Hundefoder mærker – Dit overblik over de forskellige mærker!\\nUdgivet den 22. juli 20201. august 2023 af Cecile A \\nDer findes alverdens hundefoder mærker, og det kan være svært at vælge imellem dem alle sammen. Det er forskelligt, hvad mærkerne har fokus på, og noget er bedre til f.eks. allergiske hunde end andet. Skifter du fra et andet mærke, er det vigtigt at du gør det i løbet af en periode på 7 dage.\\n Det skal foregå langsomt, så din hund kan vænne sig til det nye foder. Laver du blandinger med det gamle foder og det nye foder, burde din hund ikke reagere voldsomt på skiftet. Der er mange meninger om, hvilken hundefoder, der er bedst, men det er meget forskelligt, hvad de individuelle hunde er til. De har også forskellige smagsløg, som vi mennesker, og nogle hunde kan også være kræsne.\\nNår vi taler om foder til hunde, så skelnes der mellem tørfoder og vådfoder. \\n\\nGodbidsforslag til din hund\\n\\n\\n\\n\\n\\n\\n\\n\\n\\n\\n \\n\\n\\n\\n\\n\\n\\n\\n\\n\\nCrunchy Snack m. Struds & Brombær 200 g\\n29,00\\xa0kr.\\nTilføj til Kurv\\n\\nSource: {'source': 'https://petguide.dk/hundefoder-maerker/', 'start_index': 1439, 'section': 'beginning'}\\nContent: Companion Short Duck Sticks 1,5cm 80g\\n39,00\\xa0kr.\\nTilføj til Kurv \\n\\n\\n\\n\\n\\n\\n\\n\\n\\n\\n \\n\\n\\n\\n\\n\\n\\n\\n\\n\\nBrit Træningsgodbidder til Hvalpe 200 g\\n29,00\\xa0kr.\\nTilføj til Kurv \\n\\n\\n\\n\\n\\n\\n\\t\\t\\t\\t\\t\\t\\tI Denne Artikel\\t\\t\\t\\t\\t\\t\\t\\t\\t\\t\\t\\t\\t\\n\\n\\nGodbidsforslag til din hundTørfoder1st ChoiceACANAArkwrightsARIONBrit CareDr. JohnEssential FoodsFirst BuddyFour FriendsFromm FamilyGilpaMÆTNOW FRESHNaturea NaturalsOrijenProBiotic LIVEPronature HolisticSportsman’s PrideTaste of the Wild og Taste of the Wild PREYValhalla PetfoodsZiwiPeakVådfoderAlpha SpiritApplawsCalibraNatures:MenuPurbelloSådan finder du det bedste hundefoder mærke til din hund \\n\\n\\nTørfoder\\nNedenfor har vi listet nogle eksempler op på hundefoder mærker af tørfoder. Her kan du læse mere om fordelene ved de forskellige mærker, og hvad de tilbyder.\\n\\nSource: {'source': 'https://petguide.dk/hundefoder-maerker/', 'start_index': 8824, 'section': 'middle'}\\nContent: Gilpa\\nFirmaet bag Gilpa hedder Gilbertson & Page, som også er producenten bag Dr. John og Arkwrights. De har produceret kvalitetsfoder i over 140 år, og tilbyder foder til voksne og senior hunde samt til hunde i alderen 6 måneder og op under navnet Gilpa. Foderet indeholder blandt andet fiskeolier, ris, Yucca ekstrakt og naturligt glucosamin fra new zealandsk grønlæbet musling. Ønsker du foder i økonomisk topklasse til konkurrencedygtig pris og kvalitet, så er dette mærke et godt bud.\\n\\nMÆT\\nMÆT er kendetegnet af frisk hundemad, som er lavet og opbygget omkring nordiske råvarer. De går op i, at foderet er sundt og gavner din hund bedst muligt med rigeligt af proteiner og ingen unødvendige tilsatte konserveringsmidler. Foderet er alt sammen baseret på mad, som vi mennesker ville kunne spise og så er det tilberedt via sous vide.\\n\\nSource: {'source': 'https://petguide.dk/hundefoder-maerker/', 'start_index': 20763, 'section': 'end'}\\nContent: Vær obs på at har du en hvalp, skal den have hvalpefoder.Køber du i samme omgang godbidder til din hund, så kan du læse mere om godbidstasker.\", name='retrieve', id='e58b0765-f645-403a-8239-fab8f4f4d1e4', tool_call_id='call_BAjs3lwWE5U1euYc3he4kbyu', artifact=[{'id': None, 'metadata': {'source': 'https://petguide.dk/hundefoder-maerker/', 'start_index': 880, 'section': 'beginning'}, 'page_content': 'Godbidsforslag til din hund\\n\\n\\n\\n\\n\\n\\n\\n\\n\\n\\n \\n\\n\\n\\n\\n\\n\\n\\n\\n\\nCrunchy Snack m. Struds & Brombær 200 g\\n29,00\\xa0kr.\\nTilføj til Kurv \\n\\n\\n\\n\\n\\n\\n\\n\\n\\n\\n \\n\\n\\n\\n\\n\\n\\n\\n\\n\\nCrunchy Snack m. Vildsvin & Hyben 200 g\\n29,00\\xa0kr.\\nTilføj til Kurv \\n\\n\\n\\n\\n\\n\\n\\n\\n\\n\\n \\n\\n\\n\\n\\n\\n\\n\\n\\n\\nCompanion Mini Kylling cubes til hvalpe, 50g\\n19,00\\xa0kr.\\nTilføj til Kurv \\n\\n\\n\\n\\n\\n\\n\\n\\n\\n\\n \\n\\n\\n\\n\\n\\n\\n\\n\\n\\nAlpha Spirit – 6 forskellige Ristra Sticks\\n79,00\\xa0kr.\\nTilføj til Kurv \\n\\n\\n\\n\\n\\n\\n\\n\\n\\n\\n \\n\\n\\n\\n\\n\\n\\n\\n\\n\\nCompanion Cubes m. and 50 g\\n35,00\\xa0kr.\\nTilføj til Kurv \\n\\n\\n\\n\\n\\n\\n\\n\\n\\n\\n \\n\\n\\n\\n\\n\\n\\n\\n\\n\\nCompanion Beef Fillet 80g\\n39,00\\xa0kr.\\nTilføj til Kurv \\n\\n\\n\\n\\n\\n\\n\\n\\n\\n\\n \\n\\n\\n\\n\\n\\n\\n\\n\\n\\nCompanion Short Duck Sticks 1,5cm 80g\\n39,00\\xa0kr.\\nTilføj til Kurv \\n\\n\\n\\n\\n\\n\\n\\n\\n\\n\\n \\n\\n\\n\\n\\n\\n\\n\\n\\n\\nBrit Træningsgodbidder til Hvalpe 200 g\\n29,00\\xa0kr.\\nTilføj til Kurv \\n\\n\\n\\n\\n\\n\\n\\t\\t\\t\\t\\t\\t\\tI Denne Artikel', 'type': 'Document'}, {'id': None, 'metadata': {'source': 'https://petguide.dk/hundefoder-maerker/', 'start_index': 0, 'section': 'beginning'}, 'page_content': 'Hundefoder mærker – Dit overblik over de forskellige mærker!\\nUdgivet den 22. juli 20201. august 2023 af Cecile A \\nDer findes alverdens hundefoder mærker, og det kan være svært at vælge imellem dem alle sammen. Det er forskelligt, hvad mærkerne har fokus på, og noget er bedre til f.eks. allergiske hunde end andet. Skifter du fra et andet mærke, er det vigtigt at du gør det i løbet af en periode på 7 dage.\\n Det skal foregå langsomt, så din hund kan vænne sig til det nye foder. Laver du blandinger med det gamle foder og det nye foder, burde din hund ikke reagere voldsomt på skiftet. Der er mange meninger om, hvilken hundefoder, der er bedst, men det er meget forskelligt, hvad de individuelle hunde er til. De har også forskellige smagsløg, som vi mennesker, og nogle hunde kan også være kræsne.\\nNår vi taler om foder til hunde, så skelnes der mellem tørfoder og vådfoder. \\n\\nGodbidsforslag til din hund\\n\\n\\n\\n\\n\\n\\n\\n\\n\\n\\n \\n\\n\\n\\n\\n\\n\\n\\n\\n\\nCrunchy Snack m. Struds & Brombær 200 g\\n29,00\\xa0kr.\\nTilføj til Kurv', 'type': 'Document'}, {'id': None, 'metadata': {'source': 'https://petguide.dk/hundefoder-maerker/', 'start_index': 1439, 'section': 'beginning'}, 'page_content': 'Companion Short Duck Sticks 1,5cm 80g\\n39,00\\xa0kr.\\nTilføj til Kurv \\n\\n\\n\\n\\n\\n\\n\\n\\n\\n\\n \\n\\n\\n\\n\\n\\n\\n\\n\\n\\nBrit Træningsgodbidder til Hvalpe 200 g\\n29,00\\xa0kr.\\nTilføj til Kurv \\n\\n\\n\\n\\n\\n\\n\\t\\t\\t\\t\\t\\t\\tI Denne Artikel\\t\\t\\t\\t\\t\\t\\t\\t\\t\\t\\t\\t\\t\\n\\n\\nGodbidsforslag til din hundTørfoder1st ChoiceACANAArkwrightsARIONBrit CareDr. JohnEssential FoodsFirst BuddyFour FriendsFromm FamilyGilpaMÆTNOW FRESHNaturea NaturalsOrijenProBiotic LIVEPronature HolisticSportsman’s PrideTaste of the Wild og Taste of the Wild PREYValhalla PetfoodsZiwiPeakVådfoderAlpha SpiritApplawsCalibraNatures:MenuPurbelloSådan finder du det bedste hundefoder mærke til din hund \\n\\n\\nTørfoder\\nNedenfor har vi listet nogle eksempler op på hundefoder mærker af tørfoder. Her kan du læse mere om fordelene ved de forskellige mærker, og hvad de tilbyder.', 'type': 'Document'}, {'id': None, 'metadata': {'source': 'https://petguide.dk/hundefoder-maerker/', 'start_index': 8824, 'section': 'middle'}, 'page_content': 'Gilpa\\nFirmaet bag Gilpa hedder Gilbertson & Page, som også er producenten bag Dr. John og Arkwrights. De har produceret kvalitetsfoder i over 140 år, og tilbyder foder til voksne og senior hunde samt til hunde i alderen 6 måneder og op under navnet Gilpa. Foderet indeholder blandt andet fiskeolier, ris, Yucca ekstrakt og naturligt glucosamin fra new zealandsk grønlæbet musling. Ønsker du foder i økonomisk topklasse til konkurrencedygtig pris og kvalitet, så er dette mærke et godt bud.\\n\\nMÆT\\nMÆT er kendetegnet af frisk hundemad, som er lavet og opbygget omkring nordiske råvarer. De går op i, at foderet er sundt og gavner din hund bedst muligt med rigeligt af proteiner og ingen unødvendige tilsatte konserveringsmidler. Foderet er alt sammen baseret på mad, som vi mennesker ville kunne spise og så er det tilberedt via sous vide.', 'type': 'Document'}, {'id': None, 'metadata': {'source': 'https://petguide.dk/hundefoder-maerker/', 'start_index': 20763, 'section': 'end'}, 'page_content': 'Vær obs på at har du en hvalp, skal den have hvalpefoder.Køber du i samme omgang godbidder til din hund, så kan du læse mere om godbidstasker.', 'type': 'Document'}]),\n",
       " AIMessage(content='Jeg ved ikke, hvor mange mælkesnitter der kan være på Pluto.', additional_kwargs={'refusal': None}, response_metadata={'token_usage': {'completion_tokens': 18, 'prompt_tokens': 1343, 'total_tokens': 1361, 'completion_tokens_details': {'accepted_prediction_tokens': 0, 'audio_tokens': 0, 'reasoning_tokens': 0, 'rejected_prediction_tokens': 0}, 'prompt_tokens_details': {'audio_tokens': 0, 'cached_tokens': 0}}, 'model_name': 'gpt-4o-mini-2024-07-18', 'system_fingerprint': 'fp_0aa8d3e20b', 'finish_reason': 'stop', 'logprobs': None}, id='run-4767f9bc-70d2-42f8-8447-410ff2bd240f-0', usage_metadata={'input_tokens': 1343, 'output_tokens': 18, 'total_tokens': 1361, 'input_token_details': {'audio': 0, 'cache_read': 0}, 'output_token_details': {'audio': 0, 'reasoning': 0}})]"
      ]
     },
     "execution_count": 120,
     "metadata": {},
     "output_type": "execute_result"
    }
   ],
   "source": [
    "# get all \n",
    "graph.get_state(config=config).values['messages'] #.messages"
   ]
  },
  {
   "cell_type": "code",
   "execution_count": null,
   "metadata": {},
   "outputs": [],
   "source": [
    "response = res[-1]\n",
    "\n",
    "final_response = res[-1][-1]"
   ]
  },
  {
   "cell_type": "code",
   "execution_count": 34,
   "metadata": {},
   "outputs": [],
   "source": [
    "from langchain_core.messages import ToolMessage\n",
    "\n",
    "answer = final_response.content\n",
    "# Extract sources from ToolMessages\n",
    "sources = []\n",
    "for step in res:\n",
    "    for message in step:\n",
    "        if isinstance(message, ToolMessage):\n",
    "            sources.extend([doc.metadata[\"source\"] for doc in message.artifact])\n",
    "sources = set(sources)"
   ]
  },
  {
   "cell_type": "code",
   "execution_count": 47,
   "metadata": {},
   "outputs": [
    {
     "data": {
      "text/plain": [
       "{'source': 'https://petguide.dk/hundefoder-maerker/',\n",
       " 'start_index': 2355,\n",
       " 'section': 'beginning'}"
      ]
     },
     "execution_count": 47,
     "metadata": {},
     "output_type": "execute_result"
    }
   ],
   "source": [
    "res[-1][2].artifact[0].metadata"
   ]
  },
  {
   "cell_type": "code",
   "execution_count": 36,
   "metadata": {},
   "outputs": [
    {
     "ename": "IndexError",
     "evalue": "list index out of range",
     "output_type": "error",
     "traceback": [
      "\u001b[0;31m---------------------------------------------------------------------------\u001b[0m",
      "\u001b[0;31mIndexError\u001b[0m                                Traceback (most recent call last)",
      "Cell \u001b[0;32mIn[36], line 1\u001b[0m\n\u001b[0;32m----> 1\u001b[0m sources \u001b[38;5;241m=\u001b[39m [doc\u001b[38;5;241m.\u001b[39mmetadata[\u001b[38;5;124m\"\u001b[39m\u001b[38;5;124msource\u001b[39m\u001b[38;5;124m\"\u001b[39m] \u001b[38;5;28;01mfor\u001b[39;00m doc \u001b[38;5;129;01min\u001b[39;00m final_response\u001b[38;5;241m.\u001b[39mtool_calls[\u001b[38;5;241m0\u001b[39m]\u001b[38;5;241m.\u001b[39martifact]\n",
      "\u001b[0;31mIndexError\u001b[0m: list index out of range"
     ]
    }
   ],
   "source": [
    "sources = [doc.metadata[\"source\"] for doc in final_response.tool_calls[0].artifact]\n"
   ]
  },
  {
   "cell_type": "code",
   "execution_count": 16,
   "metadata": {},
   "outputs": [
    {
     "name": "stdout",
     "output_type": "stream",
     "text": [
      "================================\u001b[1m Human Message \u001b[0m=================================\n",
      "\n",
      "Hvilke fodermærker kommer fra Canada?\n",
      "==================================\u001b[1m Ai Message \u001b[0m==================================\n",
      "Tool Calls:\n",
      "  retrieve (call_tTYrxjL4JmHyUV1txNlE90de)\n",
      " Call ID: call_tTYrxjL4JmHyUV1txNlE90de\n",
      "  Args:\n",
      "    query: fodermærker fra Canada\n",
      "=================================\u001b[1m Tool Message \u001b[0m=================================\n",
      "Name: retrieve\n",
      "\n",
      "Source: {'source': 'https://petguide.dk/hundefoder-maerker/', 'start_index': 2355, 'section': 'beginning'}\n",
      "Content: 1st Choice\n",
      "1st Choice er kvalitetsfoder lavet i Canada, af gode lokale råvarer skabt med det formål, at sikre at hunde får den rigtige ernæring gennem hele deres liv. Med special udviklede formler, sørger de for at hundens behov bliver opfyldt gennem hundens forskellige livsfaser. Velsmag er i højsæde, men der er samtidigt gjort ekstra ud af at sikre at hunden får ekstra energi, kontrolleret sin vægt, sund hud og pels. 1st Choices vigtigste formål er, at sikre at din bedste ven får det bedste af det bedste. Derudover får du også meget foder for pengene. Med foder fra 1st Choice får du kun kvalitets ingredienser, ingen animalske biprodukter, ingen majs, hvede eller soja, kun naturlige konserveringsmidler og velsmagende smagsvarianter.\n",
      "ACANA\n",
      "\n",
      "Source: {'source': 'https://petguide.dk/hundefoder-maerker/', 'start_index': 12524, 'section': 'middle'}\n",
      "Content: Pronature Holistic\n",
      "Pronature Holistic stammer fra Canada, som har verdens strengeste krav til dyreernæring. Derfor indeholder foderet heller ingen kunstige farvestoffer eller smagsstoffer. Det er foder, der er produceret med bæredygtighed og 100% naturlige og økologiske ingredienser. Pronature Holistic tilbyder en bred vifte af perfekt sammensatte og velbalancerede opskrifter tilpasset din hund, og desuden så er det velegnet til hunde med hud- og pelsproblemer. Ingredienserne sikrer en god fordøjelse og at foderet er velsmagende og frisk. Deres mål er, at tilbyde de ingredienser, der på bedste vis holder dit kæledyr sundt og velfungerende.\n",
      "\n",
      "Source: {'source': 'https://petguide.dk/hundefoder-maerker/', 'start_index': 3099, 'section': 'beginning'}\n",
      "Content: ACANA\n",
      "ACANA laver foder ud fra et biologisk perspektiv. Med udgangspunkt i grå ulven, faderen af alle hunderacer, forsøger de at tilbyde et produkt, der imiterer den næring hunde ville finde i naturen. Dette gør de på bedst mulig vis ved at sørge for samme mængde, friskhed og variation i kød som hunde ville spise i naturen. Foderet indeholder heller ingen animalske biprodukter. Råvarerne leveres friske fra lokale producenter i Canada, hvor mærket kommer fra. Foderet bliver produceret i deres køkkener, der også har ført til deres prisvindende foder. ACANAs foder er rigt på kød og protein, har et højt indhold af frisk kød med variation i kødet, udnyttelse af hele byttet og smart på kulhydrater.\n",
      "\n",
      "Source: {'source': 'https://petguide.dk/hundefoder-maerker/', 'start_index': 11187, 'section': 'middle'}\n",
      "Content: Orijen\n",
      "Orijen er canadisk og de tilbereder selv foderet i deres køkken i Alberta, Canada. Deres foder er rig på protein og fedt, og er kornfrit. Størstedelen af kød indholdet i foderet er frisk, hvilket betyder at det er fyldt med protein, fedt, vitaminer og mineraler. Resten er tørret, hvilket resulterer i en mere koncentreret form for protein. De råvarer, som bruges i foderet, er godkendt til også at kunne bruges af mennesker, og de bliver leveret frisk til køkkenet i Alberta hver dag. Med Orijen får du foder, som kommer tæt på hundens naturlige føde. Det giver den ultimative madoplevelse for hunde.\n",
      "\n",
      "Source: {'source': 'https://petguide.dk/hundefoder-maerker/', 'start_index': 9810, 'section': 'middle'}\n",
      "Content: NOW FRESH\n",
      "Foder fra Petcureans mærke Now Fresh er både korn- og glutenfri, og lavet med 100% frisk kød. De producerer foder til alle livsfaser og størrelser. Foderet indeholder fordøjelsesfremmende pre- og probiotika, Omega olier for en sund hund og pels, antioxidanter for øget immunitet, komplekse kulhydrater for hurtig energi og sunde bær, frugt og grøntsager. Med dette foder sikrer du din hund en nærende kost, og de bedste betingelser for en sund krop med masser af energi i det daglige. Lider din hund af allergi, har den mave-tarmproblemer eller skal den bare have det bedste af det bedste? Så er NOW FRESH et godt valg. Det er ikke for ingenting, at deres motto er “It could only be fresher if you made it from scratch” (“Det kunne kun være friskere, hvis du lavede det fra bunden.”)\n",
      "==================================\u001b[1m Ai Message \u001b[0m==================================\n",
      "\n",
      "Fodermærkerne, der kommer fra Canada, inkluderer 1st Choice, Pronature Holistic, ACANA, Orijen og NOW FRESH. Disse mærker fokuserer på kvalitetsingredienser og ernæring til hunde.\n"
     ]
    }
   ],
   "source": [
    "input_message = \"Hvilke fodermærker kommer fra Canada?\"\n",
    "\n",
    "for step in graph.stream(\n",
    "    {\"messages\": [{\"role\": \"user\", \"content\": input_message}]},\n",
    "    stream_mode=\"values\",\n",
    "    config=config,\n",
    "):\n",
    "    step[\"messages\"][-1].pretty_print()"
   ]
  }
 ],
 "metadata": {
  "kernelspec": {
   "display_name": "woofwisdom-gpt",
   "language": "python",
   "name": "python3"
  },
  "language_info": {
   "codemirror_mode": {
    "name": "ipython",
    "version": 3
   },
   "file_extension": ".py",
   "mimetype": "text/x-python",
   "name": "python",
   "nbconvert_exporter": "python",
   "pygments_lexer": "ipython3",
   "version": "3.11.9"
  }
 },
 "nbformat": 4,
 "nbformat_minor": 2
}
