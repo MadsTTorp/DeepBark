{
 "cells": [
  {
   "cell_type": "markdown",
   "metadata": {},
   "source": [
    "### Notebook to run and test RAG with chat history (v2)"
   ]
  },
  {
   "cell_type": "markdown",
   "metadata": {},
   "source": [
    "### Step 1: Initialize notebook"
   ]
  },
  {
   "cell_type": "code",
   "execution_count": 1,
   "metadata": {},
   "outputs": [
    {
     "name": "stderr",
     "output_type": "stream",
     "text": [
      "USER_AGENT environment variable not set, consider setting it to identify your requests.\n",
      "/home/matt/miniconda3/envs/py311_DeepBark/lib/python3.11/site-packages/langsmith/client.py:253: LangSmithMissingAPIKeyWarning: API key must be provided when using hosted LangSmith API\n",
      "  warnings.warn(\n"
     ]
    }
   ],
   "source": [
    "import os \n",
    "import bs4\n",
    "import getpass \n",
    "import numpy as np\n",
    "import faiss\n",
    "\n",
    "import pickle\n",
    "from langchain_openai import ChatOpenAI, OpenAIEmbeddings \n",
    "from langchain_core.tools import tool\n",
    "from langchain_community.document_loaders import WebBaseLoader\n",
    "from langchain_text_splitters import RecursiveCharacterTextSplitter\n",
    "from langchain_core.prompts import PromptTemplate\n",
    "from langchain_core.messages import SystemMessage\n",
    "from langgraph.prebuilt import ToolNode, tools_condition\n",
    "from langgraph.graph import MessagesState, StateGraph\n",
    "from langgraph.graph import END\n",
    "\n",
    "from langgraph.checkpoint.memory import MemorySaver\n",
    "from dotenv import load_dotenv, find_dotenv\n",
    "load_dotenv(find_dotenv())\n",
    "\n",
    "from utils import *\n"
   ]
  },
  {
   "cell_type": "code",
   "execution_count": 25,
   "metadata": {},
   "outputs": [
    {
     "name": "stdout",
     "output_type": "stream",
     "text": [
      "All numpy arrays in metadata['documents'] have been converted to lists.\n"
     ]
    }
   ],
   "source": [
    "import pickle\n",
    "import numpy as np\n",
    "\n",
    "# Load the chunked_documents from the pickle file\n",
    "with open(\"../app/vector_storage/chunked_documents.pkl\", \"rb\") as f:\n",
    "    chunked_documents = pickle.load(f)\n",
    "\n",
    "# Iterate over each document and convert the metadata 'documents' key from ndarray to list\n",
    "for doc in chunked_documents:\n",
    "    if hasattr(doc, \"metadata\") and \"documents\" in doc.metadata:\n",
    "        if isinstance(doc.metadata[\"documents\"], np.ndarray):\n",
    "            doc.metadata[\"documents\"] = doc.metadata[\"documents\"].tolist()\n",
    "\n",
    "# Optionally, save the updated documents back to a new file\n",
    "with open(\"../app/vector_storage/chunked_documents_updated.pkl\", \"wb\") as f:\n",
    "    pickle.dump(chunked_documents, f)\n",
    "\n",
    "print(\"All numpy arrays in metadata['documents'] have been converted to lists.\")\n"
   ]
  },
  {
   "cell_type": "markdown",
   "metadata": {},
   "source": [
    "### Step 2: Initialize model objects"
   ]
  },
  {
   "cell_type": "code",
   "execution_count": 2,
   "metadata": {},
   "outputs": [],
   "source": [
    "llm = ChatOpenAI(model=\"gpt-4o-mini\")"
   ]
  },
  {
   "cell_type": "code",
   "execution_count": 3,
   "metadata": {},
   "outputs": [],
   "source": [
    "embeddings = OpenAIEmbeddings(model=\"text-embedding-3-large\")"
   ]
  },
  {
   "cell_type": "code",
   "execution_count": 4,
   "metadata": {},
   "outputs": [],
   "source": [
    "# Load the FAISS index and documents\n",
    "index = faiss.read_index(\"../app/vector_storage/faiss_index.index\")\n",
    "\n",
    "with open(\"../app/vector_storage/chunked_documents_updated.pkl\", \"rb\") as f:\n",
    "    all_splits = pickle.load(f)"
   ]
  },
  {
   "cell_type": "markdown",
   "metadata": {},
   "source": [
    "### Initialize RAG"
   ]
  },
  {
   "cell_type": "code",
   "execution_count": 5,
   "metadata": {},
   "outputs": [],
   "source": [
    "custom_rag_prompt = PromptTemplate.from_template(prompt_template)"
   ]
  },
  {
   "cell_type": "code",
   "execution_count": 6,
   "metadata": {},
   "outputs": [],
   "source": [
    "graph_builder = StateGraph(MessagesState)"
   ]
  },
  {
   "cell_type": "code",
   "execution_count": 7,
   "metadata": {},
   "outputs": [],
   "source": [
    "memory = MemorySaver()"
   ]
  },
  {
   "cell_type": "code",
   "execution_count": 8,
   "metadata": {},
   "outputs": [
    {
     "data": {
      "text/plain": [
       "Document(metadata={'source': 'https://www.dkk.dk/race/affenpinscher', 'specs': {'Aktivitesniveau': 'Mellem', 'FCI Gruppe': 'Gruppe 2 – Schnauzere, pinschere, molosser og sennenhunde', 'Farver': 'Sort, men brune eller grå aftegninger accepteres.', 'Hjemland': 'Tyskland.', 'Højde': '25-30 cm for begge køn.', 'Internationalt racenavn': 'Affenpinscher.', 'Pelspleje': 'Lille', 'Specialklub': 'Dansk Schnauzer Og Pinscher Klub', 'Størrelse': 'Lille', 'Temperament': 'Samarbejdende', 'Vægt': '3-4 kg.'}, 'documents': ['https://www.hundeweb.dk/dkk/public/getRaseFil?FIL_ID=242', 'https://www.hundeweb.dk/dkk/public/getRaseFil?FIL_ID=951', 'https://www.hundeweb.dk/dkk/public/getPasningsVeilederFil?kategori=2'], 'breed_name': 'affenpinscher', 'scrape_timestamp': Timestamp('2025-02-17 09:58:57.507542'), 'content_type': 'dog_breed_profile', 'start_index': 0}, page_content='Breed Profile: Affenpinscher\\n## Key Characteristics:\\n- Aktivitesniveau: Mellem\\n- FCI Gruppe: Gruppe 2 – Schnauzere, pinschere, molosser og sennenhunde\\n- Farver: Sort, men brune eller grå aftegninger accepteres.\\n- Hjemland: Tyskland.\\n- Højde: 25-30 cm for begge køn.\\n- Internationalt racenavn: Affenpinscher.\\n- Pelspleje: Lille\\n- Specialklub: Dansk Schnauzer Og Pinscher Klub\\n- Størrelse: Lille\\n- Temperament: Samarbejdende\\n- Vægt: 3-4 kg.\\n## Detailed Description:\\nMentalitet\\nEn affenpinscher er en livlig og morsom selskabshund med et meget specielt udseende.Den er for typen usædvanlig og opbrusende af karakter. Den kan være stædig, selvtilfreds og uvillig til at rette sig efter anvisninger. Over for familien er den oftest hengiven, kærlig og kontaktsøgende. Fremmede afviser den bestemt med en vedholdende gøen.')"
      ]
     },
     "execution_count": 8,
     "metadata": {},
     "output_type": "execute_result"
    }
   ],
   "source": [
    "all_splits[0]#.page_content#.content"
   ]
  },
  {
   "cell_type": "code",
   "execution_count": 9,
   "metadata": {},
   "outputs": [],
   "source": [
    "@tool(response_format=\"content_and_artifact\")\n",
    "def retrieve(query: str):\n",
    "    \"\"\"Retrieve information related to a query.\"\"\"\n",
    "    # Create embeddings for the query\n",
    "    query_embedding = embeddings.embed_query(query)\n",
    "    query_embedding = np.array([query_embedding])\n",
    "\n",
    "    distances, indices = index.search(query_embedding, k=3)\n",
    "    retrieved_docs = []\n",
    "    for distance, idx in zip(distances[0], indices[0]):\n",
    "        if distance < 1.0:\n",
    "            doc = all_splits[idx]\n",
    "            # Convert to a dictionary format similar to LangChain's Document class\n",
    "            retrieved_docs.append({\n",
    "                \"metadata\": doc.metadata,\n",
    "                \"page_content\": doc.page_content\n",
    "            })\n",
    "    serialized = \"\\n\\n\".join(\n",
    "        (f\"Source: {doc['metadata']['source']}\\n\" f\"Content: {doc['page_content']}\")\n",
    "        for doc in retrieved_docs\n",
    "    )\n",
    "    return serialized, retrieved_docs"
   ]
  },
  {
   "cell_type": "code",
   "execution_count": 10,
   "metadata": {},
   "outputs": [],
   "source": [
    "# Generate an AIMessage that may include a tool-call to be sent.\n",
    "def query_or_respond(state: MessagesState):\n",
    "    \"\"\"Generate tool call for retrieval or respond.\"\"\"\n",
    "    llm_with_tools = llm.bind_tools([retrieve])\n",
    "    response = llm_with_tools.invoke(state[\"messages\"])\n",
    "    # MessagesState appends messages to state instead of overwriting\n",
    "    return {\"messages\": [response]}"
   ]
  },
  {
   "cell_type": "code",
   "execution_count": 11,
   "metadata": {},
   "outputs": [],
   "source": [
    "# Executre the retrieval tool\n",
    "tools = ToolNode([retrieve])"
   ]
  },
  {
   "cell_type": "code",
   "execution_count": 12,
   "metadata": {},
   "outputs": [],
   "source": [
    "#Generate a response using the retrieved content.\n",
    "def generate(state: MessagesState):\n",
    "    \"\"\"Generate answer.\"\"\"\n",
    "    # Get generated ToolMessages\n",
    "    recent_tool_messages = []\n",
    "    for message in reversed(state[\"messages\"]):\n",
    "        if message.type == \"tool\":\n",
    "            recent_tool_messages.append(message)\n",
    "        else:\n",
    "            break\n",
    "    tool_messages = recent_tool_messages[::-1]\n",
    "    \n",
    "    # Format into prompt\n",
    "    docs_content = \"\\n\\n\".join(doc.content for doc in tool_messages)\n",
    "    system_message_content = (\n",
    "        \"Du er en assistent for spørsmålsbesvarende oppgaver. \"\n",
    "        \"Bruk følgende bider af hentet kontekst for at svare \"\n",
    "        \"på spørsmålet. Hvis du ikke er 100% sikker på svaret,\"\n",
    "        \"skal du inkludere et kald til retrieval tool.\"\n",
    "        \"Hvis du stadigvæk ikke kender svarer skal du svare: Jeg kender ikke svaret.\"\n",
    "        \"Brug maksimalt tre sætninger og hold \"\n",
    "        \"svaret kortfattet.\"\n",
    "        \"\\n\\n\"\n",
    "        f\"{docs_content}\"\n",
    "    )\n",
    "    conversation_messages = [\n",
    "        message\n",
    "        for message in state[\"messages\"]\n",
    "        if message.type in (\"human\", \"system\")\n",
    "        or (message.type == \"ai\" and not message.tool_calls)\n",
    "    ]\n",
    "    prompt = [SystemMessage(system_message_content)] + conversation_messages\n",
    "\n",
    "    # Run\n",
    "    response = llm.invoke(prompt)\n",
    "    return {\"messages\": [response]}"
   ]
  },
  {
   "cell_type": "code",
   "execution_count": 13,
   "metadata": {},
   "outputs": [],
   "source": [
    "# build the graph\n",
    "graph_builder.add_node(query_or_respond)\n",
    "graph_builder.add_node(tools)\n",
    "graph_builder.add_node(generate)\n",
    "\n",
    "# set the entry point\n",
    "graph_builder.set_entry_point(\"query_or_respond\")\n",
    "# add conditions for passing from one node to another\n",
    "graph_builder.add_conditional_edges(\n",
    "    \"query_or_respond\",\n",
    "    tools_condition,\n",
    "    {\n",
    "    END: END, # if the condition indicates the end of the process, terminate\n",
    "    \"tools\": \"tools\" # else, proceed to the tools node\n",
    "     },\n",
    ")\n",
    "# add edges to the graph that connect the nodes\n",
    "graph_builder.add_edge(\"tools\", \"generate\")\n",
    "graph_builder.add_edge(\"generate\", END)\n",
    "# # compile the graph\n",
    "# graph = graph_builder.compile()\n",
    "# initiate the memory saver to save the state of the graph\n",
    "graph = graph_builder.compile(checkpointer=memory)\n",
    "\n",
    "# Specify an ID for the thread\n",
    "config = {\"configurable\": {\"thread_id\": \"abc123\"}}"
   ]
  },
  {
   "cell_type": "code",
   "execution_count": 14,
   "metadata": {},
   "outputs": [
    {
     "name": "stdout",
     "output_type": "stream",
     "text": [
      "================================\u001b[1m Human Message \u001b[0m=================================\n",
      "\n",
      "Er en Labrador Retriever en aktiv hund?\n",
      "==================================\u001b[1m Ai Message \u001b[0m==================================\n",
      "\n",
      "Ja, Labrador Retriever er en aktiv hunderase. De er kjent for å ha høy energi og behov for regelmessig mosjon og mental stimulering. Labradore er svært lekne, kjærlige og sosiale hunder som trives med aktiviteter som lange turer, svømming, apportering og forskjellige hundesporter. De er også kjent for å være gode familiehunder på grunn av sin vennlige og tålmodige natur.\n"
     ]
    }
   ],
   "source": [
    "input_message = \"Er en Labrador Retriever en aktiv hund?\"\n",
    "\n",
    "for step in graph.stream(\n",
    "    {\"messages\": [{\"role\": \"user\", \"content\": input_message}]},\n",
    "    stream_mode=\"values\",\n",
    "    config=config,\n",
    "):\n",
    "    step[\"messages\"][-1].pretty_print()"
   ]
  },
  {
   "cell_type": "code",
   "execution_count": 15,
   "metadata": {},
   "outputs": [
    {
     "name": "stdout",
     "output_type": "stream",
     "text": [
      "================================\u001b[1m Human Message \u001b[0m=================================\n",
      "\n",
      "Kræver en labrador retriever meget pelspleje?\n",
      "==================================\u001b[1m Ai Message \u001b[0m==================================\n",
      "\n",
      "Labrador Retriever har en kort, tett pels som er relativt lavpåvirket når det gjelder pelspleie. Dog krever de en vis grad af pleje for at holde pelsen sund og fri for snavs og tangle. Her er nogle nøglepunkter om pelspleje for Labradorer:\n",
      "\n",
      "1. **Børstning**: Det anbefales at børste en Labrador cirka en gang om ugen for at fjerne døde hår og reducere fældningen. Under fældningssæsonen (forår og efterår) kan det være nødvendigt at børste dem oftere.\n",
      "\n",
      "2. **Badning**: Labradore har ikke brug for hyppige bade, da deres pels har naturlige olier, der beskytter huden. Badning en gang hver 1-3 måned er som regel tilstrækkeligt, medmindre hunden bliver meget snavset.\n",
      "\n",
      "3. **Ører og kløer**: Som med alle hunde er det vigtigt at holde øje med ørenes sundhed og trimme kløerne regelmæssigt.\n",
      "\n",
      "Alt i alt er Labradore forholdsvis nemme at pleje, men regelmæssig pelspleje er stadig vigtig for deres velvære.\n"
     ]
    }
   ],
   "source": [
    "input_message = \"Kræver en labrador retriever meget pelspleje?\"\n",
    "\n",
    "for step in graph.stream(\n",
    "    {\"messages\": [{\"role\": \"user\", \"content\": input_message}]},\n",
    "    stream_mode=\"values\",\n",
    "    config=config,\n",
    "):\n",
    "    step[\"messages\"][-1].pretty_print()"
   ]
  },
  {
   "cell_type": "code",
   "execution_count": 16,
   "metadata": {},
   "outputs": [
    {
     "name": "stdout",
     "output_type": "stream",
     "text": [
      "================================\u001b[1m Human Message \u001b[0m=================================\n",
      "\n",
      "Er en Finsk lapphund mere eller mindre aktiv end en labrador retriever?\n",
      "==================================\u001b[1m Ai Message \u001b[0m==================================\n",
      "\n",
      "En Finsk Lapphund og en Labrador Retriever er begge aktive hunderacer, men deres aktivitetsniveau og behov kan variere noget.\n",
      "\n",
      "- **Labrador Retriever**: Generelt betragtes de som en af de mest aktive hunderacer. De har et højt energiniveau og kræver meget motion og mental stimulering. De elsker at svømme, lege apport, og deltage i forskellige aktiviteter.\n",
      "\n",
      "- **Finsk Lapphund**: Denne race er også aktiv, men de har tendens til at have lidt lavere energi sammenlignet med Labradore. Finske Lapphunde er arbejdende hunde, der historisk set blev brugt til at vogte og føre rensdyr. De nyder motion, men de kan også være mere uafhængige og mindre krævende i forhold til konstant aktivitet og stimulation.\n",
      "\n",
      "Sammenfattende kan man sige, at en Labrador Retriever generelt kræver mere aktivitet og motion sammenlignet med en Finsk Lapphund, selvom begge racer er aktive og trives med regelmæssig motion og udendørs aktiviteter.\n"
     ]
    }
   ],
   "source": [
    "input_message = \"Er en Finsk lapphund mere eller mindre aktiv end en labrador retriever?\"\n",
    "\n",
    "for step in graph.stream(\n",
    "    {\"messages\": [{\"role\": \"user\", \"content\": input_message}]},\n",
    "    stream_mode=\"values\",\n",
    "    config=config,\n",
    "):\n",
    "    step[\"messages\"][-1].pretty_print()"
   ]
  },
  {
   "cell_type": "code",
   "execution_count": 17,
   "metadata": {},
   "outputs": [
    {
     "name": "stdout",
     "output_type": "stream",
     "text": [
      "================================\u001b[1m Human Message \u001b[0m=================================\n",
      "\n",
      "Hvilke farver er tilladt for en Finsk Lapphund?\n",
      "==================================\u001b[1m Ai Message \u001b[0m==================================\n",
      "\n",
      "Finske Lapphunde findes i flere forskellige farver, som er godkendt af de fleste kennelklubber. De tilladte farver omfatter:\n",
      "\n",
      "1. **Sort**: En ensfarvet sort pels er meget almindelig.\n",
      "2. **Brun**: En ensfarvet brun farve er også accepteret.\n",
      "3. **Grå**: En grå pelskombination, som ofte kan være med eller uden sorte afmærkninger.\n",
      "4. **Hvid**: Hvid eller næsten hvid pels er tilladt.\n",
      "5. **Rød**: Rød eller lys rød farve kan også forekomme.\n",
      "6. **Sabel (fawn)**: En lysere, gylden farve henholdsvis.\n",
      "   \n",
      "Der kan også forekomme forskellige afmærkninger og mønstre, såsom hvidt på brystet og poter, som er almindeligt i racen. Det er altid bedst at konsultere den specifikke kennelklub eller standarden for at få den mest præcise information om farver og mønstre.\n"
     ]
    }
   ],
   "source": [
    "input_message = \"Hvilke farver er tilladt for en Finsk Lapphund?\"\n",
    "\n",
    "for step in graph.stream(\n",
    "    {\"messages\": [{\"role\": \"user\", \"content\": input_message}]},\n",
    "    stream_mode=\"values\",\n",
    "    config=config,\n",
    "):\n",
    "    step[\"messages\"][-1].pretty_print()"
   ]
  },
  {
   "cell_type": "code",
   "execution_count": 18,
   "metadata": {},
   "outputs": [
    {
     "name": "stdout",
     "output_type": "stream",
     "text": [
      "================================\u001b[1m Human Message \u001b[0m=================================\n",
      "\n",
      "Hvilke farver mener DKK at der er tilladte for en Finsk Lapphund?\n",
      "==================================\u001b[1m Ai Message \u001b[0m==================================\n",
      "Tool Calls:\n",
      "  retrieve (call_2LK9kpBmNAe7mIAp0PjpHtuG)\n",
      " Call ID: call_2LK9kpBmNAe7mIAp0PjpHtuG\n",
      "  Args:\n",
      "    query: Finske Lapphund farver site:dkk.dk\n",
      "=================================\u001b[1m Tool Message \u001b[0m=================================\n",
      "Name: retrieve\n",
      "\n",
      "Source: https://www.dkk.dk/race/finsk-lapphund\n",
      "Content: Breed Profile: Finsk-lapphund\n",
      "## Key Characteristics:\n",
      "- Aktivitesniveau: Mellem\n",
      "- FCI Gruppe: Gruppe 5 – Spidshunde\n",
      "- Farver: Alle farver er tilladt.\n",
      "- Hjemland: Finland.\n",
      "- Højde: Hanner 46-52 cm. Tæver 41-47 cm.\n",
      "- Internationalt racenavn: Suomenlapinkoira.\n",
      "- Pelspleje: Højt\n",
      "- Specialklub: Spidshundeklubben\n",
      "- Størrelse: Mellem\n",
      "- Temperament: Selvstendig\n",
      "- Vægt: 19-21 kg.\n",
      "## Detailed Description:\n",
      "Mentalitet\n",
      "En finsk lapphund har med det stabile væsen stadig mange af sine oprindelige instinkter i behold fra tiden som hyrde- og vagthund, men den finder sig i dag også godt til rette i en aktiv familie. En finsk lapphund er venlig og trofast, tålmodig med børn og rolig og afslappet i selskab med fremmede. Den er social over for både mennesker og dyr.\n",
      "\n",
      "Behov\n",
      "En finsk lapphund elsker selskab og knytter sig meget tæt til hele familien, men den kan også udmærket være alene, hvis den hver dag får tilstrækkelig fysisk motion og meningsfyldt beskæftigelse.\n",
      "\n",
      "Source: https://www.dkk.dk/race/finsk-lapphund\n",
      "Content: Tips og trick til indlæring og håndtering\n",
      "En finsk lapphund er opvakt, kvik, arbejdsvillig og glad for at lære. Begynd opdragelsen tidligt for at dæmpe hyrdehundeaktiviteten og begrænse lysten til at gø. Skift gerne mellem flere træningsmiljøer og belønninger for at holde interessen fanget.\n",
      "\n",
      "Aktivitetsniveau og handleradius\n",
      "En finsk lapphund er en aktiv og arbejdsglad hund, som egner sig til næsten alle former for hundesport. Hyrdeinstinktet er stærkt, og opfindsomheden er stor, når den prøver at få afløb for det. Alt, hvad der bevæger sig, skal samles sammen. Jagtlysten er i dag behersket.\n",
      "\n",
      "Pels og pleje\n",
      "Pelsen er rigelig, vandtæt og godt isolerende med lang, lige og grov dækpels over blød og tæt underuld. Pelsen er væsentligt mere fyldig i den kolde tid. Om sommeren fældes meget af underulden. Pelsplejen består i grundige gennembørstninger med jævne mellemrum.\n",
      "\n",
      "Source: https://www.dkk.dk/race/finsk-hyrdehund\n",
      "Content: Breed Profile: Finsk-hyrdehund\n",
      "## Key Characteristics:\n",
      "- Aktivitesniveau: Højt\n",
      "- FCI Gruppe: Gruppe 5 – Spidshunde\n",
      "- Farver: Sort eller mørkebrun med lysere aftegninger.\n",
      "- Hjemland: Finland\n",
      "- Højde: Hanner 49-55 cm. Tæver 43-49 cm.\n",
      "- Internationalt racenavn: Lapinporokoira\n",
      "- Pelspleje: Mellem\n",
      "- Specialklub: Spidshundeklubben\n",
      "- Størrelse: Mellem\n",
      "- Temperament: Moderat\n",
      "- Vægt: 15-25 kg.\n",
      "## Detailed Description:\n",
      "Mentalitet\n",
      "Dens rolige, venlige væsen gør den til en behagelig familiehund hos aktive mennesker. Den finske hyrdehund har tendens til at gø, når den driver tusindvis af rensdyr afsted over sneen. En finsk hyrdehund har et vagtinstinkt, som gør, at den vil gø, når der kommer nogen forbi. Derfor kræver det, at den allerede fra hvalp af lærer, hvornår det er ok, at den gør, og hvornår det ikke er. Den er overbærende over for børn og glad for at lege. I forhold til fremmede mennesker og hunde er den tillidsfuld, tolerant og afslappet.\n",
      "==================================\u001b[1m Ai Message \u001b[0m==================================\n",
      "\n",
      "Ifølge Dansk Kennel Klub (DKK) er alle farver tilladt for en Finsk Lapphund. Dette betyder, at der ikke er nogen specifikke begrænsninger på farverne, så både ensfarvede og flerfarvede varianter accepteres.\n"
     ]
    }
   ],
   "source": [
    "input_message = \"Hvilke farver mener DKK at der er tilladte for en Finsk Lapphund?\"\n",
    "\n",
    "for step in graph.stream(\n",
    "    {\"messages\": [{\"role\": \"user\", \"content\": input_message}]},\n",
    "    stream_mode=\"values\",\n",
    "    config=config,\n",
    "):\n",
    "    step[\"messages\"][-1].pretty_print()"
   ]
  },
  {
   "cell_type": "code",
   "execution_count": null,
   "metadata": {},
   "outputs": [],
   "source": []
  },
  {
   "cell_type": "code",
   "execution_count": null,
   "metadata": {},
   "outputs": [],
   "source": []
  },
  {
   "cell_type": "code",
   "execution_count": null,
   "metadata": {},
   "outputs": [],
   "source": [
    "input_message = \"Er en Labrador Retriever en aktiv hund?\"\n",
    "\n",
    "query = {\"messages\": [{\"role\": \"user\", \"content\": input_message}]}\n",
    "\n",
    "output = graph.stream(query, stream_mode=\"values\", config=config)\n",
    "\n",
    "result = [step[\"messages\"] for step in output][-1]"
   ]
  },
  {
   "cell_type": "code",
   "execution_count": 15,
   "metadata": {},
   "outputs": [
    {
     "data": {
      "text/plain": [
       "[HumanMessage(content='Er en Labrador Retriever en aktiv hund?', additional_kwargs={}, response_metadata={}, id='b01b0521-3c64-454c-af8a-4e1046b90c72'),\n",
       " AIMessage(content='', additional_kwargs={'tool_calls': [{'id': 'call_69QxuOwCbSXPr7jKJgPBylmt', 'function': {'arguments': '{\"query\":\"Er en Labrador Retriever en aktiv hund?\"}', 'name': 'retrieve'}, 'type': 'function'}], 'refusal': None}, response_metadata={'token_usage': {'completion_tokens': 21, 'prompt_tokens': 51, 'total_tokens': 72, 'completion_tokens_details': {'accepted_prediction_tokens': 0, 'audio_tokens': 0, 'reasoning_tokens': 0, 'rejected_prediction_tokens': 0}, 'prompt_tokens_details': {'audio_tokens': 0, 'cached_tokens': 0}}, 'model_name': 'gpt-4o-mini-2024-07-18', 'system_fingerprint': 'fp_13eed4fce1', 'finish_reason': 'tool_calls', 'logprobs': None}, id='run-2e1bde45-9715-4e5d-b6c7-97d448fb0ee4-0', tool_calls=[{'name': 'retrieve', 'args': {'query': 'Er en Labrador Retriever en aktiv hund?'}, 'id': 'call_69QxuOwCbSXPr7jKJgPBylmt', 'type': 'tool_call'}], usage_metadata={'input_tokens': 51, 'output_tokens': 21, 'total_tokens': 72, 'input_token_details': {'audio': 0, 'cache_read': 0}, 'output_token_details': {'audio': 0, 'reasoning': 0}})]"
      ]
     },
     "execution_count": 15,
     "metadata": {},
     "output_type": "execute_result"
    }
   ],
   "source": [
    "graph.get_state(config=config).values['messages'] "
   ]
  },
  {
   "cell_type": "code",
   "execution_count": 16,
   "metadata": {},
   "outputs": [
    {
     "ename": "StopIteration",
     "evalue": "",
     "output_type": "error",
     "traceback": [
      "\u001b[0;31m---------------------------------------------------------------------------\u001b[0m",
      "\u001b[0;31mStopIteration\u001b[0m                             Traceback (most recent call last)",
      "Cell \u001b[0;32mIn[16], line 3\u001b[0m\n\u001b[1;32m      1\u001b[0m \u001b[38;5;28;01mfrom\u001b[39;00m \u001b[38;5;21;01mlangchain_core\u001b[39;00m\u001b[38;5;21;01m.\u001b[39;00m\u001b[38;5;21;01mmessages\u001b[39;00m \u001b[38;5;28;01mimport\u001b[39;00m ToolMessage\n\u001b[0;32m----> 3\u001b[0m last_tool_message \u001b[38;5;241m=\u001b[39m \u001b[38;5;28mnext\u001b[39m(\n\u001b[1;32m      4\u001b[0m         (\n\u001b[1;32m      5\u001b[0m             tool_msg \u001b[38;5;28;01mfor\u001b[39;00m tool_msg \u001b[38;5;129;01min\u001b[39;00m \u001b[38;5;28mreversed\u001b[39m(result)\n\u001b[1;32m      6\u001b[0m             \u001b[38;5;28;01mif\u001b[39;00m \u001b[38;5;28misinstance\u001b[39m(tool_msg, ToolMessage)\n\u001b[1;32m      7\u001b[0m         )\n\u001b[1;32m      8\u001b[0m     )\n\u001b[1;32m     10\u001b[0m \u001b[38;5;124m\"\u001b[39m\u001b[38;5;130;01m\\n\u001b[39;00m\u001b[38;5;130;01m\\n\u001b[39;00m\u001b[38;5;124m\"\u001b[39m\u001b[38;5;241m.\u001b[39mjoin(doc\u001b[38;5;241m.\u001b[39mcontent \u001b[38;5;28;01mfor\u001b[39;00m doc \u001b[38;5;129;01min\u001b[39;00m [last_tool_message])\n",
      "\u001b[0;31mStopIteration\u001b[0m: "
     ]
    }
   ],
   "source": [
    "from langchain_core.messages import ToolMessage\n",
    "\n",
    "last_tool_message = next(\n",
    "        (\n",
    "            tool_msg for tool_msg in reversed(result)\n",
    "            if isinstance(tool_msg, ToolMessage)\n",
    "        )\n",
    "    )\n",
    "\n",
    "\"\\n\\n\".join(doc.content for doc in [last_tool_message])"
   ]
  },
  {
   "cell_type": "code",
   "execution_count": 17,
   "metadata": {},
   "outputs": [
    {
     "name": "stdout",
     "output_type": "stream",
     "text": [
      "1.4002593\n",
      "1.4171115\n",
      "1.4468055\n"
     ]
    }
   ],
   "source": [
    "input_message_2 = \"Hvad spiste Adolf Hitler under krigen?\"\n",
    "\n",
    "query_2 = {\"messages\": [{\"role\": \"user\", \"content\": input_message_2}]}\n",
    "\n",
    "output_2 = graph.stream(query_2, stream_mode=\"values\", config=config)\n",
    "\n",
    "result_2 = [step[\"messages\"] for step in output_2][-1]"
   ]
  },
  {
   "cell_type": "code",
   "execution_count": 18,
   "metadata": {},
   "outputs": [
    {
     "data": {
      "text/plain": [
       "[HumanMessage(content='Er en labrador en aktiv hund?', additional_kwargs={}, response_metadata={}, id='0d572558-10f8-4641-a18e-76b48b00c75b'),\n",
       " AIMessage(content='Ja, labradorer er generelt aktive hunder. De er kjent for sitt vennlige lynne og høye energinivå. Labradorer trenger regelmessig mosjon og mentale stimuleringsaktiviteter for å holde seg sunne og glade. De er ofte engasjert i aktiviteter som jakt, svømming, og forskjellige hundesporter.', additional_kwargs={'refusal': None}, response_metadata={'token_usage': {'completion_tokens': 80, 'prompt_tokens': 52, 'total_tokens': 132, 'completion_tokens_details': {'accepted_prediction_tokens': 0, 'audio_tokens': 0, 'reasoning_tokens': 0, 'rejected_prediction_tokens': 0}, 'prompt_tokens_details': {'audio_tokens': 0, 'cached_tokens': 0}}, 'model_name': 'gpt-4o-mini-2024-07-18', 'system_fingerprint': 'fp_13eed4fce1', 'finish_reason': 'stop', 'logprobs': None}, id='run-afeac389-b78b-4ded-a5fb-4704bd42d435-0', usage_metadata={'input_tokens': 52, 'output_tokens': 80, 'total_tokens': 132, 'input_token_details': {'audio': 0, 'cache_read': 0}, 'output_token_details': {'audio': 0, 'reasoning': 0}}),\n",
       " HumanMessage(content='Hvad spiste Adolf Hitler under krigen?', additional_kwargs={}, response_metadata={}, id='22bf6c91-2083-4f8e-a510-de24c40905fb'),\n",
       " AIMessage(content='', additional_kwargs={'tool_calls': [{'id': 'call_AtL4xxPk4nEHoyVAO78twNM7', 'function': {'arguments': '{\"query\":\"Hvad spiste Adolf Hitler under krigen?\"}', 'name': 'retrieve'}, 'type': 'function'}], 'refusal': None}, response_metadata={'token_usage': {'completion_tokens': 23, 'prompt_tokens': 148, 'total_tokens': 171, 'completion_tokens_details': {'accepted_prediction_tokens': 0, 'audio_tokens': 0, 'reasoning_tokens': 0, 'rejected_prediction_tokens': 0}, 'prompt_tokens_details': {'audio_tokens': 0, 'cached_tokens': 0}}, 'model_name': 'gpt-4o-mini-2024-07-18', 'system_fingerprint': 'fp_00428b782a', 'finish_reason': 'tool_calls', 'logprobs': None}, id='run-4ee959a8-6a94-4555-bf6e-b6e5e87c072b-0', tool_calls=[{'name': 'retrieve', 'args': {'query': 'Hvad spiste Adolf Hitler under krigen?'}, 'id': 'call_AtL4xxPk4nEHoyVAO78twNM7', 'type': 'tool_call'}], usage_metadata={'input_tokens': 148, 'output_tokens': 23, 'total_tokens': 171, 'input_token_details': {'audio': 0, 'cache_read': 0}, 'output_token_details': {'audio': 0, 'reasoning': 0}}),\n",
       " ToolMessage(content='', name='retrieve', id='28b3ccbd-0c98-4075-b49d-2620de6241be', tool_call_id='call_AtL4xxPk4nEHoyVAO78twNM7', artifact=[]),\n",
       " AIMessage(content='Adolf Hitler hadde et begrenset kosthold som inkluderte en del vegetariske retter, da han i senere år av livet ble mer vegetarianer. Han spiste ofte retter som grønnsaker, poteter og brød, og det er rapportert at han unngikk kjøtt i stor grad. Men under krigen var det også knapphet på mat, noe som førte til at kostholdet hans var preget av tilgjengelighet.', additional_kwargs={'refusal': None}, response_metadata={'token_usage': {'completion_tokens': 96, 'prompt_tokens': 161, 'total_tokens': 257, 'completion_tokens_details': {'accepted_prediction_tokens': 0, 'audio_tokens': 0, 'reasoning_tokens': 0, 'rejected_prediction_tokens': 0}, 'prompt_tokens_details': {'audio_tokens': 0, 'cached_tokens': 0}}, 'model_name': 'gpt-4o-mini-2024-07-18', 'system_fingerprint': 'fp_13eed4fce1', 'finish_reason': 'stop', 'logprobs': None}, id='run-bde492f6-12f9-44bb-9d6c-5862631b7604-0', usage_metadata={'input_tokens': 161, 'output_tokens': 96, 'total_tokens': 257, 'input_token_details': {'audio': 0, 'cache_read': 0}, 'output_token_details': {'audio': 0, 'reasoning': 0}})]"
      ]
     },
     "execution_count": 18,
     "metadata": {},
     "output_type": "execute_result"
    }
   ],
   "source": [
    "# get all \n",
    "graph.get_state(config=config).values['messages'] #.messages"
   ]
  },
  {
   "cell_type": "code",
   "execution_count": null,
   "metadata": {},
   "outputs": [],
   "source": [
    "response = res[-1]\n",
    "\n",
    "final_response = res[-1][-1]"
   ]
  },
  {
   "cell_type": "code",
   "execution_count": 34,
   "metadata": {},
   "outputs": [],
   "source": [
    "from langchain_core.messages import ToolMessage\n",
    "\n",
    "answer = final_response.content\n",
    "# Extract sources from ToolMessages\n",
    "sources = []\n",
    "for step in res:\n",
    "    for message in step:\n",
    "        if isinstance(message, ToolMessage):\n",
    "            sources.extend([doc.metadata[\"source\"] for doc in message.artifact])\n",
    "sources = set(sources)"
   ]
  },
  {
   "cell_type": "code",
   "execution_count": 47,
   "metadata": {},
   "outputs": [
    {
     "data": {
      "text/plain": [
       "{'source': 'https://petguide.dk/hundefoder-maerker/',\n",
       " 'start_index': 2355,\n",
       " 'section': 'beginning'}"
      ]
     },
     "execution_count": 47,
     "metadata": {},
     "output_type": "execute_result"
    }
   ],
   "source": [
    "res[-1][2].artifact[0].metadata"
   ]
  },
  {
   "cell_type": "code",
   "execution_count": 36,
   "metadata": {},
   "outputs": [
    {
     "ename": "IndexError",
     "evalue": "list index out of range",
     "output_type": "error",
     "traceback": [
      "\u001b[0;31m---------------------------------------------------------------------------\u001b[0m",
      "\u001b[0;31mIndexError\u001b[0m                                Traceback (most recent call last)",
      "Cell \u001b[0;32mIn[36], line 1\u001b[0m\n\u001b[0;32m----> 1\u001b[0m sources \u001b[38;5;241m=\u001b[39m [doc\u001b[38;5;241m.\u001b[39mmetadata[\u001b[38;5;124m\"\u001b[39m\u001b[38;5;124msource\u001b[39m\u001b[38;5;124m\"\u001b[39m] \u001b[38;5;28;01mfor\u001b[39;00m doc \u001b[38;5;129;01min\u001b[39;00m final_response\u001b[38;5;241m.\u001b[39mtool_calls[\u001b[38;5;241m0\u001b[39m]\u001b[38;5;241m.\u001b[39martifact]\n",
      "\u001b[0;31mIndexError\u001b[0m: list index out of range"
     ]
    }
   ],
   "source": [
    "sources = [doc.metadata[\"source\"] for doc in final_response.tool_calls[0].artifact]\n"
   ]
  },
  {
   "cell_type": "code",
   "execution_count": 16,
   "metadata": {},
   "outputs": [
    {
     "name": "stdout",
     "output_type": "stream",
     "text": [
      "================================\u001b[1m Human Message \u001b[0m=================================\n",
      "\n",
      "Hvilke fodermærker kommer fra Canada?\n",
      "==================================\u001b[1m Ai Message \u001b[0m==================================\n",
      "Tool Calls:\n",
      "  retrieve (call_tTYrxjL4JmHyUV1txNlE90de)\n",
      " Call ID: call_tTYrxjL4JmHyUV1txNlE90de\n",
      "  Args:\n",
      "    query: fodermærker fra Canada\n",
      "=================================\u001b[1m Tool Message \u001b[0m=================================\n",
      "Name: retrieve\n",
      "\n",
      "Source: {'source': 'https://petguide.dk/hundefoder-maerker/', 'start_index': 2355, 'section': 'beginning'}\n",
      "Content: 1st Choice\n",
      "1st Choice er kvalitetsfoder lavet i Canada, af gode lokale råvarer skabt med det formål, at sikre at hunde får den rigtige ernæring gennem hele deres liv. Med special udviklede formler, sørger de for at hundens behov bliver opfyldt gennem hundens forskellige livsfaser. Velsmag er i højsæde, men der er samtidigt gjort ekstra ud af at sikre at hunden får ekstra energi, kontrolleret sin vægt, sund hud og pels. 1st Choices vigtigste formål er, at sikre at din bedste ven får det bedste af det bedste. Derudover får du også meget foder for pengene. Med foder fra 1st Choice får du kun kvalitets ingredienser, ingen animalske biprodukter, ingen majs, hvede eller soja, kun naturlige konserveringsmidler og velsmagende smagsvarianter.\n",
      "ACANA\n",
      "\n",
      "Source: {'source': 'https://petguide.dk/hundefoder-maerker/', 'start_index': 12524, 'section': 'middle'}\n",
      "Content: Pronature Holistic\n",
      "Pronature Holistic stammer fra Canada, som har verdens strengeste krav til dyreernæring. Derfor indeholder foderet heller ingen kunstige farvestoffer eller smagsstoffer. Det er foder, der er produceret med bæredygtighed og 100% naturlige og økologiske ingredienser. Pronature Holistic tilbyder en bred vifte af perfekt sammensatte og velbalancerede opskrifter tilpasset din hund, og desuden så er det velegnet til hunde med hud- og pelsproblemer. Ingredienserne sikrer en god fordøjelse og at foderet er velsmagende og frisk. Deres mål er, at tilbyde de ingredienser, der på bedste vis holder dit kæledyr sundt og velfungerende.\n",
      "\n",
      "Source: {'source': 'https://petguide.dk/hundefoder-maerker/', 'start_index': 3099, 'section': 'beginning'}\n",
      "Content: ACANA\n",
      "ACANA laver foder ud fra et biologisk perspektiv. Med udgangspunkt i grå ulven, faderen af alle hunderacer, forsøger de at tilbyde et produkt, der imiterer den næring hunde ville finde i naturen. Dette gør de på bedst mulig vis ved at sørge for samme mængde, friskhed og variation i kød som hunde ville spise i naturen. Foderet indeholder heller ingen animalske biprodukter. Råvarerne leveres friske fra lokale producenter i Canada, hvor mærket kommer fra. Foderet bliver produceret i deres køkkener, der også har ført til deres prisvindende foder. ACANAs foder er rigt på kød og protein, har et højt indhold af frisk kød med variation i kødet, udnyttelse af hele byttet og smart på kulhydrater.\n",
      "\n",
      "Source: {'source': 'https://petguide.dk/hundefoder-maerker/', 'start_index': 11187, 'section': 'middle'}\n",
      "Content: Orijen\n",
      "Orijen er canadisk og de tilbereder selv foderet i deres køkken i Alberta, Canada. Deres foder er rig på protein og fedt, og er kornfrit. Størstedelen af kød indholdet i foderet er frisk, hvilket betyder at det er fyldt med protein, fedt, vitaminer og mineraler. Resten er tørret, hvilket resulterer i en mere koncentreret form for protein. De råvarer, som bruges i foderet, er godkendt til også at kunne bruges af mennesker, og de bliver leveret frisk til køkkenet i Alberta hver dag. Med Orijen får du foder, som kommer tæt på hundens naturlige føde. Det giver den ultimative madoplevelse for hunde.\n",
      "\n",
      "Source: {'source': 'https://petguide.dk/hundefoder-maerker/', 'start_index': 9810, 'section': 'middle'}\n",
      "Content: NOW FRESH\n",
      "Foder fra Petcureans mærke Now Fresh er både korn- og glutenfri, og lavet med 100% frisk kød. De producerer foder til alle livsfaser og størrelser. Foderet indeholder fordøjelsesfremmende pre- og probiotika, Omega olier for en sund hund og pels, antioxidanter for øget immunitet, komplekse kulhydrater for hurtig energi og sunde bær, frugt og grøntsager. Med dette foder sikrer du din hund en nærende kost, og de bedste betingelser for en sund krop med masser af energi i det daglige. Lider din hund af allergi, har den mave-tarmproblemer eller skal den bare have det bedste af det bedste? Så er NOW FRESH et godt valg. Det er ikke for ingenting, at deres motto er “It could only be fresher if you made it from scratch” (“Det kunne kun være friskere, hvis du lavede det fra bunden.”)\n",
      "==================================\u001b[1m Ai Message \u001b[0m==================================\n",
      "\n",
      "Fodermærkerne, der kommer fra Canada, inkluderer 1st Choice, Pronature Holistic, ACANA, Orijen og NOW FRESH. Disse mærker fokuserer på kvalitetsingredienser og ernæring til hunde.\n"
     ]
    }
   ],
   "source": [
    "input_message = \"Hvilke fodermærker kommer fra Canada?\"\n",
    "\n",
    "for step in graph.stream(\n",
    "    {\"messages\": [{\"role\": \"user\", \"content\": input_message}]},\n",
    "    stream_mode=\"values\",\n",
    "    config=config,\n",
    "):\n",
    "    step[\"messages\"][-1].pretty_print()"
   ]
  }
 ],
 "metadata": {
  "kernelspec": {
   "display_name": "py311_DeepBark",
   "language": "python",
   "name": "python3"
  },
  "language_info": {
   "codemirror_mode": {
    "name": "ipython",
    "version": 3
   },
   "file_extension": ".py",
   "mimetype": "text/x-python",
   "name": "python",
   "nbconvert_exporter": "python",
   "pygments_lexer": "ipython3",
   "version": "3.11.9"
  }
 },
 "nbformat": 4,
 "nbformat_minor": 2
}
